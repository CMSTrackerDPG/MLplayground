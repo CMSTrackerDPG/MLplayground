{
 "cells": [
  {
   "cell_type": "code",
   "execution_count": 1,
   "id": "b95df4e2",
   "metadata": {},
   "outputs": [],
   "source": [
    "import os\n",
    "import django\n",
    "os.environ.setdefault('DJANGO_SETTINGS_MODULE', 'rest.settings')\n",
    "os.environ[\"DJANGO_ALLOW_ASYNC_UNSAFE\"] = \"true\"\n",
    "django.setup()"
   ]
  },
  {
   "cell_type": "code",
   "execution_count": 2,
   "id": "6aeb6ea3",
   "metadata": {},
   "outputs": [],
   "source": [
    "from runs.models import Run\n",
    "from run_histos.models import RunHisto"
   ]
  },
  {
   "cell_type": "code",
   "execution_count": 3,
   "id": "64de1c6d",
   "metadata": {},
   "outputs": [],
   "source": [
    "runs = Run.objects.all().values()"
   ]
  },
  {
   "cell_type": "code",
   "execution_count": 4,
   "id": "b056afe4",
   "metadata": {},
   "outputs": [
    {
     "data": {
      "text/plain": [
       "<QuerySet [{'id': 1, 'run_number': 315257, 'date': datetime.datetime(2021, 10, 22, 12, 35, 30, 551814, tzinfo=<UTC>)}]>"
      ]
     },
     "execution_count": 4,
     "metadata": {},
     "output_type": "execute_result"
    }
   ],
   "source": [
    "runs"
   ]
  },
  {
   "cell_type": "code",
   "execution_count": 5,
   "id": "a897f790",
   "metadata": {},
   "outputs": [],
   "source": [
    "run_histos = RunHisto.objects.all().values()"
   ]
  },
  {
   "cell_type": "code",
   "execution_count": 6,
   "id": "bd9589f5",
   "metadata": {},
   "outputs": [
    {
     "data": {
      "text/plain": [
       "<QuerySet [{'id': 1, 'run_id': 1, 'date': datetime.datetime(2021, 10, 22, 12, 35, 52, 542313, tzinfo=<UTC>), 'primary_dataset': 'ZeroBias', 'path': 'TrackParameters/generalTracks/GeneralProperties', 'title': 'AbsDistanceOfClosestApproachToBS_GenTk', 'entries': 34430387, 'mean': 0.4408986607028722, 'rms': 2.7660848356477787, 'skewness': 3.1844432366039466, 'kurtosis': 35.49796721670949}, {'id': 2, 'run_id': 1, 'date': datetime.datetime(2021, 10, 22, 12, 35, 52, 542435, tzinfo=<UTC>), 'primary_dataset': 'ZeroBias', 'path': 'TrackParameters/generalTracks/GeneralProperties', 'title': 'Chi2Prob_GenTk', 'entries': 34430387, 'mean': 0.4976234799881626, 'rms': 0.3221576306231199, 'skewness': -0.0897386293602985, 'kurtosis': -1.3396628431654571}, {'id': 3, 'run_id': 1, 'date': datetime.datetime(2021, 10, 22, 12, 35, 52, 542478, tzinfo=<UTC>), 'primary_dataset': 'ZeroBias', 'path': 'TrackParameters/generalTracks/GeneralProperties', 'title': 'Chi2_GenTk', 'entries': 34430387, 'mean': 18.86258613575725, 'rms': 66.96436488745448, 'skewness': 0.0467122297661773, 'kurtosis': -2.909549516612329}, {'id': 4, 'run_id': 1, 'date': datetime.datetime(2021, 10, 22, 12, 35, 52, 542520, tzinfo=<UTC>), 'primary_dataset': 'ZeroBias', 'path': 'TrackParameters/generalTracks/GeneralProperties', 'title': 'Chi2oNDFVsEta_ImpactPoint_GenTk', 'entries': 34421103, 'mean': -0.1033958190072156, 'rms': 1.5863032038008125, 'skewness': 0.2646048189088475, 'kurtosis': -0.0908439028431913}, {'id': 5, 'run_id': 1, 'date': datetime.datetime(2021, 10, 22, 12, 35, 52, 542553, tzinfo=<UTC>), 'primary_dataset': 'ZeroBias', 'path': 'TrackParameters/generalTracks/GeneralProperties', 'title': 'Chi2oNDFVsNHits_ImpactPoint_GenTk', 'entries': 34421103, 'mean': 11.321802703417143, 'rms': 6.708382042264757, 'skewness': 38.49912034559087, 'kurtosis': 175.5746156644505}, {'id': 6, 'run_id': 1, 'date': datetime.datetime(2021, 10, 22, 12, 35, 52, 542587, tzinfo=<UTC>), 'primary_dataset': 'ZeroBias', 'path': 'TrackParameters/generalTracks/GeneralProperties', 'title': 'Chi2oNDFVsPt_ImpactPoint_GenTk', 'entries': 34421103, 'mean': 0.7968908121472781, 'rms': 77.6118330000357, 'skewness': 0.5393403155426495, 'kurtosis': -2.446589307112048}, {'id': 7, 'run_id': 1, 'date': datetime.datetime(2021, 10, 22, 12, 35, 52, 542625, tzinfo=<UTC>), 'primary_dataset': 'ZeroBias', 'path': 'TrackParameters/generalTracks/GeneralProperties', 'title': 'Chi2oNDF_GenTk', 'entries': 34430387, 'mean': 1.6154905276933318, 'rms': 1510.2038535085555, 'skewness': 5.7198784387146016e-08, 'kurtosis': -2.9999999980380534}, {'id': 8, 'run_id': 1, 'date': datetime.datetime(2021, 10, 22, 12, 35, 52, 542659, tzinfo=<UTC>), 'primary_dataset': 'ZeroBias', 'path': 'TrackParameters/generalTracks/GeneralProperties', 'title': 'DeltaZToPVZoom_GenTk', 'entries': 34430387, 'mean': 0.0091549147040046, 'rms': 10.383029986832426, 'skewness': -8.231015073077855e-08, 'kurtosis': -2.999999996309315}, {'id': 9, 'run_id': 1, 'date': datetime.datetime(2021, 10, 22, 12, 35, 52, 542705, tzinfo=<UTC>), 'primary_dataset': 'ZeroBias', 'path': 'TrackParameters/generalTracks/GeneralProperties', 'title': 'DeltaZToPV_GenTk', 'entries': 34430387, 'mean': 0.0091549147040046, 'rms': 10.383029986832426, 'skewness': 0.0051270668221604, 'kurtosis': 0.2288262335711457}, {'id': 10, 'run_id': 1, 'date': datetime.datetime(2021, 10, 22, 12, 35, 52, 542745, tzinfo=<UTC>), 'primary_dataset': 'ZeroBias', 'path': 'TrackParameters/generalTracks/GeneralProperties', 'title': 'DistanceOfClosestApproachErrorVsDxy_GenTk', 'entries': 31954091, 'mean': -0.0020191290205558, 'rms': 0.7167024238908326, 'skewness': 0.0002218036075972, 'kurtosis': -2.9530751623235143}, {'id': 11, 'run_id': 1, 'date': datetime.datetime(2021, 10, 22, 12, 35, 52, 542778, tzinfo=<UTC>), 'primary_dataset': 'ZeroBias', 'path': 'TrackParameters/generalTracks/GeneralProperties', 'title': 'DistanceOfClosestApproachErrorVsEta_GenTk', 'entries': 31954091, 'mean': -0.0997855592416091, 'rms': 1.5616022916665384, 'skewness': 0.2466656039448701, 'kurtosis': 1.01488770215407}, {'id': 12, 'run_id': 1, 'date': datetime.datetime(2021, 10, 22, 12, 35, 52, 542811, tzinfo=<UTC>), 'primary_dataset': 'ZeroBias', 'path': 'TrackParameters/generalTracks/GeneralProperties', 'title': 'DistanceOfClosestApproachErrorVsPhi_GenTk', 'entries': 31954091, 'mean': -0.0166832013288221, 'rms': 1.8251029757445745, 'skewness': 0.0145435234021258, 'kurtosis': -1.1933833830795806}, {'id': 13, 'run_id': 1, 'date': datetime.datetime(2021, 10, 22, 12, 35, 52, 542868, tzinfo=<UTC>), 'primary_dataset': 'ZeroBias', 'path': 'TrackParameters/generalTracks/GeneralProperties', 'title': 'DistanceOfClosestApproachErrorVsPt_GenTk', 'entries': 31954091, 'mean': 0.8005047067609858, 'rms': 80.1358167817443, 'skewness': 0.4867560814326562, 'kurtosis': -2.5200078747997936}, {'id': 14, 'run_id': 1, 'date': datetime.datetime(2021, 10, 22, 12, 35, 52, 542903, tzinfo=<UTC>), 'primary_dataset': 'ZeroBias', 'path': 'TrackParameters/generalTracks/GeneralProperties', 'title': 'DistanceOfClosestApproachError_GenTk', 'entries': 34430387, 'mean': 0.0455036816363081, 'rms': 0.2335380731483884, 'skewness': -0.0016307038711564, 'kurtosis': -2.9996913144388087}, {'id': 15, 'run_id': 1, 'date': datetime.datetime(2021, 10, 22, 12, 35, 52, 542940, tzinfo=<UTC>), 'primary_dataset': 'ZeroBias', 'path': 'TrackParameters/generalTracks/GeneralProperties', 'title': 'DistanceOfClosestApproachToBSVsEta_GenTk', 'entries': 30197603, 'mean': -0.1098159127983732, 'rms': 1.5943441868352417, 'skewness': 2.6134099180500447, 'kurtosis': 0.0827819246699914}, {'id': 16, 'run_id': 1, 'date': datetime.datetime(2021, 10, 22, 12, 35, 52, 542972, tzinfo=<UTC>), 'primary_dataset': 'ZeroBias', 'path': 'TrackParameters/generalTracks/GeneralProperties', 'title': 'DistanceOfClosestApproachToBSVsPhi_GenTk', 'entries': 30197603, 'mean': -0.018632678164647, 'rms': 1.82521668238334, 'skewness': 0.3134314814402615, 'kurtosis': -1.29665197063474}, {'id': 17, 'run_id': 1, 'date': datetime.datetime(2021, 10, 22, 12, 35, 52, 543004, tzinfo=<UTC>), 'primary_dataset': 'ZeroBias', 'path': 'TrackParameters/generalTracks/GeneralProperties', 'title': 'DistanceOfClosestApproachToBS_GenTk', 'entries': 34430387, 'mean': -0.0030802838901059, 'rms': 2.801001152956089, 'skewness': 5.325323186948975e-06, 'kurtosis': -2.999985401557905}, {'id': 18, 'run_id': 1, 'date': datetime.datetime(2021, 10, 22, 12, 35, 52, 543036, tzinfo=<UTC>), 'primary_dataset': 'ZeroBias', 'path': 'TrackParameters/generalTracks/GeneralProperties', 'title': 'DistanceOfClosestApproachToBSdz_GenTk', 'entries': 34430387, 'mean': 0.0081011243981073, 'rms': 9.903432610733296, 'skewness': -6.766990203192198e-06, 'kurtosis': -2.999970222852764}, {'id': 19, 'run_id': 1, 'date': datetime.datetime(2021, 10, 22, 12, 35, 52, 543069, tzinfo=<UTC>), 'primary_dataset': 'ZeroBias', 'path': 'TrackParameters/generalTracks/GeneralProperties', 'title': 'DistanceOfClosestApproachToPVVsPhi_GenTk', 'entries': 30197497, 'mean': -0.0186239129678174, 'rms': 1.8252160398948307, 'skewness': 0.289777459522605, 'kurtosis': -1.1926808007591236}, {'id': 20, 'run_id': 1, 'date': datetime.datetime(2021, 10, 22, 12, 35, 52, 543101, tzinfo=<UTC>), 'primary_dataset': 'ZeroBias', 'path': 'TrackParameters/generalTracks/GeneralProperties', 'title': 'DistanceOfClosestApproachToPVZoom_GenTk', 'entries': 34430387, 'mean': -0.0030790431219883, 'rms': 2.801001619472027, 'skewness': 2.7566715066489404e-07, 'kurtosis': -2.9999999727437063}, '...(remaining elements truncated)...']>"
      ]
     },
     "execution_count": 6,
     "metadata": {},
     "output_type": "execute_result"
    }
   ],
   "source": [
    "run_histos"
   ]
  },
  {
   "cell_type": "code",
   "execution_count": null,
   "id": "215d8912",
   "metadata": {},
   "outputs": [],
   "source": []
  }
 ],
 "metadata": {
  "kernelspec": {
   "display_name": "Django Shell-Plus",
   "language": "python",
   "name": "django_extensions"
  },
  "language_info": {
   "codemirror_mode": {
    "name": "ipython",
    "version": 3
   },
   "file_extension": ".py",
   "mimetype": "text/x-python",
   "name": "python",
   "nbconvert_exporter": "python",
   "pygments_lexer": "ipython3",
   "version": "3.9.7"
  }
 },
 "nbformat": 4,
 "nbformat_minor": 5
}
