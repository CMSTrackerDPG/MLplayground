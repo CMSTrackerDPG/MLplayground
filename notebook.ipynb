{
 "cells": [
  {
   "cell_type": "code",
   "execution_count": 1,
   "id": "b95df4e2",
   "metadata": {},
   "outputs": [],
   "source": [
    "import os\n",
    "import django\n",
    "os.environ.setdefault('DJANGO_SETTINGS_MODULE', 'rest.settings')\n",
    "os.environ[\"DJANGO_ALLOW_ASYNC_UNSAFE\"] = \"true\"\n",
    "django.setup()"
   ]
  },
  {
   "cell_type": "code",
   "execution_count": 2,
   "id": "6aeb6ea3",
   "metadata": {},
   "outputs": [],
   "source": [
    "from runs.models import Run\n",
    "from run_histos.models import RunHisto"
   ]
  },
  {
   "cell_type": "code",
   "execution_count": 3,
   "id": "64de1c6d",
   "metadata": {},
   "outputs": [],
   "source": [
    "runs = Run.objects.all().values()"
   ]
  },
  {
   "cell_type": "code",
   "execution_count": 4,
   "id": "b056afe4",
   "metadata": {},
   "outputs": [
    {
     "data": {
      "text/plain": [
       "{'id': 1,\n",
       " 'run_number': 315257,\n",
       " 'date': datetime.datetime(2021, 10, 22, 12, 35, 30, 551814, tzinfo=<UTC>)}"
      ]
     },
     "execution_count": 4,
     "metadata": {},
     "output_type": "execute_result"
    }
   ],
   "source": [
    "runs[0]"
   ]
  },
  {
   "cell_type": "code",
   "execution_count": 5,
   "id": "a897f790",
   "metadata": {},
   "outputs": [],
   "source": [
    "run_histos = RunHisto.objects.all().values()"
   ]
  },
  {
   "cell_type": "code",
   "execution_count": 6,
   "id": "bd9589f5",
   "metadata": {},
   "outputs": [
    {
     "data": {
      "text/plain": [
       "{'id': 1,\n",
       " 'run_id': 1,\n",
       " 'date': datetime.datetime(2021, 10, 22, 12, 35, 52, 542313, tzinfo=<UTC>),\n",
       " 'primary_dataset': 'ZeroBias',\n",
       " 'path': 'TrackParameters/generalTracks/GeneralProperties',\n",
       " 'title': 'AbsDistanceOfClosestApproachToBS_GenTk',\n",
       " 'entries': 34430387,\n",
       " 'mean': 0.4408986607028722,\n",
       " 'rms': 2.7660848356477787,\n",
       " 'skewness': 3.1844432366039466,\n",
       " 'kurtosis': 35.49796721670949}"
      ]
     },
     "execution_count": 6,
     "metadata": {},
     "output_type": "execute_result"
    }
   ],
   "source": [
    "run_histos[0]"
   ]
  },
  {
   "cell_type": "code",
   "execution_count": null,
   "id": "215d8912",
   "metadata": {},
   "outputs": [],
   "source": []
  }
 ],
 "metadata": {
  "kernelspec": {
   "display_name": "Django Shell-Plus",
   "language": "python",
   "name": "django_extensions"
  },
  "language_info": {
   "codemirror_mode": {
    "name": "ipython",
    "version": 3
   },
   "file_extension": ".py",
   "mimetype": "text/x-python",
   "name": "python",
   "nbconvert_exporter": "python",
   "pygments_lexer": "ipython3",
   "version": "3.9.7"
  }
 },
 "nbformat": 4,
 "nbformat_minor": 5
}
