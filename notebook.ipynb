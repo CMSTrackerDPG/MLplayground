{
 "cells": [
  {
   "cell_type": "code",
   "execution_count": 1,
   "id": "b95df4e2",
   "metadata": {},
   "outputs": [],
   "source": [
    "import os\n",
    "import django\n",
    "os.environ.setdefault('DJANGO_SETTINGS_MODULE', 'rest.settings')\n",
    "os.environ[\"DJANGO_ALLOW_ASYNC_UNSAFE\"] = \"true\"\n",
    "django.setup()"
   ]
  },
  {
   "cell_type": "code",
   "execution_count": 2,
   "id": "6aeb6ea3",
   "metadata": {},
   "outputs": [],
   "source": [
    "from runs.models import Run\n",
    "from run_histos.models import RunHisto"
   ]
  },
  {
   "cell_type": "code",
   "execution_count": 3,
   "id": "0162a7cc",
   "metadata": {},
   "outputs": [],
   "source": [
    "import pandas as pd\n",
    "import numpy as np\n",
    "import altair as alt"
   ]
  },
  {
   "cell_type": "code",
   "execution_count": null,
   "id": "253b0e45",
   "metadata": {},
   "outputs": [],
   "source": []
  },
  {
   "cell_type": "markdown",
   "id": "786ff643",
   "metadata": {},
   "source": [
    "## Checking apps"
   ]
  },
  {
   "cell_type": "code",
   "execution_count": 4,
   "id": "64de1c6d",
   "metadata": {},
   "outputs": [],
   "source": [
    "runs = Run.objects.all().values()"
   ]
  },
  {
   "cell_type": "code",
   "execution_count": 5,
   "id": "b056afe4",
   "metadata": {},
   "outputs": [
    {
     "data": {
      "text/plain": [
       "{'id': 1,\n",
       " 'run_number': 315257,\n",
       " 'date': datetime.datetime(2021, 10, 25, 15, 37, 22, 290978, tzinfo=<UTC>)}"
      ]
     },
     "execution_count": 5,
     "metadata": {},
     "output_type": "execute_result"
    }
   ],
   "source": [
    "runs[0]"
   ]
  },
  {
   "cell_type": "code",
   "execution_count": 6,
   "id": "a897f790",
   "metadata": {},
   "outputs": [],
   "source": [
    "run_histos = RunHisto.objects.all().values()"
   ]
  },
  {
   "cell_type": "code",
   "execution_count": 7,
   "id": "bd9589f5",
   "metadata": {},
   "outputs": [
    {
     "data": {
      "text/plain": [
       "{'id': 1,\n",
       " 'run_id': 1,\n",
       " 'date': datetime.datetime(2021, 10, 25, 15, 37, 22, 710167, tzinfo=<UTC>),\n",
       " 'primary_dataset': 'ZeroBias',\n",
       " 'path': 'TrackParameters/generalTracks/GeneralProperties',\n",
       " 'title': 'AbsDistanceOfClosestApproachToBS_GenTk',\n",
       " 'entries': 34430387,\n",
       " 'mean': 0.4408986607028722,\n",
       " 'rms': 2.7660848356477787,\n",
       " 'skewness': 3.1844432366039466,\n",
       " 'kurtosis': 35.49796721670949}"
      ]
     },
     "execution_count": 7,
     "metadata": {},
     "output_type": "execute_result"
    }
   ],
   "source": [
    "run_histos[0]"
   ]
  },
  {
   "cell_type": "code",
   "execution_count": null,
   "id": "215d8912",
   "metadata": {},
   "outputs": [],
   "source": []
  },
  {
   "cell_type": "markdown",
   "id": "2f876830",
   "metadata": {},
   "source": [
    "## Converting to dataframes"
   ]
  },
  {
   "cell_type": "code",
   "execution_count": 8,
   "id": "76e78f5f",
   "metadata": {},
   "outputs": [],
   "source": [
    "df = pd.DataFrame(run_histos)"
   ]
  },
  {
   "cell_type": "code",
   "execution_count": 9,
   "id": "3a0284f1",
   "metadata": {},
   "outputs": [
    {
     "data": {
      "text/html": [
       "<div>\n",
       "<style scoped>\n",
       "    .dataframe tbody tr th:only-of-type {\n",
       "        vertical-align: middle;\n",
       "    }\n",
       "\n",
       "    .dataframe tbody tr th {\n",
       "        vertical-align: top;\n",
       "    }\n",
       "\n",
       "    .dataframe thead th {\n",
       "        text-align: right;\n",
       "    }\n",
       "</style>\n",
       "<table border=\"1\" class=\"dataframe\">\n",
       "  <thead>\n",
       "    <tr style=\"text-align: right;\">\n",
       "      <th></th>\n",
       "      <th>id</th>\n",
       "      <th>run_id</th>\n",
       "      <th>date</th>\n",
       "      <th>primary_dataset</th>\n",
       "      <th>path</th>\n",
       "      <th>title</th>\n",
       "      <th>entries</th>\n",
       "      <th>mean</th>\n",
       "      <th>rms</th>\n",
       "      <th>skewness</th>\n",
       "      <th>kurtosis</th>\n",
       "    </tr>\n",
       "  </thead>\n",
       "  <tbody>\n",
       "    <tr>\n",
       "      <th>0</th>\n",
       "      <td>1</td>\n",
       "      <td>1</td>\n",
       "      <td>2021-10-25 15:37:22.710167+00:00</td>\n",
       "      <td>ZeroBias</td>\n",
       "      <td>TrackParameters/generalTracks/GeneralProperties</td>\n",
       "      <td>AbsDistanceOfClosestApproachToBS_GenTk</td>\n",
       "      <td>34430387</td>\n",
       "      <td>0.440899</td>\n",
       "      <td>2.766085</td>\n",
       "      <td>3.184443</td>\n",
       "      <td>35.497967</td>\n",
       "    </tr>\n",
       "    <tr>\n",
       "      <th>1</th>\n",
       "      <td>2</td>\n",
       "      <td>1</td>\n",
       "      <td>2021-10-25 15:37:22.710269+00:00</td>\n",
       "      <td>ZeroBias</td>\n",
       "      <td>TrackParameters/generalTracks/GeneralProperties</td>\n",
       "      <td>Chi2Prob_GenTk</td>\n",
       "      <td>34430387</td>\n",
       "      <td>0.497623</td>\n",
       "      <td>0.322158</td>\n",
       "      <td>-0.089739</td>\n",
       "      <td>-1.339663</td>\n",
       "    </tr>\n",
       "    <tr>\n",
       "      <th>2</th>\n",
       "      <td>3</td>\n",
       "      <td>1</td>\n",
       "      <td>2021-10-25 15:37:22.710310+00:00</td>\n",
       "      <td>ZeroBias</td>\n",
       "      <td>TrackParameters/generalTracks/GeneralProperties</td>\n",
       "      <td>Chi2_GenTk</td>\n",
       "      <td>34430387</td>\n",
       "      <td>18.862586</td>\n",
       "      <td>66.964365</td>\n",
       "      <td>0.046712</td>\n",
       "      <td>-2.909550</td>\n",
       "    </tr>\n",
       "    <tr>\n",
       "      <th>3</th>\n",
       "      <td>4</td>\n",
       "      <td>1</td>\n",
       "      <td>2021-10-25 15:37:22.710343+00:00</td>\n",
       "      <td>ZeroBias</td>\n",
       "      <td>TrackParameters/generalTracks/GeneralProperties</td>\n",
       "      <td>Chi2oNDFVsEta_ImpactPoint_GenTk</td>\n",
       "      <td>34421103</td>\n",
       "      <td>-0.103396</td>\n",
       "      <td>1.586303</td>\n",
       "      <td>0.264605</td>\n",
       "      <td>-0.090844</td>\n",
       "    </tr>\n",
       "    <tr>\n",
       "      <th>4</th>\n",
       "      <td>5</td>\n",
       "      <td>1</td>\n",
       "      <td>2021-10-25 15:37:22.710387+00:00</td>\n",
       "      <td>ZeroBias</td>\n",
       "      <td>TrackParameters/generalTracks/GeneralProperties</td>\n",
       "      <td>Chi2oNDFVsNHits_ImpactPoint_GenTk</td>\n",
       "      <td>34421103</td>\n",
       "      <td>11.321803</td>\n",
       "      <td>6.708382</td>\n",
       "      <td>38.499120</td>\n",
       "      <td>175.574616</td>\n",
       "    </tr>\n",
       "  </tbody>\n",
       "</table>\n",
       "</div>"
      ],
      "text/plain": [
       "   id  run_id                             date primary_dataset  \\\n",
       "0   1       1 2021-10-25 15:37:22.710167+00:00        ZeroBias   \n",
       "1   2       1 2021-10-25 15:37:22.710269+00:00        ZeroBias   \n",
       "2   3       1 2021-10-25 15:37:22.710310+00:00        ZeroBias   \n",
       "3   4       1 2021-10-25 15:37:22.710343+00:00        ZeroBias   \n",
       "4   5       1 2021-10-25 15:37:22.710387+00:00        ZeroBias   \n",
       "\n",
       "                                              path  \\\n",
       "0  TrackParameters/generalTracks/GeneralProperties   \n",
       "1  TrackParameters/generalTracks/GeneralProperties   \n",
       "2  TrackParameters/generalTracks/GeneralProperties   \n",
       "3  TrackParameters/generalTracks/GeneralProperties   \n",
       "4  TrackParameters/generalTracks/GeneralProperties   \n",
       "\n",
       "                                    title   entries       mean        rms  \\\n",
       "0  AbsDistanceOfClosestApproachToBS_GenTk  34430387   0.440899   2.766085   \n",
       "1                          Chi2Prob_GenTk  34430387   0.497623   0.322158   \n",
       "2                              Chi2_GenTk  34430387  18.862586  66.964365   \n",
       "3         Chi2oNDFVsEta_ImpactPoint_GenTk  34421103  -0.103396   1.586303   \n",
       "4       Chi2oNDFVsNHits_ImpactPoint_GenTk  34421103  11.321803   6.708382   \n",
       "\n",
       "    skewness    kurtosis  \n",
       "0   3.184443   35.497967  \n",
       "1  -0.089739   -1.339663  \n",
       "2   0.046712   -2.909550  \n",
       "3   0.264605   -0.090844  \n",
       "4  38.499120  175.574616  "
      ]
     },
     "execution_count": 9,
     "metadata": {},
     "output_type": "execute_result"
    }
   ],
   "source": [
    "df.head()"
   ]
  },
  {
   "cell_type": "code",
   "execution_count": null,
   "id": "31f284d1",
   "metadata": {},
   "outputs": [],
   "source": []
  },
  {
   "cell_type": "markdown",
   "id": "1ba4f204",
   "metadata": {},
   "source": [
    "## Filtering"
   ]
  },
  {
   "cell_type": "code",
   "execution_count": 10,
   "id": "89c1c27d",
   "metadata": {},
   "outputs": [],
   "source": [
    "select_title = ['Chi2Prob_GenTk', 'Chi2_GenTk']"
   ]
  },
  {
   "cell_type": "code",
   "execution_count": 11,
   "id": "20786fd3",
   "metadata": {},
   "outputs": [],
   "source": [
    "df_filtered = df[df['title'].isin(select_title)][['primary_dataset', 'run_id', 'title', 'mean']]"
   ]
  },
  {
   "cell_type": "code",
   "execution_count": 12,
   "id": "f21db4be",
   "metadata": {},
   "outputs": [
    {
     "data": {
      "text/html": [
       "<div>\n",
       "<style scoped>\n",
       "    .dataframe tbody tr th:only-of-type {\n",
       "        vertical-align: middle;\n",
       "    }\n",
       "\n",
       "    .dataframe tbody tr th {\n",
       "        vertical-align: top;\n",
       "    }\n",
       "\n",
       "    .dataframe thead th {\n",
       "        text-align: right;\n",
       "    }\n",
       "</style>\n",
       "<table border=\"1\" class=\"dataframe\">\n",
       "  <thead>\n",
       "    <tr style=\"text-align: right;\">\n",
       "      <th></th>\n",
       "      <th>primary_dataset</th>\n",
       "      <th>run_id</th>\n",
       "      <th>title</th>\n",
       "      <th>mean</th>\n",
       "    </tr>\n",
       "  </thead>\n",
       "  <tbody>\n",
       "    <tr>\n",
       "      <th>1</th>\n",
       "      <td>ZeroBias</td>\n",
       "      <td>1</td>\n",
       "      <td>Chi2Prob_GenTk</td>\n",
       "      <td>0.497623</td>\n",
       "    </tr>\n",
       "    <tr>\n",
       "      <th>2</th>\n",
       "      <td>ZeroBias</td>\n",
       "      <td>1</td>\n",
       "      <td>Chi2_GenTk</td>\n",
       "      <td>18.862586</td>\n",
       "    </tr>\n",
       "    <tr>\n",
       "      <th>97</th>\n",
       "      <td>EGamma</td>\n",
       "      <td>2</td>\n",
       "      <td>Chi2Prob_GenTk</td>\n",
       "      <td>0.492466</td>\n",
       "    </tr>\n",
       "    <tr>\n",
       "      <th>98</th>\n",
       "      <td>EGamma</td>\n",
       "      <td>2</td>\n",
       "      <td>Chi2_GenTk</td>\n",
       "      <td>19.083402</td>\n",
       "    </tr>\n",
       "    <tr>\n",
       "      <th>180</th>\n",
       "      <td>EGamma</td>\n",
       "      <td>3</td>\n",
       "      <td>Chi2Prob_GenTk</td>\n",
       "      <td>0.486288</td>\n",
       "    </tr>\n",
       "    <tr>\n",
       "      <th>...</th>\n",
       "      <td>...</td>\n",
       "      <td>...</td>\n",
       "      <td>...</td>\n",
       "      <td>...</td>\n",
       "    </tr>\n",
       "    <tr>\n",
       "      <th>57534</th>\n",
       "      <td>JetHT</td>\n",
       "      <td>151</td>\n",
       "      <td>Chi2_GenTk</td>\n",
       "      <td>19.614357</td>\n",
       "    </tr>\n",
       "    <tr>\n",
       "      <th>57616</th>\n",
       "      <td>JetHT</td>\n",
       "      <td>153</td>\n",
       "      <td>Chi2Prob_GenTk</td>\n",
       "      <td>0.473647</td>\n",
       "    </tr>\n",
       "    <tr>\n",
       "      <th>57617</th>\n",
       "      <td>JetHT</td>\n",
       "      <td>153</td>\n",
       "      <td>Chi2_GenTk</td>\n",
       "      <td>19.476241</td>\n",
       "    </tr>\n",
       "    <tr>\n",
       "      <th>57699</th>\n",
       "      <td>JetHT</td>\n",
       "      <td>154</td>\n",
       "      <td>Chi2Prob_GenTk</td>\n",
       "      <td>0.442081</td>\n",
       "    </tr>\n",
       "    <tr>\n",
       "      <th>57700</th>\n",
       "      <td>JetHT</td>\n",
       "      <td>154</td>\n",
       "      <td>Chi2_GenTk</td>\n",
       "      <td>20.097355</td>\n",
       "    </tr>\n",
       "  </tbody>\n",
       "</table>\n",
       "<p>1392 rows × 4 columns</p>\n",
       "</div>"
      ],
      "text/plain": [
       "      primary_dataset  run_id           title       mean\n",
       "1            ZeroBias       1  Chi2Prob_GenTk   0.497623\n",
       "2            ZeroBias       1      Chi2_GenTk  18.862586\n",
       "97             EGamma       2  Chi2Prob_GenTk   0.492466\n",
       "98             EGamma       2      Chi2_GenTk  19.083402\n",
       "180            EGamma       3  Chi2Prob_GenTk   0.486288\n",
       "...               ...     ...             ...        ...\n",
       "57534           JetHT     151      Chi2_GenTk  19.614357\n",
       "57616           JetHT     153  Chi2Prob_GenTk   0.473647\n",
       "57617           JetHT     153      Chi2_GenTk  19.476241\n",
       "57699           JetHT     154  Chi2Prob_GenTk   0.442081\n",
       "57700           JetHT     154      Chi2_GenTk  20.097355\n",
       "\n",
       "[1392 rows x 4 columns]"
      ]
     },
     "execution_count": 12,
     "metadata": {},
     "output_type": "execute_result"
    }
   ],
   "source": [
    "df_filtered"
   ]
  },
  {
   "cell_type": "code",
   "execution_count": 13,
   "id": "a890359c",
   "metadata": {},
   "outputs": [],
   "source": [
    "df_filtered = df_filtered.pivot(index=['primary_dataset', 'run_id'], columns='title', values='mean').reset_index()"
   ]
  },
  {
   "cell_type": "code",
   "execution_count": 14,
   "id": "5b78479c",
   "metadata": {},
   "outputs": [
    {
     "data": {
      "text/html": [
       "<div>\n",
       "<style scoped>\n",
       "    .dataframe tbody tr th:only-of-type {\n",
       "        vertical-align: middle;\n",
       "    }\n",
       "\n",
       "    .dataframe tbody tr th {\n",
       "        vertical-align: top;\n",
       "    }\n",
       "\n",
       "    .dataframe thead th {\n",
       "        text-align: right;\n",
       "    }\n",
       "</style>\n",
       "<table border=\"1\" class=\"dataframe\">\n",
       "  <thead>\n",
       "    <tr style=\"text-align: right;\">\n",
       "      <th>title</th>\n",
       "      <th>primary_dataset</th>\n",
       "      <th>run_id</th>\n",
       "      <th>Chi2Prob_GenTk</th>\n",
       "      <th>Chi2_GenTk</th>\n",
       "    </tr>\n",
       "  </thead>\n",
       "  <tbody>\n",
       "    <tr>\n",
       "      <th>0</th>\n",
       "      <td>EGamma</td>\n",
       "      <td>2</td>\n",
       "      <td>0.492466</td>\n",
       "      <td>19.083402</td>\n",
       "    </tr>\n",
       "    <tr>\n",
       "      <th>1</th>\n",
       "      <td>EGamma</td>\n",
       "      <td>3</td>\n",
       "      <td>0.486288</td>\n",
       "      <td>19.146579</td>\n",
       "    </tr>\n",
       "    <tr>\n",
       "      <th>2</th>\n",
       "      <td>EGamma</td>\n",
       "      <td>4</td>\n",
       "      <td>0.499791</td>\n",
       "      <td>19.027085</td>\n",
       "    </tr>\n",
       "    <tr>\n",
       "      <th>3</th>\n",
       "      <td>EGamma</td>\n",
       "      <td>5</td>\n",
       "      <td>0.489095</td>\n",
       "      <td>19.103232</td>\n",
       "    </tr>\n",
       "    <tr>\n",
       "      <th>4</th>\n",
       "      <td>EGamma</td>\n",
       "      <td>6</td>\n",
       "      <td>0.483947</td>\n",
       "      <td>19.190387</td>\n",
       "    </tr>\n",
       "    <tr>\n",
       "      <th>...</th>\n",
       "      <td>...</td>\n",
       "      <td>...</td>\n",
       "      <td>...</td>\n",
       "      <td>...</td>\n",
       "    </tr>\n",
       "    <tr>\n",
       "      <th>691</th>\n",
       "      <td>JetHT</td>\n",
       "      <td>154</td>\n",
       "      <td>0.442081</td>\n",
       "      <td>20.097355</td>\n",
       "    </tr>\n",
       "    <tr>\n",
       "      <th>692</th>\n",
       "      <td>JetHT</td>\n",
       "      <td>542</td>\n",
       "      <td>0.495271</td>\n",
       "      <td>19.129277</td>\n",
       "    </tr>\n",
       "    <tr>\n",
       "      <th>693</th>\n",
       "      <td>JetHT</td>\n",
       "      <td>543</td>\n",
       "      <td>0.469204</td>\n",
       "      <td>19.599869</td>\n",
       "    </tr>\n",
       "    <tr>\n",
       "      <th>694</th>\n",
       "      <td>JetHT</td>\n",
       "      <td>544</td>\n",
       "      <td>0.478707</td>\n",
       "      <td>19.342482</td>\n",
       "    </tr>\n",
       "    <tr>\n",
       "      <th>695</th>\n",
       "      <td>ZeroBias</td>\n",
       "      <td>1</td>\n",
       "      <td>0.497623</td>\n",
       "      <td>18.862586</td>\n",
       "    </tr>\n",
       "  </tbody>\n",
       "</table>\n",
       "<p>696 rows × 4 columns</p>\n",
       "</div>"
      ],
      "text/plain": [
       "title primary_dataset  run_id  Chi2Prob_GenTk  Chi2_GenTk\n",
       "0              EGamma       2        0.492466   19.083402\n",
       "1              EGamma       3        0.486288   19.146579\n",
       "2              EGamma       4        0.499791   19.027085\n",
       "3              EGamma       5        0.489095   19.103232\n",
       "4              EGamma       6        0.483947   19.190387\n",
       "..                ...     ...             ...         ...\n",
       "691             JetHT     154        0.442081   20.097355\n",
       "692             JetHT     542        0.495271   19.129277\n",
       "693             JetHT     543        0.469204   19.599869\n",
       "694             JetHT     544        0.478707   19.342482\n",
       "695          ZeroBias       1        0.497623   18.862586\n",
       "\n",
       "[696 rows x 4 columns]"
      ]
     },
     "execution_count": 14,
     "metadata": {},
     "output_type": "execute_result"
    }
   ],
   "source": [
    "df_filtered"
   ]
  },
  {
   "cell_type": "code",
   "execution_count": 15,
   "id": "19e79e5e",
   "metadata": {},
   "outputs": [
    {
     "data": {
      "text/plain": [
       "array(['EGamma', 'JetHT', 'ZeroBias'], dtype=object)"
      ]
     },
     "execution_count": 15,
     "metadata": {},
     "output_type": "execute_result"
    }
   ],
   "source": [
    "df_filtered.primary_dataset.unique()"
   ]
  },
  {
   "cell_type": "code",
   "execution_count": null,
   "id": "1e70de59",
   "metadata": {},
   "outputs": [],
   "source": []
  },
  {
   "cell_type": "markdown",
   "id": "dad6535a",
   "metadata": {},
   "source": [
    "## Testing cross-filtering with altair"
   ]
  },
  {
   "cell_type": "code",
   "execution_count": 16,
   "id": "e2ce2510",
   "metadata": {},
   "outputs": [],
   "source": [
    "source = df_filtered"
   ]
  },
  {
   "cell_type": "code",
   "execution_count": 17,
   "id": "bb329f3d",
   "metadata": {},
   "outputs": [],
   "source": [
    "brush_EGamma   = alt.selection(type='interval')\n",
    "brush_JetHT    = alt.selection(type='interval')\n",
    "brush_ZeroBias = alt.selection(type='interval')"
   ]
  },
  {
   "cell_type": "code",
   "execution_count": 18,
   "id": "b5a40a03",
   "metadata": {},
   "outputs": [],
   "source": [
    "EGamma = alt.Chart(source[source['primary_dataset']=='EGamma']).mark_point().encode(\n",
    "    x='Chi2Prob_GenTk:Q',\n",
    "    y='Chi2_GenTk:Q',\n",
    "    color=alt.condition(brush_EGamma|brush_JetHT|brush_ZeroBias, 'primary_dataset', alt.value('lightgray'))\n",
    ").add_selection(\n",
    "    brush_EGamma\n",
    ")"
   ]
  },
  {
   "cell_type": "code",
   "execution_count": 19,
   "id": "28351c10",
   "metadata": {},
   "outputs": [],
   "source": [
    "JetHT = alt.Chart(source[source['primary_dataset']=='JetHT']).mark_point().encode(\n",
    "    x='Chi2Prob_GenTk:Q',\n",
    "    y='Chi2_GenTk:Q',\n",
    "    color=alt.condition(brush_EGamma|brush_JetHT|brush_ZeroBias, 'primary_dataset', alt.value('lightgray'))\n",
    ").add_selection(\n",
    "    brush_JetHT\n",
    ")"
   ]
  },
  {
   "cell_type": "code",
   "execution_count": 20,
   "id": "bc80295e",
   "metadata": {},
   "outputs": [],
   "source": [
    "ZeroBias = alt.Chart(source[source['primary_dataset']=='ZeroBias']).mark_point().encode(\n",
    "    x='Chi2Prob_GenTk:Q',\n",
    "    y='Chi2_GenTk:Q',\n",
    "    color=alt.condition(brush_EGamma|brush_JetHT|brush_ZeroBias, 'primary_dataset', alt.value('lightgray'))\n",
    ").add_selection(\n",
    "    brush_ZeroBias\n",
    ")"
   ]
  },
  {
   "cell_type": "code",
   "execution_count": 21,
   "id": "7f3a3588",
   "metadata": {},
   "outputs": [
    {
     "data": {
      "text/html": [
       "\n",
       "<div id=\"altair-viz-dbf3014ee431451ab0e766ba79f4087c\"></div>\n",
       "<script type=\"text/javascript\">\n",
       "  (function(spec, embedOpt){\n",
       "    let outputDiv = document.currentScript.previousElementSibling;\n",
       "    if (outputDiv.id !== \"altair-viz-dbf3014ee431451ab0e766ba79f4087c\") {\n",
       "      outputDiv = document.getElementById(\"altair-viz-dbf3014ee431451ab0e766ba79f4087c\");\n",
       "    }\n",
       "    const paths = {\n",
       "      \"vega\": \"https://cdn.jsdelivr.net/npm//vega@5?noext\",\n",
       "      \"vega-lib\": \"https://cdn.jsdelivr.net/npm//vega-lib?noext\",\n",
       "      \"vega-lite\": \"https://cdn.jsdelivr.net/npm//vega-lite@4.8.1?noext\",\n",
       "      \"vega-embed\": \"https://cdn.jsdelivr.net/npm//vega-embed@6?noext\",\n",
       "    };\n",
       "\n",
       "    function loadScript(lib) {\n",
       "      return new Promise(function(resolve, reject) {\n",
       "        var s = document.createElement('script');\n",
       "        s.src = paths[lib];\n",
       "        s.async = true;\n",
       "        s.onload = () => resolve(paths[lib]);\n",
       "        s.onerror = () => reject(`Error loading script: ${paths[lib]}`);\n",
       "        document.getElementsByTagName(\"head\")[0].appendChild(s);\n",
       "      });\n",
       "    }\n",
       "\n",
       "    function showError(err) {\n",
       "      outputDiv.innerHTML = `<div class=\"error\" style=\"color:red;\">${err}</div>`;\n",
       "      throw err;\n",
       "    }\n",
       "\n",
       "    function displayChart(vegaEmbed) {\n",
       "      vegaEmbed(outputDiv, spec, embedOpt)\n",
       "        .catch(err => showError(`Javascript Error: ${err.message}<br>This usually means there's a typo in your chart specification. See the javascript console for the full traceback.`));\n",
       "    }\n",
       "\n",
       "    if(typeof define === \"function\" && define.amd) {\n",
       "      requirejs.config({paths});\n",
       "      require([\"vega-embed\"], displayChart, err => showError(`Error loading script: ${err.message}`));\n",
       "    } else if (typeof vegaEmbed === \"function\") {\n",
       "      displayChart(vegaEmbed);\n",
       "    } else {\n",
       "      loadScript(\"vega\")\n",
       "        .then(() => loadScript(\"vega-lite\"))\n",
       "        .then(() => loadScript(\"vega-embed\"))\n",
       "        .catch(showError)\n",
       "        .then(() => displayChart(vegaEmbed));\n",
       "    }\n",
       "  })({\"config\": {\"view\": {\"continuousWidth\": 400, \"continuousHeight\": 300}}, \"vconcat\": [{\"data\": {\"name\": \"data-eac4bd455fb1f0d6bcd07beec3283b1d\"}, \"mark\": \"point\", \"encoding\": {\"color\": {\"condition\": {\"type\": \"nominal\", \"field\": \"primary_dataset\", \"selection\": {\"or\": [{\"or\": [\"selector001\", \"selector002\"]}, \"selector003\"]}}, \"value\": \"lightgray\"}, \"x\": {\"type\": \"quantitative\", \"field\": \"Chi2Prob_GenTk\"}, \"y\": {\"type\": \"quantitative\", \"field\": \"Chi2_GenTk\"}}, \"selection\": {\"selector001\": {\"type\": \"interval\"}}}, {\"data\": {\"name\": \"data-c806fe3d43725ad3fe69393067d115ee\"}, \"mark\": \"point\", \"encoding\": {\"color\": {\"condition\": {\"type\": \"nominal\", \"field\": \"primary_dataset\", \"selection\": {\"or\": [{\"or\": [\"selector001\", \"selector002\"]}, \"selector003\"]}}, \"value\": \"lightgray\"}, \"x\": {\"type\": \"quantitative\", \"field\": \"Chi2Prob_GenTk\"}, \"y\": {\"type\": \"quantitative\", \"field\": \"Chi2_GenTk\"}}, \"selection\": {\"selector002\": {\"type\": \"interval\"}}}, {\"data\": {\"name\": \"data-5bc4f04149f8a92c6e999d9133c24b17\"}, \"mark\": \"point\", \"encoding\": {\"color\": {\"condition\": {\"type\": \"nominal\", \"field\": \"primary_dataset\", \"selection\": {\"or\": [{\"or\": [\"selector001\", \"selector002\"]}, \"selector003\"]}}, \"value\": \"lightgray\"}, \"x\": {\"type\": \"quantitative\", \"field\": \"Chi2Prob_GenTk\"}, \"y\": {\"type\": \"quantitative\", \"field\": \"Chi2_GenTk\"}}, \"selection\": {\"selector003\": {\"type\": \"interval\"}}}], \"$schema\": \"https://vega.github.io/schema/vega-lite/v4.8.1.json\", \"datasets\": {\"data-eac4bd455fb1f0d6bcd07beec3283b1d\": [{\"primary_dataset\": \"EGamma\", \"run_id\": 2, \"Chi2Prob_GenTk\": 0.4924662347407649, \"Chi2_GenTk\": 19.083402124725044}, {\"primary_dataset\": \"EGamma\", \"run_id\": 3, \"Chi2Prob_GenTk\": 0.4862879798659411, \"Chi2_GenTk\": 19.146579441851244}, {\"primary_dataset\": \"EGamma\", \"run_id\": 4, \"Chi2Prob_GenTk\": 0.4997913739754899, \"Chi2_GenTk\": 19.02708471640169}, {\"primary_dataset\": \"EGamma\", \"run_id\": 5, \"Chi2Prob_GenTk\": 0.489094759327875, \"Chi2_GenTk\": 19.103232326516917}, {\"primary_dataset\": \"EGamma\", \"run_id\": 6, \"Chi2Prob_GenTk\": 0.483947270186265, \"Chi2_GenTk\": 19.190387224855453}, {\"primary_dataset\": \"EGamma\", \"run_id\": 7, \"Chi2Prob_GenTk\": 0.4795815681892164, \"Chi2_GenTk\": 19.191375142506047}, {\"primary_dataset\": \"EGamma\", \"run_id\": 8, \"Chi2Prob_GenTk\": 0.4740445696847979, \"Chi2_GenTk\": 19.270919053753968}, {\"primary_dataset\": \"EGamma\", \"run_id\": 9, \"Chi2Prob_GenTk\": 0.4965949350683381, \"Chi2_GenTk\": 19.061176946917183}, {\"primary_dataset\": \"EGamma\", \"run_id\": 10, \"Chi2Prob_GenTk\": 0.4974354310797699, \"Chi2_GenTk\": 19.09540147245445}, {\"primary_dataset\": \"EGamma\", \"run_id\": 11, \"Chi2Prob_GenTk\": 0.5062398404595772, \"Chi2_GenTk\": 19.01706388028745}, {\"primary_dataset\": \"EGamma\", \"run_id\": 12, \"Chi2Prob_GenTk\": 0.4922068619260418, \"Chi2_GenTk\": 19.072108654671947}, {\"primary_dataset\": \"EGamma\", \"run_id\": 13, \"Chi2Prob_GenTk\": 0.4835971708667692, \"Chi2_GenTk\": 19.34624100484445}, {\"primary_dataset\": \"EGamma\", \"run_id\": 14, \"Chi2Prob_GenTk\": 0.5105320688234479, \"Chi2_GenTk\": 19.2050061566327}, {\"primary_dataset\": \"EGamma\", \"run_id\": 15, \"Chi2Prob_GenTk\": 0.5147277622177574, \"Chi2_GenTk\": 19.23209359058236}, {\"primary_dataset\": \"EGamma\", \"run_id\": 16, \"Chi2Prob_GenTk\": 0.4646229024803487, \"Chi2_GenTk\": 19.77672815219635}, {\"primary_dataset\": \"EGamma\", \"run_id\": 17, \"Chi2Prob_GenTk\": 0.4725622673945107, \"Chi2_GenTk\": 19.581868741232174}, {\"primary_dataset\": \"EGamma\", \"run_id\": 18, \"Chi2Prob_GenTk\": 0.4792449760649107, \"Chi2_GenTk\": 19.34969345131688}, {\"primary_dataset\": \"EGamma\", \"run_id\": 19, \"Chi2Prob_GenTk\": 0.500996576814274, \"Chi2_GenTk\": 19.093514895378352}, {\"primary_dataset\": \"EGamma\", \"run_id\": 20, \"Chi2Prob_GenTk\": 0.4722215654564463, \"Chi2_GenTk\": 19.58867693210816}, {\"primary_dataset\": \"EGamma\", \"run_id\": 21, \"Chi2Prob_GenTk\": 0.4702798626039318, \"Chi2_GenTk\": 19.670731772586805}, {\"primary_dataset\": \"EGamma\", \"run_id\": 22, \"Chi2Prob_GenTk\": 0.4711776555850083, \"Chi2_GenTk\": 19.66155576518695}, {\"primary_dataset\": \"EGamma\", \"run_id\": 23, \"Chi2Prob_GenTk\": 0.4814780762991821, \"Chi2_GenTk\": 19.38382419576257}, {\"primary_dataset\": \"EGamma\", \"run_id\": 24, \"Chi2Prob_GenTk\": 0.4705093731138843, \"Chi2_GenTk\": 19.641015570779164}, {\"primary_dataset\": \"EGamma\", \"run_id\": 25, \"Chi2Prob_GenTk\": 0.4746259679165891, \"Chi2_GenTk\": 19.526329543253198}, {\"primary_dataset\": \"EGamma\", \"run_id\": 26, \"Chi2Prob_GenTk\": 0.4807810669410366, \"Chi2_GenTk\": 19.36803237721264}, {\"primary_dataset\": \"EGamma\", \"run_id\": 27, \"Chi2Prob_GenTk\": 0.4811329861938793, \"Chi2_GenTk\": 19.313752392963337}, {\"primary_dataset\": \"EGamma\", \"run_id\": 28, \"Chi2Prob_GenTk\": 0.4959971360503148, \"Chi2_GenTk\": 19.108905975454466}, {\"primary_dataset\": \"EGamma\", \"run_id\": 29, \"Chi2Prob_GenTk\": 0.5112474572348156, \"Chi2_GenTk\": 19.09575813873156}, {\"primary_dataset\": \"EGamma\", \"run_id\": 30, \"Chi2Prob_GenTk\": 0.5171929653637989, \"Chi2_GenTk\": 19.25044422771816}, {\"primary_dataset\": \"EGamma\", \"run_id\": 31, \"Chi2Prob_GenTk\": 0.5180837642057045, \"Chi2_GenTk\": 19.263084551953792}, {\"primary_dataset\": \"EGamma\", \"run_id\": 32, \"Chi2Prob_GenTk\": 0.4921981949496592, \"Chi2_GenTk\": 19.198605758488725}, {\"primary_dataset\": \"EGamma\", \"run_id\": 33, \"Chi2Prob_GenTk\": 0.5141858612529645, \"Chi2_GenTk\": 19.206584146638377}, {\"primary_dataset\": \"EGamma\", \"run_id\": 34, \"Chi2Prob_GenTk\": 0.4929225236433643, \"Chi2_GenTk\": 19.256520983773875}, {\"primary_dataset\": \"EGamma\", \"run_id\": 35, \"Chi2Prob_GenTk\": 0.4997701884411681, \"Chi2_GenTk\": 19.18092188790421}, {\"primary_dataset\": \"EGamma\", \"run_id\": 36, \"Chi2Prob_GenTk\": 0.5097873104325815, \"Chi2_GenTk\": 19.211901870244105}, {\"primary_dataset\": \"EGamma\", \"run_id\": 37, \"Chi2Prob_GenTk\": 0.5178750343768815, \"Chi2_GenTk\": 19.4643381200175}, {\"primary_dataset\": \"EGamma\", \"run_id\": 38, \"Chi2Prob_GenTk\": 0.4922288592128554, \"Chi2_GenTk\": 19.49591936313701}, {\"primary_dataset\": \"EGamma\", \"run_id\": 39, \"Chi2Prob_GenTk\": 0.4875679537357095, \"Chi2_GenTk\": 19.584618645346367}, {\"primary_dataset\": \"EGamma\", \"run_id\": 40, \"Chi2Prob_GenTk\": 0.4727480476493761, \"Chi2_GenTk\": 19.906609069093957}, {\"primary_dataset\": \"EGamma\", \"run_id\": 41, \"Chi2Prob_GenTk\": 0.4772813222129227, \"Chi2_GenTk\": 19.77148512233524}, {\"primary_dataset\": \"EGamma\", \"run_id\": 42, \"Chi2Prob_GenTk\": 0.480666145159258, \"Chi2_GenTk\": 19.672541765474584}, {\"primary_dataset\": \"EGamma\", \"run_id\": 43, \"Chi2Prob_GenTk\": 0.481486558312268, \"Chi2_GenTk\": 19.701975635470447}, {\"primary_dataset\": \"EGamma\", \"run_id\": 44, \"Chi2Prob_GenTk\": 0.4959854389005333, \"Chi2_GenTk\": 19.467504804871957}, {\"primary_dataset\": \"EGamma\", \"run_id\": 45, \"Chi2Prob_GenTk\": 0.5053141634284858, \"Chi2_GenTk\": 19.398859807793805}, {\"primary_dataset\": \"EGamma\", \"run_id\": 46, \"Chi2Prob_GenTk\": 0.4849831023838409, \"Chi2_GenTk\": 18.127081871948217}, {\"primary_dataset\": \"EGamma\", \"run_id\": 47, \"Chi2Prob_GenTk\": 0.5191746373173567, \"Chi2_GenTk\": 19.464736830344982}, {\"primary_dataset\": \"EGamma\", \"run_id\": 48, \"Chi2Prob_GenTk\": 0.4937869683552534, \"Chi2_GenTk\": 19.45888163800524}, {\"primary_dataset\": \"EGamma\", \"run_id\": 49, \"Chi2Prob_GenTk\": 0.5076094806384832, \"Chi2_GenTk\": 19.37572745397769}, {\"primary_dataset\": \"EGamma\", \"run_id\": 50, \"Chi2Prob_GenTk\": 0.4980497823296477, \"Chi2_GenTk\": 19.436827847742077}, {\"primary_dataset\": \"EGamma\", \"run_id\": 51, \"Chi2Prob_GenTk\": 0.4980788466022637, \"Chi2_GenTk\": 19.41960681805168}, {\"primary_dataset\": \"EGamma\", \"run_id\": 52, \"Chi2Prob_GenTk\": 0.5120308352364901, \"Chi2_GenTk\": 19.355773545461123}, {\"primary_dataset\": \"EGamma\", \"run_id\": 53, \"Chi2Prob_GenTk\": 0.4900507612901791, \"Chi2_GenTk\": 19.437798652065432}, {\"primary_dataset\": \"EGamma\", \"run_id\": 54, \"Chi2Prob_GenTk\": 0.504923911309192, \"Chi2_GenTk\": 19.285295760285013}, {\"primary_dataset\": \"EGamma\", \"run_id\": 55, \"Chi2Prob_GenTk\": 0.5142886201767163, \"Chi2_GenTk\": 19.38674024961005}, {\"primary_dataset\": \"EGamma\", \"run_id\": 56, \"Chi2Prob_GenTk\": 0.5194585528218152, \"Chi2_GenTk\": 19.469145629538986}, {\"primary_dataset\": \"EGamma\", \"run_id\": 57, \"Chi2Prob_GenTk\": 0.521573479886364, \"Chi2_GenTk\": 19.030593174948933}, {\"primary_dataset\": \"EGamma\", \"run_id\": 58, \"Chi2Prob_GenTk\": 0.4898080598544506, \"Chi2_GenTk\": 19.482960451622308}, {\"primary_dataset\": \"EGamma\", \"run_id\": 59, \"Chi2Prob_GenTk\": 0.5410584517086812, \"Chi2_GenTk\": 3.0289447971132275}, {\"primary_dataset\": \"EGamma\", \"run_id\": 60, \"Chi2Prob_GenTk\": 0.4895074748592758, \"Chi2_GenTk\": 19.473409588122728}, {\"primary_dataset\": \"EGamma\", \"run_id\": 61, \"Chi2Prob_GenTk\": 0.4968205921609264, \"Chi2_GenTk\": 19.41628622203048}, {\"primary_dataset\": \"EGamma\", \"run_id\": 62, \"Chi2Prob_GenTk\": 0.5125044714651984, \"Chi2_GenTk\": 16.528569792178708}, {\"primary_dataset\": \"EGamma\", \"run_id\": 63, \"Chi2Prob_GenTk\": 0.5013589519632138, \"Chi2_GenTk\": 19.37548987402594}, {\"primary_dataset\": \"EGamma\", \"run_id\": 64, \"Chi2Prob_GenTk\": 0.5119968677616943, \"Chi2_GenTk\": 19.330735822020085}, {\"primary_dataset\": \"EGamma\", \"run_id\": 65, \"Chi2Prob_GenTk\": 0.4950505381666247, \"Chi2_GenTk\": 16.16103335582388}, {\"primary_dataset\": \"EGamma\", \"run_id\": 66, \"Chi2Prob_GenTk\": 0.4973778835285125, \"Chi2_GenTk\": 19.43800819625791}, {\"primary_dataset\": \"EGamma\", \"run_id\": 67, \"Chi2Prob_GenTk\": 0.4821519055454586, \"Chi2_GenTk\": 19.67688741506515}, {\"primary_dataset\": \"EGamma\", \"run_id\": 68, \"Chi2Prob_GenTk\": 0.501948315266998, \"Chi2_GenTk\": 19.404303332708015}, {\"primary_dataset\": \"EGamma\", \"run_id\": 69, \"Chi2Prob_GenTk\": 0.4913093469832544, \"Chi2_GenTk\": 19.48707676417273}, {\"primary_dataset\": \"EGamma\", \"run_id\": 70, \"Chi2Prob_GenTk\": 0.5108203664076962, \"Chi2_GenTk\": 19.52495742571984}, {\"primary_dataset\": \"EGamma\", \"run_id\": 71, \"Chi2Prob_GenTk\": 0.5132933376887346, \"Chi2_GenTk\": 19.504778209580746}, {\"primary_dataset\": \"EGamma\", \"run_id\": 72, \"Chi2Prob_GenTk\": 0.5173689367504564, \"Chi2_GenTk\": 19.569889670982832}, {\"primary_dataset\": \"EGamma\", \"run_id\": 73, \"Chi2Prob_GenTk\": 0.4856703949949738, \"Chi2_GenTk\": 19.522062798602725}, {\"primary_dataset\": \"EGamma\", \"run_id\": 74, \"Chi2Prob_GenTk\": 0.4985457047052529, \"Chi2_GenTk\": 19.37946983860044}, {\"primary_dataset\": \"EGamma\", \"run_id\": 75, \"Chi2Prob_GenTk\": 0.5116988956207233, \"Chi2_GenTk\": 19.447301293478603}, {\"primary_dataset\": \"EGamma\", \"run_id\": 76, \"Chi2Prob_GenTk\": 0.5198659307131134, \"Chi2_GenTk\": 19.582682741277715}, {\"primary_dataset\": \"EGamma\", \"run_id\": 77, \"Chi2Prob_GenTk\": 0.491563193997727, \"Chi2_GenTk\": 19.471180431482363}, {\"primary_dataset\": \"EGamma\", \"run_id\": 78, \"Chi2Prob_GenTk\": 0.5119902558470257, \"Chi2_GenTk\": 19.384989937743327}, {\"primary_dataset\": \"EGamma\", \"run_id\": 79, \"Chi2Prob_GenTk\": 0.5214085581806617, \"Chi2_GenTk\": 19.6106174122809}, {\"primary_dataset\": \"EGamma\", \"run_id\": 80, \"Chi2Prob_GenTk\": 0.4749234637733941, \"Chi2_GenTk\": 19.82610442392389}, {\"primary_dataset\": \"EGamma\", \"run_id\": 81, \"Chi2Prob_GenTk\": 0.4901335779845737, \"Chi2_GenTk\": 19.531090313440775}, {\"primary_dataset\": \"EGamma\", \"run_id\": 82, \"Chi2Prob_GenTk\": 0.5016909230243518, \"Chi2_GenTk\": 19.43300655442565}, {\"primary_dataset\": \"EGamma\", \"run_id\": 83, \"Chi2Prob_GenTk\": 0.5093552711228958, \"Chi2_GenTk\": 19.406990120804856}, {\"primary_dataset\": \"EGamma\", \"run_id\": 84, \"Chi2Prob_GenTk\": 0.4857891229659643, \"Chi2_GenTk\": 19.60984082892637}, {\"primary_dataset\": \"EGamma\", \"run_id\": 85, \"Chi2Prob_GenTk\": 0.4813368013227517, \"Chi2_GenTk\": 19.65343763801198}, {\"primary_dataset\": \"EGamma\", \"run_id\": 86, \"Chi2Prob_GenTk\": 0.4840955680584178, \"Chi2_GenTk\": 19.59244727134932}, {\"primary_dataset\": \"EGamma\", \"run_id\": 87, \"Chi2Prob_GenTk\": 0.5029865041104928, \"Chi2_GenTk\": 19.403073281482367}, {\"primary_dataset\": \"EGamma\", \"run_id\": 88, \"Chi2Prob_GenTk\": 0.4809708454219637, \"Chi2_GenTk\": 19.70900354820427}, {\"primary_dataset\": \"EGamma\", \"run_id\": 89, \"Chi2Prob_GenTk\": 0.4830190812496432, \"Chi2_GenTk\": 19.68488898070505}, {\"primary_dataset\": \"EGamma\", \"run_id\": 90, \"Chi2Prob_GenTk\": 0.500635910460939, \"Chi2_GenTk\": 19.396448314598427}, {\"primary_dataset\": \"EGamma\", \"run_id\": 91, \"Chi2Prob_GenTk\": 0.4855640402823748, \"Chi2_GenTk\": 19.515079915515848}, {\"primary_dataset\": \"EGamma\", \"run_id\": 92, \"Chi2Prob_GenTk\": 0.505322641255354, \"Chi2_GenTk\": 19.399017600692048}, {\"primary_dataset\": \"EGamma\", \"run_id\": 93, \"Chi2Prob_GenTk\": 0.5129833936896113, \"Chi2_GenTk\": 19.4679509354703}, {\"primary_dataset\": \"EGamma\", \"run_id\": 94, \"Chi2Prob_GenTk\": 0.4983788354931326, \"Chi2_GenTk\": 19.388831653771863}, {\"primary_dataset\": \"EGamma\", \"run_id\": 95, \"Chi2Prob_GenTk\": 0.5033066368449239, \"Chi2_GenTk\": 19.175909141860544}, {\"primary_dataset\": \"EGamma\", \"run_id\": 96, \"Chi2Prob_GenTk\": 0.4868219194868516, \"Chi2_GenTk\": 19.39854488224277}, {\"primary_dataset\": \"EGamma\", \"run_id\": 97, \"Chi2Prob_GenTk\": 0.4787313638944485, \"Chi2_GenTk\": 19.61439110279673}, {\"primary_dataset\": \"EGamma\", \"run_id\": 98, \"Chi2Prob_GenTk\": 0.4917941768805647, \"Chi2_GenTk\": 19.30007150842921}, {\"primary_dataset\": \"EGamma\", \"run_id\": 99, \"Chi2Prob_GenTk\": 0.4921554426948168, \"Chi2_GenTk\": 20.003019645814494}, {\"primary_dataset\": \"EGamma\", \"run_id\": 100, \"Chi2Prob_GenTk\": 0.4803643714754296, \"Chi2_GenTk\": 19.525614012292184}, {\"primary_dataset\": \"EGamma\", \"run_id\": 101, \"Chi2Prob_GenTk\": 0.5030206081507812, \"Chi2_GenTk\": 19.209413237190844}, {\"primary_dataset\": \"EGamma\", \"run_id\": 102, \"Chi2Prob_GenTk\": 0.5149200983711788, \"Chi2_GenTk\": 19.306133097153342}, {\"primary_dataset\": \"EGamma\", \"run_id\": 103, \"Chi2Prob_GenTk\": 0.4824646797358941, \"Chi2_GenTk\": 19.442612461535305}, {\"primary_dataset\": \"EGamma\", \"run_id\": 104, \"Chi2Prob_GenTk\": 0.5004878177550861, \"Chi2_GenTk\": 19.168779623199967}, {\"primary_dataset\": \"EGamma\", \"run_id\": 105, \"Chi2Prob_GenTk\": 0.5102593912155904, \"Chi2_GenTk\": 19.186472936920968}, {\"primary_dataset\": \"EGamma\", \"run_id\": 106, \"Chi2Prob_GenTk\": 0.4873482118331047, \"Chi2_GenTk\": 19.41806686339918}, {\"primary_dataset\": \"EGamma\", \"run_id\": 107, \"Chi2Prob_GenTk\": 0.4872033949367966, \"Chi2_GenTk\": 19.390181310838276}, {\"primary_dataset\": \"EGamma\", \"run_id\": 108, \"Chi2Prob_GenTk\": 0.4951991858735143, \"Chi2_GenTk\": 19.237914048229342}, {\"primary_dataset\": \"EGamma\", \"run_id\": 109, \"Chi2Prob_GenTk\": 0.5044278821006434, \"Chi2_GenTk\": 19.180774574000267}, {\"primary_dataset\": \"EGamma\", \"run_id\": 110, \"Chi2Prob_GenTk\": 0.5104115434933381, \"Chi2_GenTk\": 19.204488305451125}, {\"primary_dataset\": \"EGamma\", \"run_id\": 111, \"Chi2Prob_GenTk\": 0.5130377335362595, \"Chi2_GenTk\": 19.23794496289673}, {\"primary_dataset\": \"EGamma\", \"run_id\": 112, \"Chi2Prob_GenTk\": 0.5149283685240597, \"Chi2_GenTk\": 19.265742709594235}, {\"primary_dataset\": \"EGamma\", \"run_id\": 113, \"Chi2Prob_GenTk\": 0.5178567610568876, \"Chi2_GenTk\": 19.323822254499035}, {\"primary_dataset\": \"EGamma\", \"run_id\": 114, \"Chi2Prob_GenTk\": 0.5208884808099363, \"Chi2_GenTk\": 19.413796343278385}, {\"primary_dataset\": \"EGamma\", \"run_id\": 115, \"Chi2Prob_GenTk\": 0.4963101786361777, \"Chi2_GenTk\": 19.207275432359136}, {\"primary_dataset\": \"EGamma\", \"run_id\": 116, \"Chi2Prob_GenTk\": 0.4990998130946444, \"Chi2_GenTk\": 19.23353762531408}, {\"primary_dataset\": \"EGamma\", \"run_id\": 117, \"Chi2Prob_GenTk\": 0.482565173108973, \"Chi2_GenTk\": 19.437231140676023}, {\"primary_dataset\": \"EGamma\", \"run_id\": 118, \"Chi2Prob_GenTk\": 0.5073757763777837, \"Chi2_GenTk\": 19.17486276546051}, {\"primary_dataset\": \"EGamma\", \"run_id\": 119, \"Chi2Prob_GenTk\": 0.5147735654374361, \"Chi2_GenTk\": 19.215507334723043}, {\"primary_dataset\": \"EGamma\", \"run_id\": 120, \"Chi2Prob_GenTk\": 0.5002899102406491, \"Chi2_GenTk\": 19.21134612941128}, {\"primary_dataset\": \"EGamma\", \"run_id\": 121, \"Chi2Prob_GenTk\": 0.4988697973627565, \"Chi2_GenTk\": 19.220323339415245}, {\"primary_dataset\": \"EGamma\", \"run_id\": 122, \"Chi2Prob_GenTk\": 0.4866966574194287, \"Chi2_GenTk\": 19.35413437078148}, {\"primary_dataset\": \"EGamma\", \"run_id\": 123, \"Chi2Prob_GenTk\": 0.4867367734372317, \"Chi2_GenTk\": 19.38651124529541}, {\"primary_dataset\": \"EGamma\", \"run_id\": 124, \"Chi2Prob_GenTk\": 0.4938319585440662, \"Chi2_GenTk\": 19.288125095795056}, {\"primary_dataset\": \"EGamma\", \"run_id\": 125, \"Chi2Prob_GenTk\": 0.5020885804649116, \"Chi2_GenTk\": 19.14604131242129}, {\"primary_dataset\": \"EGamma\", \"run_id\": 126, \"Chi2Prob_GenTk\": 0.4805984927714052, \"Chi2_GenTk\": 19.51352461881234}, {\"primary_dataset\": \"EGamma\", \"run_id\": 127, \"Chi2Prob_GenTk\": 0.4905240406614963, \"Chi2_GenTk\": 19.31769888895067}, {\"primary_dataset\": \"EGamma\", \"run_id\": 128, \"Chi2Prob_GenTk\": 0.5076692040495245, \"Chi2_GenTk\": 19.11089854129793}, {\"primary_dataset\": \"EGamma\", \"run_id\": 129, \"Chi2Prob_GenTk\": 0.5139676057992444, \"Chi2_GenTk\": 19.304342798303114}, {\"primary_dataset\": \"EGamma\", \"run_id\": 130, \"Chi2Prob_GenTk\": 0.4967402235615739, \"Chi2_GenTk\": 19.26805524634344}, {\"primary_dataset\": \"EGamma\", \"run_id\": 131, \"Chi2Prob_GenTk\": 0.4808823067352261, \"Chi2_GenTk\": 19.457818935609925}, {\"primary_dataset\": \"EGamma\", \"run_id\": 132, \"Chi2Prob_GenTk\": 0.4948533410881767, \"Chi2_GenTk\": 19.235884410345776}, {\"primary_dataset\": \"EGamma\", \"run_id\": 133, \"Chi2Prob_GenTk\": 0.4886971543277251, \"Chi2_GenTk\": 19.41806536948486}, {\"primary_dataset\": \"EGamma\", \"run_id\": 134, \"Chi2Prob_GenTk\": 0.4886520992740021, \"Chi2_GenTk\": 19.44479906449842}, {\"primary_dataset\": \"EGamma\", \"run_id\": 135, \"Chi2Prob_GenTk\": 0.5089435181731425, \"Chi2_GenTk\": 19.22590805399564}, {\"primary_dataset\": \"EGamma\", \"run_id\": 136, \"Chi2Prob_GenTk\": 0.5126635624965873, \"Chi2_GenTk\": 19.29371400552407}, {\"primary_dataset\": \"EGamma\", \"run_id\": 137, \"Chi2Prob_GenTk\": 0.5139414130590778, \"Chi2_GenTk\": 19.30754197215478}, {\"primary_dataset\": \"EGamma\", \"run_id\": 138, \"Chi2Prob_GenTk\": 0.5169259010864791, \"Chi2_GenTk\": 19.387879490004234}, {\"primary_dataset\": \"EGamma\", \"run_id\": 139, \"Chi2Prob_GenTk\": 0.475241328743373, \"Chi2_GenTk\": 19.652892975477805}, {\"primary_dataset\": \"EGamma\", \"run_id\": 140, \"Chi2Prob_GenTk\": 0.500153462527982, \"Chi2_GenTk\": 19.28971263707504}, {\"primary_dataset\": \"EGamma\", \"run_id\": 141, \"Chi2Prob_GenTk\": 0.4717372787556779, \"Chi2_GenTk\": 19.752185945054887}, {\"primary_dataset\": \"EGamma\", \"run_id\": 142, \"Chi2Prob_GenTk\": 0.4777209348457909, \"Chi2_GenTk\": 19.554847261900303}, {\"primary_dataset\": \"EGamma\", \"run_id\": 143, \"Chi2Prob_GenTk\": 0.493308316723569, \"Chi2_GenTk\": 19.314380190848134}, {\"primary_dataset\": \"EGamma\", \"run_id\": 144, \"Chi2Prob_GenTk\": 0.4752737363167758, \"Chi2_GenTk\": 19.64921380838654}, {\"primary_dataset\": \"EGamma\", \"run_id\": 145, \"Chi2Prob_GenTk\": 0.478737082323268, \"Chi2_GenTk\": 19.560705747689312}, {\"primary_dataset\": \"EGamma\", \"run_id\": 146, \"Chi2Prob_GenTk\": 0.4735940924548745, \"Chi2_GenTk\": 19.615438741816657}, {\"primary_dataset\": \"EGamma\", \"run_id\": 147, \"Chi2Prob_GenTk\": 0.4978033346721134, \"Chi2_GenTk\": 19.30261272234642}, {\"primary_dataset\": \"EGamma\", \"run_id\": 148, \"Chi2Prob_GenTk\": 0.4831097678352448, \"Chi2_GenTk\": 19.46868984341179}, {\"primary_dataset\": \"EGamma\", \"run_id\": 149, \"Chi2Prob_GenTk\": 0.5029855335721404, \"Chi2_GenTk\": 19.231092362305883}, {\"primary_dataset\": \"EGamma\", \"run_id\": 150, \"Chi2Prob_GenTk\": 0.5181422987420052, \"Chi2_GenTk\": 19.376750977049817}, {\"primary_dataset\": \"EGamma\", \"run_id\": 151, \"Chi2Prob_GenTk\": 0.4851821552050322, \"Chi2_GenTk\": 19.425901274771203}, {\"primary_dataset\": \"EGamma\", \"run_id\": 152, \"Chi2Prob_GenTk\": 0.4931768557995221, \"Chi2_GenTk\": 19.324989051919054}, {\"primary_dataset\": \"EGamma\", \"run_id\": 153, \"Chi2Prob_GenTk\": 0.4780003509545384, \"Chi2_GenTk\": 19.284346663062077}, {\"primary_dataset\": \"EGamma\", \"run_id\": 154, \"Chi2Prob_GenTk\": 0.446062116385713, \"Chi2_GenTk\": 19.829332324063103}, {\"primary_dataset\": \"EGamma\", \"run_id\": 155, \"Chi2Prob_GenTk\": 0.4781288124405151, \"Chi2_GenTk\": 19.323520478434155}, {\"primary_dataset\": \"EGamma\", \"run_id\": 156, \"Chi2Prob_GenTk\": 0.4660985558068918, \"Chi2_GenTk\": 19.78075399072541}, {\"primary_dataset\": \"EGamma\", \"run_id\": 157, \"Chi2Prob_GenTk\": 0.5019745495698268, \"Chi2_GenTk\": 19.18948696821293}, {\"primary_dataset\": \"EGamma\", \"run_id\": 158, \"Chi2Prob_GenTk\": 0.5133426852632084, \"Chi2_GenTk\": 19.288216601932557}, {\"primary_dataset\": \"EGamma\", \"run_id\": 159, \"Chi2Prob_GenTk\": 0.4848756369562358, \"Chi2_GenTk\": 19.49251372696553}, {\"primary_dataset\": \"EGamma\", \"run_id\": 160, \"Chi2Prob_GenTk\": 0.494831928973606, \"Chi2_GenTk\": 19.341115288374237}, {\"primary_dataset\": \"EGamma\", \"run_id\": 161, \"Chi2Prob_GenTk\": 0.5014656982124132, \"Chi2_GenTk\": 19.266470225394244}, {\"primary_dataset\": \"EGamma\", \"run_id\": 162, \"Chi2Prob_GenTk\": 0.510283069094547, \"Chi2_GenTk\": 19.27463685333988}, {\"primary_dataset\": \"EGamma\", \"run_id\": 163, \"Chi2Prob_GenTk\": 0.4942329258397447, \"Chi2_GenTk\": 19.318351143796107}, {\"primary_dataset\": \"EGamma\", \"run_id\": 164, \"Chi2Prob_GenTk\": 0.4824874152444756, \"Chi2_GenTk\": 19.520387966267485}, {\"primary_dataset\": \"EGamma\", \"run_id\": 165, \"Chi2Prob_GenTk\": 0.4951295292746275, \"Chi2_GenTk\": 19.34568648415932}, {\"primary_dataset\": \"EGamma\", \"run_id\": 166, \"Chi2Prob_GenTk\": 0.4908612025965548, \"Chi2_GenTk\": 19.35782400958884}, {\"primary_dataset\": \"EGamma\", \"run_id\": 167, \"Chi2Prob_GenTk\": 0.5146412682505841, \"Chi2_GenTk\": 19.31081336353436}, {\"primary_dataset\": \"EGamma\", \"run_id\": 168, \"Chi2Prob_GenTk\": 0.4839983348743273, \"Chi2_GenTk\": 19.46791417180352}, {\"primary_dataset\": \"EGamma\", \"run_id\": 169, \"Chi2Prob_GenTk\": 0.4972075827340682, \"Chi2_GenTk\": 19.25129396396495}, {\"primary_dataset\": \"EGamma\", \"run_id\": 170, \"Chi2Prob_GenTk\": 0.5125134652184171, \"Chi2_GenTk\": 19.286264564238717}, {\"primary_dataset\": \"EGamma\", \"run_id\": 171, \"Chi2Prob_GenTk\": 0.4923572656248716, \"Chi2_GenTk\": 19.340882988683628}, {\"primary_dataset\": \"EGamma\", \"run_id\": 172, \"Chi2Prob_GenTk\": 0.5143257541073389, \"Chi2_GenTk\": 19.393507800026303}, {\"primary_dataset\": \"EGamma\", \"run_id\": 173, \"Chi2Prob_GenTk\": 0.4845537688351627, \"Chi2_GenTk\": 19.41106132022659}, {\"primary_dataset\": \"EGamma\", \"run_id\": 174, \"Chi2Prob_GenTk\": 0.4856985170942544, \"Chi2_GenTk\": 19.40117489156154}, {\"primary_dataset\": \"EGamma\", \"run_id\": 175, \"Chi2Prob_GenTk\": 0.4928453955988977, \"Chi2_GenTk\": 19.302822822686164}, {\"primary_dataset\": \"EGamma\", \"run_id\": 176, \"Chi2Prob_GenTk\": 0.4538449099863597, \"Chi2_GenTk\": 20.56937193017521}, {\"primary_dataset\": \"EGamma\", \"run_id\": 177, \"Chi2Prob_GenTk\": 0.465257586725937, \"Chi2_GenTk\": 20.308304633862743}, {\"primary_dataset\": \"EGamma\", \"run_id\": 178, \"Chi2Prob_GenTk\": 0.4672948208244177, \"Chi2_GenTk\": 20.31513515693657}, {\"primary_dataset\": \"EGamma\", \"run_id\": 179, \"Chi2Prob_GenTk\": 0.4744268551352234, \"Chi2_GenTk\": 19.708328002993422}, {\"primary_dataset\": \"EGamma\", \"run_id\": 180, \"Chi2Prob_GenTk\": 0.48768553951214, \"Chi2_GenTk\": 19.43083981340685}, {\"primary_dataset\": \"EGamma\", \"run_id\": 181, \"Chi2Prob_GenTk\": 0.4943662686847456, \"Chi2_GenTk\": 19.29993192352056}, {\"primary_dataset\": \"EGamma\", \"run_id\": 182, \"Chi2Prob_GenTk\": 0.4983244574376853, \"Chi2_GenTk\": 19.24697555214613}, {\"primary_dataset\": \"EGamma\", \"run_id\": 183, \"Chi2Prob_GenTk\": 0.5036488972119698, \"Chi2_GenTk\": 19.227229903554885}, {\"primary_dataset\": \"EGamma\", \"run_id\": 184, \"Chi2Prob_GenTk\": 0.4757716059382505, \"Chi2_GenTk\": 20.03478210510284}, {\"primary_dataset\": \"EGamma\", \"run_id\": 185, \"Chi2Prob_GenTk\": 0.4738124922948578, \"Chi2_GenTk\": 19.60408042205292}, {\"primary_dataset\": \"EGamma\", \"run_id\": 186, \"Chi2Prob_GenTk\": 0.5330723004461314, \"Chi2_GenTk\": 22.41309782409612}, {\"primary_dataset\": \"EGamma\", \"run_id\": 187, \"Chi2Prob_GenTk\": 0.5009990648509443, \"Chi2_GenTk\": 19.27939866674261}, {\"primary_dataset\": \"EGamma\", \"run_id\": 188, \"Chi2Prob_GenTk\": 0.4876283561281316, \"Chi2_GenTk\": 19.386956717516554}, {\"primary_dataset\": \"EGamma\", \"run_id\": 189, \"Chi2Prob_GenTk\": 0.5031075864888499, \"Chi2_GenTk\": 19.19282266189765}, {\"primary_dataset\": \"EGamma\", \"run_id\": 190, \"Chi2Prob_GenTk\": 0.5048056020026497, \"Chi2_GenTk\": 19.18069988568637}, {\"primary_dataset\": \"EGamma\", \"run_id\": 191, \"Chi2Prob_GenTk\": 0.4876090002633398, \"Chi2_GenTk\": 19.37766051342026}, {\"primary_dataset\": \"EGamma\", \"run_id\": 192, \"Chi2Prob_GenTk\": 0.4999382380774285, \"Chi2_GenTk\": 19.208817018011715}, {\"primary_dataset\": \"EGamma\", \"run_id\": 193, \"Chi2Prob_GenTk\": 0.5111524941135216, \"Chi2_GenTk\": 19.15618234275033}, {\"primary_dataset\": \"EGamma\", \"run_id\": 194, \"Chi2Prob_GenTk\": 0.5128120940351562, \"Chi2_GenTk\": 19.18745905243372}, {\"primary_dataset\": \"EGamma\", \"run_id\": 195, \"Chi2Prob_GenTk\": 0.4880230500305941, \"Chi2_GenTk\": 19.43785742187708}, {\"primary_dataset\": \"EGamma\", \"run_id\": 196, \"Chi2Prob_GenTk\": 0.5025590374456365, \"Chi2_GenTk\": 19.216954981941917}, {\"primary_dataset\": \"EGamma\", \"run_id\": 197, \"Chi2Prob_GenTk\": 0.4938223462667626, \"Chi2_GenTk\": 19.237379203285403}, {\"primary_dataset\": \"EGamma\", \"run_id\": 198, \"Chi2Prob_GenTk\": 0.5103614069928404, \"Chi2_GenTk\": 19.227969501545974}, {\"primary_dataset\": \"EGamma\", \"run_id\": 199, \"Chi2Prob_GenTk\": 0.5132570185659208, \"Chi2_GenTk\": 19.240892116738586}, {\"primary_dataset\": \"EGamma\", \"run_id\": 200, \"Chi2Prob_GenTk\": 0.4992965006342096, \"Chi2_GenTk\": 19.238326847046316}, {\"primary_dataset\": \"EGamma\", \"run_id\": 201, \"Chi2Prob_GenTk\": 0.4831329884683535, \"Chi2_GenTk\": 19.48249595320654}, {\"primary_dataset\": \"EGamma\", \"run_id\": 202, \"Chi2Prob_GenTk\": 0.4983332450834533, \"Chi2_GenTk\": 19.2720128917244}, {\"primary_dataset\": \"EGamma\", \"run_id\": 203, \"Chi2Prob_GenTk\": 0.489611921699262, \"Chi2_GenTk\": 19.321885773695275}, {\"primary_dataset\": \"EGamma\", \"run_id\": 204, \"Chi2Prob_GenTk\": 0.4990401555967282, \"Chi2_GenTk\": 19.21588063174636}, {\"primary_dataset\": \"EGamma\", \"run_id\": 205, \"Chi2Prob_GenTk\": 0.5048754249438901, \"Chi2_GenTk\": 19.196872336657503}, {\"primary_dataset\": \"EGamma\", \"run_id\": 206, \"Chi2Prob_GenTk\": 0.5086920918406571, \"Chi2_GenTk\": 19.224955388643217}, {\"primary_dataset\": \"EGamma\", \"run_id\": 207, \"Chi2Prob_GenTk\": 0.4828704495088276, \"Chi2_GenTk\": 19.47559857925733}, {\"primary_dataset\": \"EGamma\", \"run_id\": 208, \"Chi2Prob_GenTk\": 0.4778732349968116, \"Chi2_GenTk\": 19.621857410232725}, {\"primary_dataset\": \"EGamma\", \"run_id\": 209, \"Chi2Prob_GenTk\": 0.488742476089768, \"Chi2_GenTk\": 19.445711157137016}, {\"primary_dataset\": \"EGamma\", \"run_id\": 210, \"Chi2Prob_GenTk\": 0.5021875298561644, \"Chi2_GenTk\": 19.22384634466171}, {\"primary_dataset\": \"EGamma\", \"run_id\": 211, \"Chi2Prob_GenTk\": 0.4990357295638656, \"Chi2_GenTk\": 19.298609426152304}, {\"primary_dataset\": \"EGamma\", \"run_id\": 212, \"Chi2Prob_GenTk\": 0.4873239807909071, \"Chi2_GenTk\": 19.41626021752289}, {\"primary_dataset\": \"EGamma\", \"run_id\": 213, \"Chi2Prob_GenTk\": 0.4994138807909561, \"Chi2_GenTk\": 19.21195547198353}, {\"primary_dataset\": \"EGamma\", \"run_id\": 214, \"Chi2Prob_GenTk\": 0.4714541237632523, \"Chi2_GenTk\": 19.51896289309031}, {\"primary_dataset\": \"EGamma\", \"run_id\": 215, \"Chi2Prob_GenTk\": 0.475906934896829, \"Chi2_GenTk\": 19.63536148980954}, {\"primary_dataset\": \"EGamma\", \"run_id\": 216, \"Chi2Prob_GenTk\": 0.4873569245464347, \"Chi2_GenTk\": 19.371272107690714}, {\"primary_dataset\": \"EGamma\", \"run_id\": 217, \"Chi2Prob_GenTk\": 0.5013571747784843, \"Chi2_GenTk\": 19.202440073450543}, {\"primary_dataset\": \"EGamma\", \"run_id\": 218, \"Chi2Prob_GenTk\": 0.5022612311946756, \"Chi2_GenTk\": 19.276796484762414}, {\"primary_dataset\": \"EGamma\", \"run_id\": 219, \"Chi2Prob_GenTk\": 0.5047640433757181, \"Chi2_GenTk\": 19.21046707812545}, {\"primary_dataset\": \"EGamma\", \"run_id\": 220, \"Chi2Prob_GenTk\": 0.5095214485405458, \"Chi2_GenTk\": 19.218082030599607}, {\"primary_dataset\": \"EGamma\", \"run_id\": 221, \"Chi2Prob_GenTk\": 0.4758630936191871, \"Chi2_GenTk\": 19.64543113828472}, {\"primary_dataset\": \"EGamma\", \"run_id\": 222, \"Chi2Prob_GenTk\": 0.4847716911853513, \"Chi2_GenTk\": 19.46473912505812}, {\"primary_dataset\": \"EGamma\", \"run_id\": 223, \"Chi2Prob_GenTk\": 0.494230859574819, \"Chi2_GenTk\": 19.307966664216305}, {\"primary_dataset\": \"EGamma\", \"run_id\": 224, \"Chi2Prob_GenTk\": 0.5104718920253531, \"Chi2_GenTk\": 19.271553792032968}, {\"primary_dataset\": \"EGamma\", \"run_id\": 225, \"Chi2Prob_GenTk\": 0.5115707323367548, \"Chi2_GenTk\": 19.28116221030958}, {\"primary_dataset\": \"EGamma\", \"run_id\": 226, \"Chi2Prob_GenTk\": 0.5125533822650539, \"Chi2_GenTk\": 19.299940962569742}, {\"primary_dataset\": \"EGamma\", \"run_id\": 227, \"Chi2Prob_GenTk\": 0.5131404458780563, \"Chi2_GenTk\": 19.3135980737546}, {\"primary_dataset\": \"EGamma\", \"run_id\": 228, \"Chi2Prob_GenTk\": 0.4841479052221925, \"Chi2_GenTk\": 19.433619091334908}, {\"primary_dataset\": \"EGamma\", \"run_id\": 229, \"Chi2Prob_GenTk\": 0.4933068876974474, \"Chi2_GenTk\": 19.270145081450785}, {\"primary_dataset\": \"EGamma\", \"run_id\": 230, \"Chi2Prob_GenTk\": 0.476118350367005, \"Chi2_GenTk\": 19.62487071074571}, {\"primary_dataset\": \"EGamma\", \"run_id\": 231, \"Chi2Prob_GenTk\": 0.4889637166604838, \"Chi2_GenTk\": 19.376056331651}, {\"primary_dataset\": \"EGamma\", \"run_id\": 232, \"Chi2Prob_GenTk\": 0.5087920163461722, \"Chi2_GenTk\": 19.2443549030464}, {\"primary_dataset\": \"EGamma\", \"run_id\": 233, \"Chi2Prob_GenTk\": 0.5146472633639697, \"Chi2_GenTk\": 19.323579742952653}, {\"primary_dataset\": \"EGamma\", \"run_id\": 234, \"Chi2Prob_GenTk\": 0.478520484836449, \"Chi2_GenTk\": 19.57611200778572}, {\"primary_dataset\": \"EGamma\", \"run_id\": 235, \"Chi2Prob_GenTk\": 0.4929145222597198, \"Chi2_GenTk\": 19.297384663987067}, {\"primary_dataset\": \"EGamma\", \"run_id\": 236, \"Chi2Prob_GenTk\": 0.5028896437972367, \"Chi2_GenTk\": 19.21174481870547}, {\"primary_dataset\": \"EGamma\", \"run_id\": 237, \"Chi2Prob_GenTk\": 0.5061041695741855, \"Chi2_GenTk\": 19.210249662739223}, {\"primary_dataset\": \"EGamma\", \"run_id\": 238, \"Chi2Prob_GenTk\": 0.508410531044657, \"Chi2_GenTk\": 19.22434649256072}, {\"primary_dataset\": \"EGamma\", \"run_id\": 239, \"Chi2Prob_GenTk\": 0.5119693010360465, \"Chi2_GenTk\": 19.268865097028712}, {\"primary_dataset\": \"EGamma\", \"run_id\": 240, \"Chi2Prob_GenTk\": 0.5144358326228434, \"Chi2_GenTk\": 19.318914352042512}, {\"primary_dataset\": \"EGamma\", \"run_id\": 241, \"Chi2Prob_GenTk\": 0.5181819848415536, \"Chi2_GenTk\": 19.39975348316194}, {\"primary_dataset\": \"EGamma\", \"run_id\": 242, \"Chi2Prob_GenTk\": 0.484526144669109, \"Chi2_GenTk\": 19.434629046272903}, {\"primary_dataset\": \"EGamma\", \"run_id\": 243, \"Chi2Prob_GenTk\": 0.4984624262646009, \"Chi2_GenTk\": 19.265575431778878}, {\"primary_dataset\": \"EGamma\", \"run_id\": 244, \"Chi2Prob_GenTk\": 0.5064007111960948, \"Chi2_GenTk\": 19.25264695747131}, {\"primary_dataset\": \"EGamma\", \"run_id\": 245, \"Chi2Prob_GenTk\": 0.5090492370179913, \"Chi2_GenTk\": 19.27275539649654}, {\"primary_dataset\": \"EGamma\", \"run_id\": 246, \"Chi2Prob_GenTk\": 0.4847791683771874, \"Chi2_GenTk\": 19.428965028235016}, {\"primary_dataset\": \"EGamma\", \"run_id\": 247, \"Chi2Prob_GenTk\": 0.5008737073650492, \"Chi2_GenTk\": 19.222860624709146}, {\"primary_dataset\": \"EGamma\", \"run_id\": 248, \"Chi2Prob_GenTk\": 0.5076402199469349, \"Chi2_GenTk\": 19.23201666954608}, {\"primary_dataset\": \"EGamma\", \"run_id\": 249, \"Chi2Prob_GenTk\": 0.4786319288022939, \"Chi2_GenTk\": 19.56899318645338}, {\"primary_dataset\": \"EGamma\", \"run_id\": 250, \"Chi2Prob_GenTk\": 0.47647783655375, \"Chi2_GenTk\": 19.574703073524415}, {\"primary_dataset\": \"EGamma\", \"run_id\": 251, \"Chi2Prob_GenTk\": 0.4829664427421086, \"Chi2_GenTk\": 19.476242941942058}, {\"primary_dataset\": \"EGamma\", \"run_id\": 252, \"Chi2Prob_GenTk\": 0.4831846416165647, \"Chi2_GenTk\": 19.44836707574355}, {\"primary_dataset\": \"EGamma\", \"run_id\": 253, \"Chi2Prob_GenTk\": 0.4856771456277688, \"Chi2_GenTk\": 19.394475924785443}, {\"primary_dataset\": \"EGamma\", \"run_id\": 254, \"Chi2Prob_GenTk\": 0.4875729239378551, \"Chi2_GenTk\": 19.35019037274333}, {\"primary_dataset\": \"EGamma\", \"run_id\": 255, \"Chi2Prob_GenTk\": 0.494015079330649, \"Chi2_GenTk\": 19.269680907650205}, {\"primary_dataset\": \"EGamma\", \"run_id\": 256, \"Chi2Prob_GenTk\": 0.5074356974181435, \"Chi2_GenTk\": 19.231104564251265}, {\"primary_dataset\": \"EGamma\", \"run_id\": 257, \"Chi2Prob_GenTk\": 0.5165666122274405, \"Chi2_GenTk\": 20.009441393159012}, {\"primary_dataset\": \"EGamma\", \"run_id\": 258, \"Chi2Prob_GenTk\": 0.0, \"Chi2_GenTk\": 0.0}, {\"primary_dataset\": \"EGamma\", \"run_id\": 259, \"Chi2Prob_GenTk\": 0.5051508965888843, \"Chi2_GenTk\": 19.319097767503077}, {\"primary_dataset\": \"EGamma\", \"run_id\": 260, \"Chi2Prob_GenTk\": 0.5171679194386193, \"Chi2_GenTk\": 19.30669662710218}, {\"primary_dataset\": \"EGamma\", \"run_id\": 261, \"Chi2Prob_GenTk\": 0.5047266521098298, \"Chi2_GenTk\": 19.165496382560004}, {\"primary_dataset\": \"EGamma\", \"run_id\": 262, \"Chi2Prob_GenTk\": 0.4898220481728071, \"Chi2_GenTk\": 19.37361692812892}, {\"primary_dataset\": \"EGamma\", \"run_id\": 263, \"Chi2Prob_GenTk\": 0.488416756048907, \"Chi2_GenTk\": 19.42718493469721}, {\"primary_dataset\": \"EGamma\", \"run_id\": 264, \"Chi2Prob_GenTk\": 0.504586613977943, \"Chi2_GenTk\": 19.216004583369717}, {\"primary_dataset\": \"EGamma\", \"run_id\": 265, \"Chi2Prob_GenTk\": 0.520788980112951, \"Chi2_GenTk\": 19.313672535962223}, {\"primary_dataset\": \"EGamma\", \"run_id\": 266, \"Chi2Prob_GenTk\": 0.5239214679954644, \"Chi2_GenTk\": 19.4135182365869}, {\"primary_dataset\": \"EGamma\", \"run_id\": 267, \"Chi2Prob_GenTk\": 0.4921656118558019, \"Chi2_GenTk\": 19.332032861018234}, {\"primary_dataset\": \"EGamma\", \"run_id\": 268, \"Chi2Prob_GenTk\": 0.5043389420800153, \"Chi2_GenTk\": 19.16474442715929}, {\"primary_dataset\": \"EGamma\", \"run_id\": 269, \"Chi2Prob_GenTk\": 0.5149245588892888, \"Chi2_GenTk\": 19.17951751615777}, {\"primary_dataset\": \"EGamma\", \"run_id\": 270, \"Chi2Prob_GenTk\": 0.5208990353019015, \"Chi2_GenTk\": 19.31138155245608}, {\"primary_dataset\": \"EGamma\", \"run_id\": 271, \"Chi2Prob_GenTk\": 0.4887948475222989, \"Chi2_GenTk\": 19.40512272410172}, {\"primary_dataset\": \"EGamma\", \"run_id\": 272, \"Chi2Prob_GenTk\": 0.5008312597771419, \"Chi2_GenTk\": 19.204981775598547}, {\"primary_dataset\": \"EGamma\", \"run_id\": 273, \"Chi2Prob_GenTk\": 0.5103773384701499, \"Chi2_GenTk\": 19.209799144004048}, {\"primary_dataset\": \"EGamma\", \"run_id\": 274, \"Chi2Prob_GenTk\": 0.4860168297542202, \"Chi2_GenTk\": 19.43021977538733}, {\"primary_dataset\": \"EGamma\", \"run_id\": 275, \"Chi2Prob_GenTk\": 0.4974658060827648, \"Chi2_GenTk\": 19.278737090073456}, {\"primary_dataset\": \"EGamma\", \"run_id\": 276, \"Chi2Prob_GenTk\": 0.5072475698281818, \"Chi2_GenTk\": 19.21059528332913}, {\"primary_dataset\": \"EGamma\", \"run_id\": 277, \"Chi2Prob_GenTk\": 0.515121956137566, \"Chi2_GenTk\": 19.279613559210443}, {\"primary_dataset\": \"EGamma\", \"run_id\": 278, \"Chi2Prob_GenTk\": 0.5162858488489265, \"Chi2_GenTk\": 19.30693168143854}, {\"primary_dataset\": \"EGamma\", \"run_id\": 279, \"Chi2Prob_GenTk\": 0.5193145968253441, \"Chi2_GenTk\": 19.37611465976754}, {\"primary_dataset\": \"EGamma\", \"run_id\": 280, \"Chi2Prob_GenTk\": 0.5216041588665459, \"Chi2_GenTk\": 19.401525594813908}, {\"primary_dataset\": \"EGamma\", \"run_id\": 281, \"Chi2Prob_GenTk\": 0.4783460587058326, \"Chi2_GenTk\": 19.60065566800326}, {\"primary_dataset\": \"EGamma\", \"run_id\": 282, \"Chi2Prob_GenTk\": 0.4885619819378128, \"Chi2_GenTk\": 19.37516197150057}, {\"primary_dataset\": \"EGamma\", \"run_id\": 283, \"Chi2Prob_GenTk\": 0.4825067336419277, \"Chi2_GenTk\": 19.56485116465402}, {\"primary_dataset\": \"EGamma\", \"run_id\": 284, \"Chi2Prob_GenTk\": 0.50078240423026, \"Chi2_GenTk\": 19.26963312499631}, {\"primary_dataset\": \"EGamma\", \"run_id\": 285, \"Chi2Prob_GenTk\": 0.521250500017235, \"Chi2_GenTk\": 19.450143353549183}, {\"primary_dataset\": \"EGamma\", \"run_id\": 286, \"Chi2Prob_GenTk\": 0.4967425961925205, \"Chi2_GenTk\": 19.28338058496577}, {\"primary_dataset\": \"EGamma\", \"run_id\": 287, \"Chi2Prob_GenTk\": 0.5064567981602935, \"Chi2_GenTk\": 19.22727737573388}, {\"primary_dataset\": \"EGamma\", \"run_id\": 288, \"Chi2Prob_GenTk\": 0.5157309676736028, \"Chi2_GenTk\": 19.313527237945724}, {\"primary_dataset\": \"EGamma\", \"run_id\": 289, \"Chi2Prob_GenTk\": 0.5173185846720083, \"Chi2_GenTk\": 19.41439805258541}, {\"primary_dataset\": \"EGamma\", \"run_id\": 290, \"Chi2Prob_GenTk\": 0.4712585351509137, \"Chi2_GenTk\": 19.80414598096226}, {\"primary_dataset\": \"EGamma\", \"run_id\": 291, \"Chi2Prob_GenTk\": 0.480230090794866, \"Chi2_GenTk\": 19.653675571471386}, {\"primary_dataset\": \"EGamma\", \"run_id\": 292, \"Chi2Prob_GenTk\": 0.4951861637370764, \"Chi2_GenTk\": 19.28893495295261}, {\"primary_dataset\": \"EGamma\", \"run_id\": 293, \"Chi2Prob_GenTk\": 0.4911897049615427, \"Chi2_GenTk\": 19.360663283878413}, {\"primary_dataset\": \"EGamma\", \"run_id\": 294, \"Chi2Prob_GenTk\": 0.4931538029903668, \"Chi2_GenTk\": 19.36240739927333}, {\"primary_dataset\": \"EGamma\", \"run_id\": 295, \"Chi2Prob_GenTk\": 0.4973017486976213, \"Chi2_GenTk\": 19.26722997837293}, {\"primary_dataset\": \"EGamma\", \"run_id\": 296, \"Chi2Prob_GenTk\": 0.5091375095168912, \"Chi2_GenTk\": 19.171169981090195}, {\"primary_dataset\": \"EGamma\", \"run_id\": 297, \"Chi2Prob_GenTk\": 0.5164171256564781, \"Chi2_GenTk\": 19.324876783295423}, {\"primary_dataset\": \"EGamma\", \"run_id\": 298, \"Chi2Prob_GenTk\": 0.51853973260294, \"Chi2_GenTk\": 19.381690132431785}, {\"primary_dataset\": \"EGamma\", \"run_id\": 299, \"Chi2Prob_GenTk\": 0.5227093814159138, \"Chi2_GenTk\": 19.46193960812098}, {\"primary_dataset\": \"EGamma\", \"run_id\": 300, \"Chi2Prob_GenTk\": 0.5248413416383871, \"Chi2_GenTk\": 19.48828579510221}, {\"primary_dataset\": \"EGamma\", \"run_id\": 301, \"Chi2Prob_GenTk\": 0.4969564150680055, \"Chi2_GenTk\": 19.33442306218241}, {\"primary_dataset\": \"EGamma\", \"run_id\": 302, \"Chi2Prob_GenTk\": 0.5165622578898886, \"Chi2_GenTk\": 19.39368827989417}, {\"primary_dataset\": \"EGamma\", \"run_id\": 303, \"Chi2Prob_GenTk\": 0.4988039376403187, \"Chi2_GenTk\": 19.259180363523047}, {\"primary_dataset\": \"EGamma\", \"run_id\": 304, \"Chi2Prob_GenTk\": 0.5130341496057075, \"Chi2_GenTk\": 19.27695799985049}, {\"primary_dataset\": \"EGamma\", \"run_id\": 305, \"Chi2Prob_GenTk\": 0.5181215600521426, \"Chi2_GenTk\": 19.40188323802562}, {\"primary_dataset\": \"EGamma\", \"run_id\": 306, \"Chi2Prob_GenTk\": 0.4838808266997891, \"Chi2_GenTk\": 19.524793570133127}, {\"primary_dataset\": \"EGamma\", \"run_id\": 307, \"Chi2Prob_GenTk\": 0.4873147192475662, \"Chi2_GenTk\": 19.45651974345302}, {\"primary_dataset\": \"EGamma\", \"run_id\": 308, \"Chi2Prob_GenTk\": 0.4964158069070312, \"Chi2_GenTk\": 19.262472789708404}, {\"primary_dataset\": \"EGamma\", \"run_id\": 309, \"Chi2Prob_GenTk\": 0.5049036318417641, \"Chi2_GenTk\": 19.169829054705783}, {\"primary_dataset\": \"EGamma\", \"run_id\": 310, \"Chi2Prob_GenTk\": 0.510244832280513, \"Chi2_GenTk\": 19.22653105595668}, {\"primary_dataset\": \"EGamma\", \"run_id\": 311, \"Chi2Prob_GenTk\": 0.5194132665436975, \"Chi2_GenTk\": 19.406983856062435}, {\"primary_dataset\": \"EGamma\", \"run_id\": 312, \"Chi2Prob_GenTk\": 0.5020786364412695, \"Chi2_GenTk\": 19.2603754090299}, {\"primary_dataset\": \"EGamma\", \"run_id\": 313, \"Chi2Prob_GenTk\": 0.5135392937065623, \"Chi2_GenTk\": 19.16948469648499}, {\"primary_dataset\": \"EGamma\", \"run_id\": 314, \"Chi2Prob_GenTk\": 0.5218237980398595, \"Chi2_GenTk\": 19.40079971230646}, {\"primary_dataset\": \"EGamma\", \"run_id\": 315, \"Chi2Prob_GenTk\": 0.4995742298065413, \"Chi2_GenTk\": 19.26890693452088}, {\"primary_dataset\": \"EGamma\", \"run_id\": 316, \"Chi2Prob_GenTk\": 0.4727933589657608, \"Chi2_GenTk\": 19.77626400839648}, {\"primary_dataset\": \"EGamma\", \"run_id\": 317, \"Chi2Prob_GenTk\": 0.4743127981847597, \"Chi2_GenTk\": 19.75757580077872}, {\"primary_dataset\": \"EGamma\", \"run_id\": 318, \"Chi2Prob_GenTk\": 0.4799077551597195, \"Chi2_GenTk\": 19.646185731102165}, {\"primary_dataset\": \"EGamma\", \"run_id\": 319, \"Chi2Prob_GenTk\": 0.4811222098159048, \"Chi2_GenTk\": 19.61114359560422}, {\"primary_dataset\": \"EGamma\", \"run_id\": 320, \"Chi2Prob_GenTk\": 0.4983644993419484, \"Chi2_GenTk\": 19.26930802559957}, {\"primary_dataset\": \"EGamma\", \"run_id\": 321, \"Chi2Prob_GenTk\": 0.4838054515818654, \"Chi2_GenTk\": 19.486808408801952}, {\"primary_dataset\": \"EGamma\", \"run_id\": 322, \"Chi2Prob_GenTk\": 0.4997623891838055, \"Chi2_GenTk\": 19.24577586857505}, {\"primary_dataset\": \"EGamma\", \"run_id\": 323, \"Chi2Prob_GenTk\": 0.4947334899632832, \"Chi2_GenTk\": 19.27534377166633}, {\"primary_dataset\": \"EGamma\", \"run_id\": 324, \"Chi2Prob_GenTk\": 0.5158563460591506, \"Chi2_GenTk\": 19.21909058045344}, {\"primary_dataset\": \"EGamma\", \"run_id\": 325, \"Chi2Prob_GenTk\": 0.5214408154018094, \"Chi2_GenTk\": 19.39382871053326}, {\"primary_dataset\": \"EGamma\", \"run_id\": 326, \"Chi2Prob_GenTk\": 0.4731042263191254, \"Chi2_GenTk\": 19.78944003282133}, {\"primary_dataset\": \"EGamma\", \"run_id\": 327, \"Chi2Prob_GenTk\": 0.4755917098972325, \"Chi2_GenTk\": 19.74029522290545}, {\"primary_dataset\": \"EGamma\", \"run_id\": 328, \"Chi2Prob_GenTk\": 0.4801214835264671, \"Chi2_GenTk\": 19.624901936933192}, {\"primary_dataset\": \"EGamma\", \"run_id\": 329, \"Chi2Prob_GenTk\": 0.4947847685405703, \"Chi2_GenTk\": 19.308513125041465}, {\"primary_dataset\": \"EGamma\", \"run_id\": 330, \"Chi2Prob_GenTk\": 0.4752373376539294, \"Chi2_GenTk\": 19.81304198313613}, {\"primary_dataset\": \"EGamma\", \"run_id\": 331, \"Chi2Prob_GenTk\": 0.4720761533469093, \"Chi2_GenTk\": 19.85480212476049}, {\"primary_dataset\": \"EGamma\", \"run_id\": 332, \"Chi2Prob_GenTk\": 0.478019568505588, \"Chi2_GenTk\": 19.6272414323766}, {\"primary_dataset\": \"EGamma\", \"run_id\": 333, \"Chi2Prob_GenTk\": 0.4910309526807678, \"Chi2_GenTk\": 19.362629277808605}, {\"primary_dataset\": \"EGamma\", \"run_id\": 334, \"Chi2Prob_GenTk\": 0.502676615972412, \"Chi2_GenTk\": 19.20414085602289}, {\"primary_dataset\": \"EGamma\", \"run_id\": 335, \"Chi2Prob_GenTk\": 0.5132189737591173, \"Chi2_GenTk\": 19.267744341098226}, {\"primary_dataset\": \"EGamma\", \"run_id\": 336, \"Chi2Prob_GenTk\": 0.4960808855132907, \"Chi2_GenTk\": 19.33663706832375}, {\"primary_dataset\": \"EGamma\", \"run_id\": 337, \"Chi2Prob_GenTk\": 0.521297470308827, \"Chi2_GenTk\": 19.69628693880089}, {\"primary_dataset\": \"EGamma\", \"run_id\": 338, \"Chi2Prob_GenTk\": 0.5219254171312446, \"Chi2_GenTk\": 19.739777239032566}, {\"primary_dataset\": \"EGamma\", \"run_id\": 339, \"Chi2Prob_GenTk\": 0.522293950098099, \"Chi2_GenTk\": 19.809600914391183}, {\"primary_dataset\": \"EGamma\", \"run_id\": 340, \"Chi2Prob_GenTk\": 0.5228856411605277, \"Chi2_GenTk\": 19.904969118247536}, {\"primary_dataset\": \"EGamma\", \"run_id\": 341, \"Chi2Prob_GenTk\": 0.4806306820606753, \"Chi2_GenTk\": 19.57064236202892}, {\"primary_dataset\": \"EGamma\", \"run_id\": 342, \"Chi2Prob_GenTk\": 0.5023236751358279, \"Chi2_GenTk\": 19.241327183232016}, {\"primary_dataset\": \"EGamma\", \"run_id\": 343, \"Chi2Prob_GenTk\": 0.5215242035773374, \"Chi2_GenTk\": 19.416584577870957}, {\"primary_dataset\": \"EGamma\", \"run_id\": 344, \"Chi2Prob_GenTk\": 0.4909019784043318, \"Chi2_GenTk\": 19.35451747838885}, {\"primary_dataset\": \"EGamma\", \"run_id\": 345, \"Chi2Prob_GenTk\": 0.5174189132075674, \"Chi2_GenTk\": 19.32581957786053}, {\"primary_dataset\": \"EGamma\", \"run_id\": 346, \"Chi2Prob_GenTk\": 0.4782893684156401, \"Chi2_GenTk\": 19.553500512843776}, {\"primary_dataset\": \"EGamma\", \"run_id\": 347, \"Chi2Prob_GenTk\": 0.482961816576771, \"Chi2_GenTk\": 19.434111832290277}, {\"primary_dataset\": \"EGamma\", \"run_id\": 348, \"Chi2Prob_GenTk\": 0.488872547444113, \"Chi2_GenTk\": 19.393538110638836}, {\"primary_dataset\": \"EGamma\", \"run_id\": 349, \"Chi2Prob_GenTk\": 0.5026550662775046, \"Chi2_GenTk\": 19.169848506182262}, {\"primary_dataset\": \"EGamma\", \"run_id\": 350, \"Chi2Prob_GenTk\": 0.5165993481340729, \"Chi2_GenTk\": 19.24030439059816}, {\"primary_dataset\": \"EGamma\", \"run_id\": 351, \"Chi2Prob_GenTk\": 0.494859627095665, \"Chi2_GenTk\": 19.340945769094493}, {\"primary_dataset\": \"EGamma\", \"run_id\": 352, \"Chi2Prob_GenTk\": 0.5224517901849721, \"Chi2_GenTk\": 19.478452792991614}, {\"primary_dataset\": \"EGamma\", \"run_id\": 353, \"Chi2Prob_GenTk\": 0.5010869862963793, \"Chi2_GenTk\": 19.30105314606009}, {\"primary_dataset\": \"EGamma\", \"run_id\": 354, \"Chi2Prob_GenTk\": 0.0, \"Chi2_GenTk\": 0.0}, {\"primary_dataset\": \"EGamma\", \"run_id\": 355, \"Chi2Prob_GenTk\": 0.4858823199066669, \"Chi2_GenTk\": 19.549851932269952}, {\"primary_dataset\": \"EGamma\", \"run_id\": 356, \"Chi2Prob_GenTk\": 0.4908481343415232, \"Chi2_GenTk\": 19.43418604000524}, {\"primary_dataset\": \"EGamma\", \"run_id\": 357, \"Chi2Prob_GenTk\": 0.4794707935113144, \"Chi2_GenTk\": 19.679735822996268}, {\"primary_dataset\": \"EGamma\", \"run_id\": 358, \"Chi2Prob_GenTk\": 0.4413538476747342, \"Chi2_GenTk\": 19.86007466888224}, {\"primary_dataset\": \"EGamma\", \"run_id\": 359, \"Chi2Prob_GenTk\": 0.5054503861906728, \"Chi2_GenTk\": 19.31577817966857}, {\"primary_dataset\": \"EGamma\", \"run_id\": 360, \"Chi2Prob_GenTk\": 0.5183137742735958, \"Chi2_GenTk\": 19.522649849483297}, {\"primary_dataset\": \"EGamma\", \"run_id\": 361, \"Chi2Prob_GenTk\": 0.4944751312333577, \"Chi2_GenTk\": 19.366499835306264}, {\"primary_dataset\": \"EGamma\", \"run_id\": 362, \"Chi2Prob_GenTk\": 0.5085007445235916, \"Chi2_GenTk\": 19.284606716741635}, {\"primary_dataset\": \"EGamma\", \"run_id\": 363, \"Chi2Prob_GenTk\": 0.5107795743354869, \"Chi2_GenTk\": 19.42198767884916}, {\"primary_dataset\": \"EGamma\", \"run_id\": 364, \"Chi2Prob_GenTk\": 0.5151493671081013, \"Chi2_GenTk\": 19.38632171051654}, {\"primary_dataset\": \"EGamma\", \"run_id\": 365, \"Chi2Prob_GenTk\": 0.4752805084024646, \"Chi2_GenTk\": 19.762944875983248}, {\"primary_dataset\": \"EGamma\", \"run_id\": 366, \"Chi2Prob_GenTk\": 0.4826209804386303, \"Chi2_GenTk\": 19.58436721721557}, {\"primary_dataset\": \"EGamma\", \"run_id\": 367, \"Chi2Prob_GenTk\": 0.4863893414435619, \"Chi2_GenTk\": 19.501959127550137}, {\"primary_dataset\": \"EGamma\", \"run_id\": 368, \"Chi2Prob_GenTk\": 0.4893942980965345, \"Chi2_GenTk\": 19.45482843984229}, {\"primary_dataset\": \"EGamma\", \"run_id\": 369, \"Chi2Prob_GenTk\": 0.4961183924748215, \"Chi2_GenTk\": 19.30917209337923}, {\"primary_dataset\": \"EGamma\", \"run_id\": 370, \"Chi2Prob_GenTk\": 0.502009755219912, \"Chi2_GenTk\": 19.267851207291272}, {\"primary_dataset\": \"EGamma\", \"run_id\": 371, \"Chi2Prob_GenTk\": 0.5088231976766977, \"Chi2_GenTk\": 19.284391231778105}, {\"primary_dataset\": \"EGamma\", \"run_id\": 372, \"Chi2Prob_GenTk\": 0.5152423416517807, \"Chi2_GenTk\": 19.4181593066548}, {\"primary_dataset\": \"EGamma\", \"run_id\": 373, \"Chi2Prob_GenTk\": 0.4761612491869985, \"Chi2_GenTk\": 19.75270993643876}, {\"primary_dataset\": \"EGamma\", \"run_id\": 374, \"Chi2Prob_GenTk\": 0.481842177229608, \"Chi2_GenTk\": 19.672887567864223}, {\"primary_dataset\": \"EGamma\", \"run_id\": 375, \"Chi2Prob_GenTk\": 0.4820180331908095, \"Chi2_GenTk\": 19.60334644907585}, {\"primary_dataset\": \"EGamma\", \"run_id\": 376, \"Chi2Prob_GenTk\": 0.4957064025149917, \"Chi2_GenTk\": 19.384122743876077}, {\"primary_dataset\": \"EGamma\", \"run_id\": 377, \"Chi2Prob_GenTk\": 0.5032531242915089, \"Chi2_GenTk\": 19.27411223374597}, {\"primary_dataset\": \"EGamma\", \"run_id\": 378, \"Chi2Prob_GenTk\": 0.5135137069854281, \"Chi2_GenTk\": 19.33610463848277}, {\"primary_dataset\": \"EGamma\", \"run_id\": 379, \"Chi2Prob_GenTk\": 0.5134756045559576, \"Chi2_GenTk\": 20.50767735106086}, {\"primary_dataset\": \"EGamma\", \"run_id\": 380, \"Chi2Prob_GenTk\": 0.5180694199974983, \"Chi2_GenTk\": 19.521743775457573}, {\"primary_dataset\": \"EGamma\", \"run_id\": 381, \"Chi2Prob_GenTk\": 0.4882951934914165, \"Chi2_GenTk\": 19.482521525340264}, {\"primary_dataset\": \"EGamma\", \"run_id\": 382, \"Chi2Prob_GenTk\": 0.5118546764086438, \"Chi2_GenTk\": 19.29065047724704}, {\"primary_dataset\": \"EGamma\", \"run_id\": 383, \"Chi2Prob_GenTk\": 0.5184296509716035, \"Chi2_GenTk\": 19.39389225284868}, {\"primary_dataset\": \"EGamma\", \"run_id\": 384, \"Chi2Prob_GenTk\": 0.5217942529614027, \"Chi2_GenTk\": 19.47887039695994}, {\"primary_dataset\": \"EGamma\", \"run_id\": 385, \"Chi2Prob_GenTk\": 0.4859189188276078, \"Chi2_GenTk\": 19.504880527532347}, {\"primary_dataset\": \"EGamma\", \"run_id\": 386, \"Chi2Prob_GenTk\": 0.4981064824697049, \"Chi2_GenTk\": 19.26066678402019}, {\"primary_dataset\": \"EGamma\", \"run_id\": 387, \"Chi2Prob_GenTk\": 0.4950893241678381, \"Chi2_GenTk\": 19.32394525366866}, {\"primary_dataset\": \"EGamma\", \"run_id\": 388, \"Chi2Prob_GenTk\": 0.4856692484607722, \"Chi2_GenTk\": 19.51919654128284}, {\"primary_dataset\": \"EGamma\", \"run_id\": 389, \"Chi2Prob_GenTk\": 0.5116347788716376, \"Chi2_GenTk\": 19.2375260641698}, {\"primary_dataset\": \"EGamma\", \"run_id\": 390, \"Chi2Prob_GenTk\": 0.4901596711632857, \"Chi2_GenTk\": 19.394093489330544}, {\"primary_dataset\": \"EGamma\", \"run_id\": 391, \"Chi2Prob_GenTk\": 0.508190820620958, \"Chi2_GenTk\": 19.17744364278625}, {\"primary_dataset\": \"EGamma\", \"run_id\": 392, \"Chi2Prob_GenTk\": 0.4851794309119768, \"Chi2_GenTk\": 19.50756763662223}, {\"primary_dataset\": \"EGamma\", \"run_id\": 393, \"Chi2Prob_GenTk\": 0.4501613731674693, \"Chi2_GenTk\": 20.03907510537063}, {\"primary_dataset\": \"EGamma\", \"run_id\": 394, \"Chi2Prob_GenTk\": 0.4797403213198186, \"Chi2_GenTk\": 19.60372339356589}, {\"primary_dataset\": \"EGamma\", \"run_id\": 395, \"Chi2Prob_GenTk\": 0.4932492638291687, \"Chi2_GenTk\": 19.35710200310669}, {\"primary_dataset\": \"EGamma\", \"run_id\": 396, \"Chi2Prob_GenTk\": 0.5165281420897369, \"Chi2_GenTk\": 19.356129144747484}, {\"primary_dataset\": \"EGamma\", \"run_id\": 397, \"Chi2Prob_GenTk\": 0.493798871946247, \"Chi2_GenTk\": 19.377737308955787}, {\"primary_dataset\": \"EGamma\", \"run_id\": 398, \"Chi2Prob_GenTk\": 0.5172023390543915, \"Chi2_GenTk\": 19.354295859919976}, {\"primary_dataset\": \"EGamma\", \"run_id\": 399, \"Chi2Prob_GenTk\": 0.4822796516405618, \"Chi2_GenTk\": 19.44855882451208}, {\"primary_dataset\": \"EGamma\", \"run_id\": 400, \"Chi2Prob_GenTk\": 0.4758068113370753, \"Chi2_GenTk\": 19.75533747533757}, {\"primary_dataset\": \"EGamma\", \"run_id\": 401, \"Chi2Prob_GenTk\": 0.4983957463822844, \"Chi2_GenTk\": 19.29683400850065}, {\"primary_dataset\": \"EGamma\", \"run_id\": 402, \"Chi2Prob_GenTk\": 0.4704722674517104, \"Chi2_GenTk\": 19.881171013544016}, {\"primary_dataset\": \"EGamma\", \"run_id\": 403, \"Chi2Prob_GenTk\": 0.4648832426555819, \"Chi2_GenTk\": 20.01552628956273}, {\"primary_dataset\": \"EGamma\", \"run_id\": 404, \"Chi2Prob_GenTk\": 0.4853891104223052, \"Chi2_GenTk\": 19.51537345093974}, {\"primary_dataset\": \"EGamma\", \"run_id\": 405, \"Chi2Prob_GenTk\": 0.4758512763554844, \"Chi2_GenTk\": 19.70943519760006}, {\"primary_dataset\": \"EGamma\", \"run_id\": 406, \"Chi2Prob_GenTk\": 0.5002772289457337, \"Chi2_GenTk\": 19.248290019803683}, {\"primary_dataset\": \"EGamma\", \"run_id\": 407, \"Chi2Prob_GenTk\": 0.4855234998521834, \"Chi2_GenTk\": 19.468461762003983}, {\"primary_dataset\": \"EGamma\", \"run_id\": 408, \"Chi2Prob_GenTk\": 0.4714309858641894, \"Chi2_GenTk\": 19.80539909965835}, {\"primary_dataset\": \"EGamma\", \"run_id\": 409, \"Chi2Prob_GenTk\": 0.4927216914683765, \"Chi2_GenTk\": 19.3496834614673}, {\"primary_dataset\": \"EGamma\", \"run_id\": 410, \"Chi2Prob_GenTk\": 0.495210257372845, \"Chi2_GenTk\": 19.33036114067698}, {\"primary_dataset\": \"EGamma\", \"run_id\": 411, \"Chi2Prob_GenTk\": 0.4752803184493563, \"Chi2_GenTk\": 19.744082609515665}, {\"primary_dataset\": \"EGamma\", \"run_id\": 412, \"Chi2Prob_GenTk\": 0.4998568835596359, \"Chi2_GenTk\": 19.298010985949716}, {\"primary_dataset\": \"EGamma\", \"run_id\": 413, \"Chi2Prob_GenTk\": 0.516207653222686, \"Chi2_GenTk\": 19.357650198967384}, {\"primary_dataset\": \"EGamma\", \"run_id\": 414, \"Chi2Prob_GenTk\": 0.4968562499582061, \"Chi2_GenTk\": 19.34673007161695}, {\"primary_dataset\": \"EGamma\", \"run_id\": 415, \"Chi2Prob_GenTk\": 0.4750129787000745, \"Chi2_GenTk\": 19.81972816542956}, {\"primary_dataset\": \"EGamma\", \"run_id\": 416, \"Chi2Prob_GenTk\": 0.4813813934172429, \"Chi2_GenTk\": 19.61731280794722}, {\"primary_dataset\": \"EGamma\", \"run_id\": 417, \"Chi2Prob_GenTk\": 0.5005666380307087, \"Chi2_GenTk\": 19.295477545133647}, {\"primary_dataset\": \"EGamma\", \"run_id\": 418, \"Chi2Prob_GenTk\": 0.5197819962669501, \"Chi2_GenTk\": 19.430442980779496}, {\"primary_dataset\": \"EGamma\", \"run_id\": 419, \"Chi2Prob_GenTk\": 0.4926695794261303, \"Chi2_GenTk\": 19.41904201303955}, {\"primary_dataset\": \"EGamma\", \"run_id\": 420, \"Chi2Prob_GenTk\": 0.4940207984528764, \"Chi2_GenTk\": 19.37546573601524}, {\"primary_dataset\": \"EGamma\", \"run_id\": 421, \"Chi2Prob_GenTk\": 0.4831199656223628, \"Chi2_GenTk\": 19.59330209334033}, {\"primary_dataset\": \"EGamma\", \"run_id\": 422, \"Chi2Prob_GenTk\": 0.496925956367262, \"Chi2_GenTk\": 19.30338455015892}, {\"primary_dataset\": \"EGamma\", \"run_id\": 423, \"Chi2Prob_GenTk\": 0.488690543760598, \"Chi2_GenTk\": 19.41375667300256}, {\"primary_dataset\": \"EGamma\", \"run_id\": 424, \"Chi2Prob_GenTk\": 0.4931110332181029, \"Chi2_GenTk\": 19.355681303002605}, {\"primary_dataset\": \"EGamma\", \"run_id\": 425, \"Chi2Prob_GenTk\": 0.4927047414552614, \"Chi2_GenTk\": 19.34794721506154}, {\"primary_dataset\": \"EGamma\", \"run_id\": 426, \"Chi2Prob_GenTk\": 0.5121087630958778, \"Chi2_GenTk\": 19.277986551217985}, {\"primary_dataset\": \"EGamma\", \"run_id\": 427, \"Chi2Prob_GenTk\": 0.4908739572797928, \"Chi2_GenTk\": 19.35684557778537}, {\"primary_dataset\": \"EGamma\", \"run_id\": 428, \"Chi2Prob_GenTk\": 0.4937876411168863, \"Chi2_GenTk\": 19.90727250938224}, {\"primary_dataset\": \"EGamma\", \"run_id\": 429, \"Chi2Prob_GenTk\": 0.4983888404678196, \"Chi2_GenTk\": 19.5696775206416}, {\"primary_dataset\": \"EGamma\", \"run_id\": 430, \"Chi2Prob_GenTk\": 0.5168897492182829, \"Chi2_GenTk\": 17.390928144763862}, {\"primary_dataset\": \"EGamma\", \"run_id\": 431, \"Chi2Prob_GenTk\": 0.4961879493597505, \"Chi2_GenTk\": 19.632319507422}, {\"primary_dataset\": \"EGamma\", \"run_id\": 432, \"Chi2Prob_GenTk\": 0.5117164309247012, \"Chi2_GenTk\": 19.242232261032026}, {\"primary_dataset\": \"EGamma\", \"run_id\": 433, \"Chi2Prob_GenTk\": 0.4845485944165911, \"Chi2_GenTk\": 19.439002988654835}, {\"primary_dataset\": \"EGamma\", \"run_id\": 434, \"Chi2Prob_GenTk\": 0.4779632584971497, \"Chi2_GenTk\": 19.629357450153048}, {\"primary_dataset\": \"EGamma\", \"run_id\": 435, \"Chi2Prob_GenTk\": 0.4884911269532555, \"Chi2_GenTk\": 19.38759907373733}, {\"primary_dataset\": \"EGamma\", \"run_id\": 436, \"Chi2Prob_GenTk\": 0.4897932211892112, \"Chi2_GenTk\": 19.418361450796265}, {\"primary_dataset\": \"EGamma\", \"run_id\": 437, \"Chi2Prob_GenTk\": 0.4952925180822265, \"Chi2_GenTk\": 19.29301991211705}, {\"primary_dataset\": \"EGamma\", \"run_id\": 438, \"Chi2Prob_GenTk\": 0.5104281424310532, \"Chi2_GenTk\": 19.22775724235756}, {\"primary_dataset\": \"EGamma\", \"run_id\": 439, \"Chi2Prob_GenTk\": 0.4944637304671408, \"Chi2_GenTk\": 19.347529824661443}, {\"primary_dataset\": \"EGamma\", \"run_id\": 440, \"Chi2Prob_GenTk\": 0.514093888144771, \"Chi2_GenTk\": 19.33322375496929}, {\"primary_dataset\": \"EGamma\", \"run_id\": 441, \"Chi2Prob_GenTk\": 0.0, \"Chi2_GenTk\": 0.0}, {\"primary_dataset\": \"EGamma\", \"run_id\": 442, \"Chi2Prob_GenTk\": 0.4792583755126087, \"Chi2_GenTk\": 19.73408973335656}, {\"primary_dataset\": \"EGamma\", \"run_id\": 443, \"Chi2Prob_GenTk\": 0.4824300452431425, \"Chi2_GenTk\": 19.265522230273188}, {\"primary_dataset\": \"EGamma\", \"run_id\": 444, \"Chi2Prob_GenTk\": 0.4869994740200041, \"Chi2_GenTk\": 18.1239764539412}, {\"primary_dataset\": \"EGamma\", \"run_id\": 445, \"Chi2Prob_GenTk\": 0.4895936539717778, \"Chi2_GenTk\": 18.058485733418312}, {\"primary_dataset\": \"EGamma\", \"run_id\": 446, \"Chi2Prob_GenTk\": 0.4923342138857203, \"Chi2_GenTk\": 17.371835026051247}, {\"primary_dataset\": \"EGamma\", \"run_id\": 447, \"Chi2Prob_GenTk\": 0.4953657399889848, \"Chi2_GenTk\": 16.397993811094086}, {\"primary_dataset\": \"EGamma\", \"run_id\": 448, \"Chi2Prob_GenTk\": 0.4964964871949213, \"Chi2_GenTk\": 16.283377820994957}, {\"primary_dataset\": \"EGamma\", \"run_id\": 449, \"Chi2Prob_GenTk\": 0.4980742729875869, \"Chi2_GenTk\": 16.24425169768259}, {\"primary_dataset\": \"EGamma\", \"run_id\": 450, \"Chi2Prob_GenTk\": 0.5008393382692344, \"Chi2_GenTk\": 19.23105986368181}, {\"primary_dataset\": \"EGamma\", \"run_id\": 451, \"Chi2Prob_GenTk\": 0.4837966163498655, \"Chi2_GenTk\": 19.52271051884407}, {\"primary_dataset\": \"EGamma\", \"run_id\": 452, \"Chi2Prob_GenTk\": 0.4956713794388527, \"Chi2_GenTk\": 19.293666439679704}, {\"primary_dataset\": \"EGamma\", \"run_id\": 453, \"Chi2Prob_GenTk\": 0.5018253026099323, \"Chi2_GenTk\": 19.22740450200158}, {\"primary_dataset\": \"EGamma\", \"run_id\": 454, \"Chi2Prob_GenTk\": 0.508023205725429, \"Chi2_GenTk\": 19.195983934988416}, {\"primary_dataset\": \"EGamma\", \"run_id\": 455, \"Chi2Prob_GenTk\": 0.5154484060813291, \"Chi2_GenTk\": 19.219729729979058}, {\"primary_dataset\": \"EGamma\", \"run_id\": 456, \"Chi2Prob_GenTk\": 0.5174743911955006, \"Chi2_GenTk\": 19.281637646070514}, {\"primary_dataset\": \"EGamma\", \"run_id\": 457, \"Chi2Prob_GenTk\": 0.4907683963089787, \"Chi2_GenTk\": 19.346150315705607}, {\"primary_dataset\": \"EGamma\", \"run_id\": 458, \"Chi2Prob_GenTk\": 0.5094872514744133, \"Chi2_GenTk\": 19.18865318532484}, {\"primary_dataset\": \"EGamma\", \"run_id\": 459, \"Chi2Prob_GenTk\": 0.5165536857359133, \"Chi2_GenTk\": 19.33255799537075}, {\"primary_dataset\": \"EGamma\", \"run_id\": 460, \"Chi2Prob_GenTk\": 0.5178056752919236, \"Chi2_GenTk\": 19.32039324039}, {\"primary_dataset\": \"EGamma\", \"run_id\": 461, \"Chi2Prob_GenTk\": 0.51975132819785, \"Chi2_GenTk\": 19.36228977155955}, {\"primary_dataset\": \"EGamma\", \"run_id\": 462, \"Chi2Prob_GenTk\": 0.4951786664057836, \"Chi2_GenTk\": 19.331124979311152}, {\"primary_dataset\": \"EGamma\", \"run_id\": 463, \"Chi2Prob_GenTk\": 0.513810151030226, \"Chi2_GenTk\": 19.208222293715608}, {\"primary_dataset\": \"EGamma\", \"run_id\": 464, \"Chi2Prob_GenTk\": 0.5231788224670532, \"Chi2_GenTk\": 19.40607963796653}, {\"primary_dataset\": \"EGamma\", \"run_id\": 465, \"Chi2Prob_GenTk\": 0.4849746100601559, \"Chi2_GenTk\": 19.551449980771974}, {\"primary_dataset\": \"EGamma\", \"run_id\": 466, \"Chi2Prob_GenTk\": 0.4926693184861843, \"Chi2_GenTk\": 19.38676721191557}, {\"primary_dataset\": \"EGamma\", \"run_id\": 467, \"Chi2Prob_GenTk\": 0.5213510994895058, \"Chi2_GenTk\": 19.205936427931}, {\"primary_dataset\": \"EGamma\", \"run_id\": 468, \"Chi2Prob_GenTk\": 0.4852322188150967, \"Chi2_GenTk\": 19.508447905939065}, {\"primary_dataset\": \"EGamma\", \"run_id\": 469, \"Chi2Prob_GenTk\": 0.4972471208372084, \"Chi2_GenTk\": 19.336090895419535}, {\"primary_dataset\": \"EGamma\", \"run_id\": 470, \"Chi2Prob_GenTk\": 0.5103085164511081, \"Chi2_GenTk\": 19.210801208449265}, {\"primary_dataset\": \"EGamma\", \"run_id\": 471, \"Chi2Prob_GenTk\": 0.4944929933620462, \"Chi2_GenTk\": 19.34577157367609}, {\"primary_dataset\": \"EGamma\", \"run_id\": 472, \"Chi2Prob_GenTk\": 0.484178160134888, \"Chi2_GenTk\": 19.567346812612897}, {\"primary_dataset\": \"EGamma\", \"run_id\": 473, \"Chi2Prob_GenTk\": 0.502007819722535, \"Chi2_GenTk\": 19.23001967439632}, {\"primary_dataset\": \"EGamma\", \"run_id\": 474, \"Chi2Prob_GenTk\": 0.4979402445072325, \"Chi2_GenTk\": 19.30103886993128}, {\"primary_dataset\": \"EGamma\", \"run_id\": 475, \"Chi2Prob_GenTk\": 0.5142432013162359, \"Chi2_GenTk\": 19.258559473341723}, {\"primary_dataset\": \"EGamma\", \"run_id\": 476, \"Chi2Prob_GenTk\": 0.4920690600683886, \"Chi2_GenTk\": 19.376867519018194}, {\"primary_dataset\": \"EGamma\", \"run_id\": 477, \"Chi2Prob_GenTk\": 0.5081603592003379, \"Chi2_GenTk\": 19.19570838686464}, {\"primary_dataset\": \"EGamma\", \"run_id\": 478, \"Chi2Prob_GenTk\": 0.497632361802618, \"Chi2_GenTk\": 19.30826900214538}, {\"primary_dataset\": \"EGamma\", \"run_id\": 479, \"Chi2Prob_GenTk\": 0.5195671038819858, \"Chi2_GenTk\": 19.29832280410203}, {\"primary_dataset\": \"EGamma\", \"run_id\": 480, \"Chi2Prob_GenTk\": 0.4812110908088071, \"Chi2_GenTk\": 19.63281454836689}, {\"primary_dataset\": \"EGamma\", \"run_id\": 481, \"Chi2Prob_GenTk\": 0.484206743787405, \"Chi2_GenTk\": 19.58051821171325}, {\"primary_dataset\": \"EGamma\", \"run_id\": 482, \"Chi2Prob_GenTk\": 0.4915055599022571, \"Chi2_GenTk\": 19.4507875041792}, {\"primary_dataset\": \"EGamma\", \"run_id\": 483, \"Chi2Prob_GenTk\": 0.5012652014273901, \"Chi2_GenTk\": 19.27443362087395}, {\"primary_dataset\": \"EGamma\", \"run_id\": 484, \"Chi2Prob_GenTk\": 0.5100632641827166, \"Chi2_GenTk\": 19.242585681990658}, {\"primary_dataset\": \"EGamma\", \"run_id\": 485, \"Chi2Prob_GenTk\": 0.4903124208890491, \"Chi2_GenTk\": 19.3918371434713}, {\"primary_dataset\": \"EGamma\", \"run_id\": 486, \"Chi2Prob_GenTk\": 0.5126782574281835, \"Chi2_GenTk\": 19.236911452181836}, {\"primary_dataset\": \"EGamma\", \"run_id\": 487, \"Chi2Prob_GenTk\": 0.4893391190681093, \"Chi2_GenTk\": 19.42434317759536}, {\"primary_dataset\": \"EGamma\", \"run_id\": 488, \"Chi2Prob_GenTk\": 0.5017254334241599, \"Chi2_GenTk\": 19.256715734645766}, {\"primary_dataset\": \"EGamma\", \"run_id\": 489, \"Chi2Prob_GenTk\": 0.518966496712528, \"Chi2_GenTk\": 19.42359004034044}, {\"primary_dataset\": \"EGamma\", \"run_id\": 490, \"Chi2Prob_GenTk\": 0.5237929420118741, \"Chi2_GenTk\": 19.56792467517388}, {\"primary_dataset\": \"EGamma\", \"run_id\": 491, \"Chi2Prob_GenTk\": 0.5268010744689099, \"Chi2_GenTk\": 19.507819091446336}, {\"primary_dataset\": \"EGamma\", \"run_id\": 492, \"Chi2Prob_GenTk\": 0.5273730597249173, \"Chi2_GenTk\": 19.550542722804785}, {\"primary_dataset\": \"EGamma\", \"run_id\": 493, \"Chi2Prob_GenTk\": 0.5280482210042142, \"Chi2_GenTk\": 19.572338619394728}, {\"primary_dataset\": \"EGamma\", \"run_id\": 494, \"Chi2Prob_GenTk\": 0.4828791730156225, \"Chi2_GenTk\": 19.587139414385103}, {\"primary_dataset\": \"EGamma\", \"run_id\": 495, \"Chi2Prob_GenTk\": 0.5045155610868949, \"Chi2_GenTk\": 19.26047598762694}, {\"primary_dataset\": \"EGamma\", \"run_id\": 496, \"Chi2Prob_GenTk\": 0.503450897942768, \"Chi2_GenTk\": 19.284437085453057}, {\"primary_dataset\": \"EGamma\", \"run_id\": 497, \"Chi2Prob_GenTk\": 0.4887537598245894, \"Chi2_GenTk\": 19.44282302098412}, {\"primary_dataset\": \"EGamma\", \"run_id\": 498, \"Chi2Prob_GenTk\": 0.501945813221702, \"Chi2_GenTk\": 19.25053685448691}, {\"primary_dataset\": \"EGamma\", \"run_id\": 499, \"Chi2Prob_GenTk\": 0.4952640722811583, \"Chi2_GenTk\": 19.3191448594252}, {\"primary_dataset\": \"EGamma\", \"run_id\": 500, \"Chi2Prob_GenTk\": 0.5396463977605863, \"Chi2_GenTk\": 18.606796116873795}, {\"primary_dataset\": \"EGamma\", \"run_id\": 501, \"Chi2Prob_GenTk\": 0.0, \"Chi2_GenTk\": 0.0}, {\"primary_dataset\": \"EGamma\", \"run_id\": 502, \"Chi2Prob_GenTk\": 0.5605770560390123, \"Chi2_GenTk\": 21.676455487543887}, {\"primary_dataset\": \"EGamma\", \"run_id\": 503, \"Chi2Prob_GenTk\": 0.4994017693994275, \"Chi2_GenTk\": 19.285421726730256}, {\"primary_dataset\": \"EGamma\", \"run_id\": 504, \"Chi2Prob_GenTk\": 0.4994399799800716, \"Chi2_GenTk\": 19.29639257147747}, {\"primary_dataset\": \"EGamma\", \"run_id\": 505, \"Chi2Prob_GenTk\": 0.5167616565589519, \"Chi2_GenTk\": 19.30237704704659}, {\"primary_dataset\": \"EGamma\", \"run_id\": 506, \"Chi2Prob_GenTk\": 0.5188299879887723, \"Chi2_GenTk\": 19.347532890423103}, {\"primary_dataset\": \"EGamma\", \"run_id\": 507, \"Chi2Prob_GenTk\": 0.5230416367542451, \"Chi2_GenTk\": 19.46470338406476}, {\"primary_dataset\": \"EGamma\", \"run_id\": 508, \"Chi2Prob_GenTk\": 0.5286540945947342, \"Chi2_GenTk\": 19.522239810665976}, {\"primary_dataset\": \"EGamma\", \"run_id\": 509, \"Chi2Prob_GenTk\": 0.4952561427458686, \"Chi2_GenTk\": 19.34522153071482}, {\"primary_dataset\": \"EGamma\", \"run_id\": 510, \"Chi2Prob_GenTk\": 0.5146607134824073, \"Chi2_GenTk\": 19.262028192076198}, {\"primary_dataset\": \"EGamma\", \"run_id\": 511, \"Chi2Prob_GenTk\": 0.4874884382325016, \"Chi2_GenTk\": 19.498828484255323}, {\"primary_dataset\": \"EGamma\", \"run_id\": 512, \"Chi2Prob_GenTk\": 0.4981976309653633, \"Chi2_GenTk\": 19.2993873663282}, {\"primary_dataset\": \"EGamma\", \"run_id\": 513, \"Chi2Prob_GenTk\": 0.5118433282962331, \"Chi2_GenTk\": 19.248556020029053}, {\"primary_dataset\": \"EGamma\", \"run_id\": 514, \"Chi2Prob_GenTk\": 0.5236331760904066, \"Chi2_GenTk\": 19.47131070859277}, {\"primary_dataset\": \"EGamma\", \"run_id\": 515, \"Chi2Prob_GenTk\": 0.5067808317060051, \"Chi2_GenTk\": 19.244995209009677}, {\"primary_dataset\": \"EGamma\", \"run_id\": 516, \"Chi2Prob_GenTk\": 0.483352425060369, \"Chi2_GenTk\": 19.58682397127326}, {\"primary_dataset\": \"EGamma\", \"run_id\": 517, \"Chi2Prob_GenTk\": 0.5055417398753095, \"Chi2_GenTk\": 18.383383100014715}, {\"primary_dataset\": \"EGamma\", \"run_id\": 518, \"Chi2Prob_GenTk\": 0.5015556248985473, \"Chi2_GenTk\": 19.343805137678697}, {\"primary_dataset\": \"EGamma\", \"run_id\": 519, \"Chi2Prob_GenTk\": 0.4844052192251237, \"Chi2_GenTk\": 19.55189874226595}, {\"primary_dataset\": \"EGamma\", \"run_id\": 520, \"Chi2Prob_GenTk\": 0.4956646943816664, \"Chi2_GenTk\": 19.33583400926024}, {\"primary_dataset\": \"EGamma\", \"run_id\": 521, \"Chi2Prob_GenTk\": 0.5056601563547033, \"Chi2_GenTk\": 19.23624848839125}, {\"primary_dataset\": \"EGamma\", \"run_id\": 522, \"Chi2Prob_GenTk\": 0.510171169567817, \"Chi2_GenTk\": 19.185237645184063}, {\"primary_dataset\": \"EGamma\", \"run_id\": 523, \"Chi2Prob_GenTk\": 0.5167775470134893, \"Chi2_GenTk\": 19.2321670691797}, {\"primary_dataset\": \"EGamma\", \"run_id\": 524, \"Chi2Prob_GenTk\": 0.4977812950043498, \"Chi2_GenTk\": 19.321290505034156}, {\"primary_dataset\": \"EGamma\", \"run_id\": 525, \"Chi2Prob_GenTk\": 0.4881314943385794, \"Chi2_GenTk\": 19.470675060409977}, {\"primary_dataset\": \"EGamma\", \"run_id\": 526, \"Chi2Prob_GenTk\": 0.4759487942837645, \"Chi2_GenTk\": 19.74634462471297}, {\"primary_dataset\": \"EGamma\", \"run_id\": 527, \"Chi2Prob_GenTk\": 0.4829132111229855, \"Chi2_GenTk\": 19.57663268866366}, {\"primary_dataset\": \"EGamma\", \"run_id\": 528, \"Chi2Prob_GenTk\": 0.4864286897896527, \"Chi2_GenTk\": 19.4759478832698}, {\"primary_dataset\": \"EGamma\", \"run_id\": 529, \"Chi2Prob_GenTk\": 0.5014840653183771, \"Chi2_GenTk\": 19.24972997306217}, {\"primary_dataset\": \"EGamma\", \"run_id\": 530, \"Chi2Prob_GenTk\": 0.5111705728598066, \"Chi2_GenTk\": 19.27662593578921}, {\"primary_dataset\": \"EGamma\", \"run_id\": 531, \"Chi2Prob_GenTk\": 0.5245794871977884, \"Chi2_GenTk\": 19.25242371146757}, {\"primary_dataset\": \"EGamma\", \"run_id\": 532, \"Chi2Prob_GenTk\": 0.5228616251673367, \"Chi2_GenTk\": 19.2042885705459}, {\"primary_dataset\": \"EGamma\", \"run_id\": 533, \"Chi2Prob_GenTk\": 0.5244935504089097, \"Chi2_GenTk\": 19.22371453459502}, {\"primary_dataset\": \"EGamma\", \"run_id\": 534, \"Chi2Prob_GenTk\": 0.5253305210355321, \"Chi2_GenTk\": 19.175520806891893}, {\"primary_dataset\": \"EGamma\", \"run_id\": 535, \"Chi2Prob_GenTk\": 0.5287256629734226, \"Chi2_GenTk\": 19.308744413850864}, {\"primary_dataset\": \"EGamma\", \"run_id\": 536, \"Chi2Prob_GenTk\": 0.5051260392087422, \"Chi2_GenTk\": 19.16603354743589}, {\"primary_dataset\": \"EGamma\", \"run_id\": 537, \"Chi2Prob_GenTk\": 0.5070680541021007, \"Chi2_GenTk\": 19.187771328058552}, {\"primary_dataset\": \"EGamma\", \"run_id\": 538, \"Chi2Prob_GenTk\": 0.507928531020851, \"Chi2_GenTk\": 19.22440065686324}, {\"primary_dataset\": \"EGamma\", \"run_id\": 539, \"Chi2Prob_GenTk\": 0.517639497024275, \"Chi2_GenTk\": 19.128760003550862}, {\"primary_dataset\": \"EGamma\", \"run_id\": 540, \"Chi2Prob_GenTk\": 0.5271016206148588, \"Chi2_GenTk\": 19.270766004881143}, {\"primary_dataset\": \"EGamma\", \"run_id\": 541, \"Chi2Prob_GenTk\": 0.0, \"Chi2_GenTk\": 0.0}], \"data-c806fe3d43725ad3fe69393067d115ee\": [{\"primary_dataset\": \"JetHT\", \"run_id\": 1, \"Chi2Prob_GenTk\": 0.4906558514716355, \"Chi2_GenTk\": 19.15519806402273}, {\"primary_dataset\": \"JetHT\", \"run_id\": 2, \"Chi2Prob_GenTk\": 0.4928140419392519, \"Chi2_GenTk\": 18.996908932037293}, {\"primary_dataset\": \"JetHT\", \"run_id\": 3, \"Chi2Prob_GenTk\": 0.4855839776357132, \"Chi2_GenTk\": 19.19083750282715}, {\"primary_dataset\": \"JetHT\", \"run_id\": 4, \"Chi2Prob_GenTk\": 0.4986339715035355, \"Chi2_GenTk\": 19.09891240770968}, {\"primary_dataset\": \"JetHT\", \"run_id\": 5, \"Chi2Prob_GenTk\": 0.4870198567778269, \"Chi2_GenTk\": 19.250025705728845}, {\"primary_dataset\": \"JetHT\", \"run_id\": 6, \"Chi2Prob_GenTk\": 0.4819664330801749, \"Chi2_GenTk\": 19.32373682505006}, {\"primary_dataset\": \"JetHT\", \"run_id\": 7, \"Chi2Prob_GenTk\": 0.4769113888869963, \"Chi2_GenTk\": 19.36781808970724}, {\"primary_dataset\": \"JetHT\", \"run_id\": 8, \"Chi2Prob_GenTk\": 0.471014724267705, \"Chi2_GenTk\": 19.468853588881014}, {\"primary_dataset\": \"JetHT\", \"run_id\": 9, \"Chi2Prob_GenTk\": 0.4943934083750175, \"Chi2_GenTk\": 19.21066176204987}, {\"primary_dataset\": \"JetHT\", \"run_id\": 10, \"Chi2Prob_GenTk\": 0.4952258534893383, \"Chi2_GenTk\": 19.14373058198121}, {\"primary_dataset\": \"JetHT\", \"run_id\": 11, \"Chi2Prob_GenTk\": 0.503675600127367, \"Chi2_GenTk\": 19.191384471083826}, {\"primary_dataset\": \"JetHT\", \"run_id\": 12, \"Chi2Prob_GenTk\": 0.4899407930605635, \"Chi2_GenTk\": 19.238585598945544}, {\"primary_dataset\": \"JetHT\", \"run_id\": 13, \"Chi2Prob_GenTk\": 0.4820469917631838, \"Chi2_GenTk\": 19.47591874423908}, {\"primary_dataset\": \"JetHT\", \"run_id\": 14, \"Chi2Prob_GenTk\": 0.5081512482145446, \"Chi2_GenTk\": 19.376206391901864}, {\"primary_dataset\": \"JetHT\", \"run_id\": 15, \"Chi2Prob_GenTk\": 0.5121609095012414, \"Chi2_GenTk\": 19.429028010502115}, {\"primary_dataset\": \"JetHT\", \"run_id\": 16, \"Chi2Prob_GenTk\": 0.4620459737543238, \"Chi2_GenTk\": 19.95389927880205}, {\"primary_dataset\": \"JetHT\", \"run_id\": 17, \"Chi2Prob_GenTk\": 0.4704033970840978, \"Chi2_GenTk\": 19.726017436590144}, {\"primary_dataset\": \"JetHT\", \"run_id\": 18, \"Chi2Prob_GenTk\": 0.4773593791111994, \"Chi2_GenTk\": 19.48179871145346}, {\"primary_dataset\": \"JetHT\", \"run_id\": 19, \"Chi2Prob_GenTk\": 0.4990592165201704, \"Chi2_GenTk\": 19.2351135320527}, {\"primary_dataset\": \"JetHT\", \"run_id\": 20, \"Chi2Prob_GenTk\": 0.4699246319778132, \"Chi2_GenTk\": 19.740242348114304}, {\"primary_dataset\": \"JetHT\", \"run_id\": 21, \"Chi2Prob_GenTk\": 0.4677222943871816, \"Chi2_GenTk\": 19.84540514739864}, {\"primary_dataset\": \"JetHT\", \"run_id\": 22, \"Chi2Prob_GenTk\": 0.4687268947829567, \"Chi2_GenTk\": 19.824198576202257}, {\"primary_dataset\": \"JetHT\", \"run_id\": 23, \"Chi2Prob_GenTk\": 0.4795172232542252, \"Chi2_GenTk\": 19.51501033374902}, {\"primary_dataset\": \"JetHT\", \"run_id\": 24, \"Chi2Prob_GenTk\": 0.4680127254817308, \"Chi2_GenTk\": 19.81774707916231}, {\"primary_dataset\": \"JetHT\", \"run_id\": 25, \"Chi2Prob_GenTk\": 0.4724157770205375, \"Chi2_GenTk\": 19.67287978563686}, {\"primary_dataset\": \"JetHT\", \"run_id\": 26, \"Chi2Prob_GenTk\": 0.4787643468359767, \"Chi2_GenTk\": 19.507996042794577}, {\"primary_dataset\": \"JetHT\", \"run_id\": 27, \"Chi2Prob_GenTk\": 0.4791850776472882, \"Chi2_GenTk\": 19.44343052125498}, {\"primary_dataset\": \"JetHT\", \"run_id\": 28, \"Chi2Prob_GenTk\": 0.4939535375645571, \"Chi2_GenTk\": 19.25024297532376}, {\"primary_dataset\": \"JetHT\", \"run_id\": 29, \"Chi2Prob_GenTk\": 0.5087959009022179, \"Chi2_GenTk\": 19.27479649065105}, {\"primary_dataset\": \"JetHT\", \"run_id\": 30, \"Chi2Prob_GenTk\": 0.5143398758517892, \"Chi2_GenTk\": 19.47571629815517}, {\"primary_dataset\": \"JetHT\", \"run_id\": 31, \"Chi2Prob_GenTk\": 0.5150310163537053, \"Chi2_GenTk\": 19.48246508023688}, {\"primary_dataset\": \"JetHT\", \"run_id\": 32, \"Chi2Prob_GenTk\": 0.4903713452657586, \"Chi2_GenTk\": 19.334731403773123}, {\"primary_dataset\": \"JetHT\", \"run_id\": 33, \"Chi2Prob_GenTk\": 0.511517078453993, \"Chi2_GenTk\": 19.39973293235439}, {\"primary_dataset\": \"JetHT\", \"run_id\": 34, \"Chi2Prob_GenTk\": 0.4908958263833742, \"Chi2_GenTk\": 19.39209687531199}, {\"primary_dataset\": \"JetHT\", \"run_id\": 35, \"Chi2Prob_GenTk\": 0.4976587087449731, \"Chi2_GenTk\": 19.329005622746696}, {\"primary_dataset\": \"JetHT\", \"run_id\": 36, \"Chi2Prob_GenTk\": 0.5073385679960912, \"Chi2_GenTk\": 19.388083895131597}, {\"primary_dataset\": \"JetHT\", \"run_id\": 37, \"Chi2Prob_GenTk\": 0.515020658116595, \"Chi2_GenTk\": 19.6629835042156}, {\"primary_dataset\": \"JetHT\", \"run_id\": 38, \"Chi2Prob_GenTk\": 0.4901515776803674, \"Chi2_GenTk\": 19.63363517045305}, {\"primary_dataset\": \"JetHT\", \"run_id\": 39, \"Chi2Prob_GenTk\": 0.4853486552349274, \"Chi2_GenTk\": 19.728164273310576}, {\"primary_dataset\": \"JetHT\", \"run_id\": 40, \"Chi2Prob_GenTk\": 0.4700725737187359, \"Chi2_GenTk\": 20.07081414293713}, {\"primary_dataset\": \"JetHT\", \"run_id\": 41, \"Chi2Prob_GenTk\": 0.4748502857870172, \"Chi2_GenTk\": 19.925940623930934}, {\"primary_dataset\": \"JetHT\", \"run_id\": 42, \"Chi2Prob_GenTk\": 0.4783775535711421, \"Chi2_GenTk\": 19.81185840572864}, {\"primary_dataset\": \"JetHT\", \"run_id\": 43, \"Chi2Prob_GenTk\": 0.4791398006414831, \"Chi2_GenTk\": 19.84321935966805}, {\"primary_dataset\": \"JetHT\", \"run_id\": 44, \"Chi2Prob_GenTk\": 0.4938605264841613, \"Chi2_GenTk\": 19.598353316463815}, {\"primary_dataset\": \"JetHT\", \"run_id\": 45, \"Chi2Prob_GenTk\": 0.5031356799755502, \"Chi2_GenTk\": 19.536945222644896}, {\"primary_dataset\": \"JetHT\", \"run_id\": 46, \"Chi2Prob_GenTk\": 0.0, \"Chi2_GenTk\": 0.0}, {\"primary_dataset\": \"JetHT\", \"run_id\": 47, \"Chi2Prob_GenTk\": 0.5160955085854303, \"Chi2_GenTk\": 19.670754998034106}, {\"primary_dataset\": \"JetHT\", \"run_id\": 48, \"Chi2Prob_GenTk\": 0.4917010155089065, \"Chi2_GenTk\": 19.59044708283013}, {\"primary_dataset\": \"JetHT\", \"run_id\": 49, \"Chi2Prob_GenTk\": 0.5053107883239166, \"Chi2_GenTk\": 19.517572735625265}, {\"primary_dataset\": \"JetHT\", \"run_id\": 50, \"Chi2Prob_GenTk\": 0.49597058511183, \"Chi2_GenTk\": 19.574027244034507}, {\"primary_dataset\": \"JetHT\", \"run_id\": 51, \"Chi2Prob_GenTk\": 0.4959737824198379, \"Chi2_GenTk\": 19.5531034893196}, {\"primary_dataset\": \"JetHT\", \"run_id\": 52, \"Chi2Prob_GenTk\": 0.5089872403464951, \"Chi2_GenTk\": 19.522090033514363}, {\"primary_dataset\": \"JetHT\", \"run_id\": 53, \"Chi2Prob_GenTk\": 0.4869744641031935, \"Chi2_GenTk\": 19.5805238260798}, {\"primary_dataset\": \"JetHT\", \"run_id\": 54, \"Chi2Prob_GenTk\": 0.502067109160908, \"Chi2_GenTk\": 19.44376822876811}, {\"primary_dataset\": \"JetHT\", \"run_id\": 55, \"Chi2Prob_GenTk\": 0.5109961708789004, \"Chi2_GenTk\": 19.590305607931857}, {\"primary_dataset\": \"JetHT\", \"run_id\": 56, \"Chi2Prob_GenTk\": 0.5157137923553204, \"Chi2_GenTk\": 19.709613245255568}, {\"primary_dataset\": \"JetHT\", \"run_id\": 57, \"Chi2Prob_GenTk\": 0.5179379102880727, \"Chi2_GenTk\": 19.354882524147435}, {\"primary_dataset\": \"JetHT\", \"run_id\": 58, \"Chi2Prob_GenTk\": 0.486736943727322, \"Chi2_GenTk\": 19.63955333324981}, {\"primary_dataset\": \"JetHT\", \"run_id\": 59, \"Chi2Prob_GenTk\": 0.5350617773733264, \"Chi2_GenTk\": 3.160274683518648}, {\"primary_dataset\": \"JetHT\", \"run_id\": 60, \"Chi2Prob_GenTk\": 0.4864805216606314, \"Chi2_GenTk\": 19.626997139140563}, {\"primary_dataset\": \"JetHT\", \"run_id\": 61, \"Chi2Prob_GenTk\": 0.4939775742001867, \"Chi2_GenTk\": 19.563829988570404}, {\"primary_dataset\": \"JetHT\", \"run_id\": 63, \"Chi2Prob_GenTk\": 0.4984147464401174, \"Chi2_GenTk\": 19.53165682522899}, {\"primary_dataset\": \"JetHT\", \"run_id\": 64, \"Chi2Prob_GenTk\": 0.5088158549675715, \"Chi2_GenTk\": 19.511902986749856}, {\"primary_dataset\": \"JetHT\", \"run_id\": 65, \"Chi2Prob_GenTk\": 0.4916550910366873, \"Chi2_GenTk\": 16.357553273152515}, {\"primary_dataset\": \"JetHT\", \"run_id\": 66, \"Chi2Prob_GenTk\": 0.4943229439142314, \"Chi2_GenTk\": 19.592915457895955}, {\"primary_dataset\": \"JetHT\", \"run_id\": 67, \"Chi2Prob_GenTk\": 0.4787300406007093, \"Chi2_GenTk\": 19.84333172992933}, {\"primary_dataset\": \"JetHT\", \"run_id\": 68, \"Chi2Prob_GenTk\": 0.4987454654834349, \"Chi2_GenTk\": 19.570222902656877}, {\"primary_dataset\": \"JetHT\", \"run_id\": 69, \"Chi2Prob_GenTk\": 0.4879715060136879, \"Chi2_GenTk\": 19.648680152355563}, {\"primary_dataset\": \"JetHT\", \"run_id\": 70, \"Chi2Prob_GenTk\": 0.5077828279537739, \"Chi2_GenTk\": 19.688381838893378}, {\"primary_dataset\": \"JetHT\", \"run_id\": 71, \"Chi2Prob_GenTk\": 0.510032530142152, \"Chi2_GenTk\": 19.69691377030557}, {\"primary_dataset\": \"JetHT\", \"run_id\": 72, \"Chi2Prob_GenTk\": 0.5138855544303609, \"Chi2_GenTk\": 19.775298324936266}, {\"primary_dataset\": \"JetHT\", \"run_id\": 73, \"Chi2Prob_GenTk\": 0.4824963719539551, \"Chi2_GenTk\": 19.68134661350056}, {\"primary_dataset\": \"JetHT\", \"run_id\": 74, \"Chi2Prob_GenTk\": 0.4956764739403502, \"Chi2_GenTk\": 19.5264428708916}, {\"primary_dataset\": \"JetHT\", \"run_id\": 75, \"Chi2Prob_GenTk\": 0.5084856587142218, \"Chi2_GenTk\": 19.62287443875721}, {\"primary_dataset\": \"JetHT\", \"run_id\": 76, \"Chi2Prob_GenTk\": 0.5162343091369617, \"Chi2_GenTk\": 19.809167461893136}, {\"primary_dataset\": \"JetHT\", \"run_id\": 77, \"Chi2Prob_GenTk\": 0.4885044447328708, \"Chi2_GenTk\": 19.612271599012917}, {\"primary_dataset\": \"JetHT\", \"run_id\": 78, \"Chi2Prob_GenTk\": 0.5087251395602346, \"Chi2_GenTk\": 19.567412720218808}, {\"primary_dataset\": \"JetHT\", \"run_id\": 79, \"Chi2Prob_GenTk\": 0.5177009286721956, \"Chi2_GenTk\": 19.836386742278894}, {\"primary_dataset\": \"JetHT\", \"run_id\": 80, \"Chi2Prob_GenTk\": 0.4712036847266223, \"Chi2_GenTk\": 20.01972347462002}, {\"primary_dataset\": \"JetHT\", \"run_id\": 81, \"Chi2Prob_GenTk\": 0.4870803081339346, \"Chi2_GenTk\": 19.68641166468506}, {\"primary_dataset\": \"JetHT\", \"run_id\": 82, \"Chi2Prob_GenTk\": 0.49884512667437, \"Chi2_GenTk\": 19.58789463145532}, {\"primary_dataset\": \"JetHT\", \"run_id\": 83, \"Chi2Prob_GenTk\": 0.5062381800908442, \"Chi2_GenTk\": 19.596598624368287}, {\"primary_dataset\": \"JetHT\", \"run_id\": 84, \"Chi2Prob_GenTk\": 0.4813009003559657, \"Chi2_GenTk\": 19.77908596707885}, {\"primary_dataset\": \"JetHT\", \"run_id\": 85, \"Chi2Prob_GenTk\": 0.4780680211995817, \"Chi2_GenTk\": 19.81284846591059}, {\"primary_dataset\": \"JetHT\", \"run_id\": 86, \"Chi2Prob_GenTk\": 0.4811683245862396, \"Chi2_GenTk\": 19.742960802705856}, {\"primary_dataset\": \"JetHT\", \"run_id\": 87, \"Chi2Prob_GenTk\": 0.4999544993125067, \"Chi2_GenTk\": 19.56524964795673}, {\"primary_dataset\": \"JetHT\", \"run_id\": 88, \"Chi2Prob_GenTk\": 0.4774678220480002, \"Chi2_GenTk\": 19.872632713074264}, {\"primary_dataset\": \"JetHT\", \"run_id\": 89, \"Chi2Prob_GenTk\": 0.4801222760461645, \"Chi2_GenTk\": 19.855289085409616}, {\"primary_dataset\": \"JetHT\", \"run_id\": 90, \"Chi2Prob_GenTk\": 0.4975014283161224, \"Chi2_GenTk\": 19.56087298883388}, {\"primary_dataset\": \"JetHT\", \"run_id\": 91, \"Chi2Prob_GenTk\": 0.4823360886320325, \"Chi2_GenTk\": 19.676794384181072}, {\"primary_dataset\": \"JetHT\", \"run_id\": 92, \"Chi2Prob_GenTk\": 0.5023526159599196, \"Chi2_GenTk\": 19.56058689114052}, {\"primary_dataset\": \"JetHT\", \"run_id\": 93, \"Chi2Prob_GenTk\": 0.5097961479322448, \"Chi2_GenTk\": 19.66175473122947}, {\"primary_dataset\": \"JetHT\", \"run_id\": 94, \"Chi2Prob_GenTk\": 0.4950882391123473, \"Chi2_GenTk\": 19.56669858563285}, {\"primary_dataset\": \"JetHT\", \"run_id\": 95, \"Chi2Prob_GenTk\": 0.4996542207828905, \"Chi2_GenTk\": 19.37502206356773}, {\"primary_dataset\": \"JetHT\", \"run_id\": 96, \"Chi2Prob_GenTk\": 0.4833003977679772, \"Chi2_GenTk\": 19.594720043432968}, {\"primary_dataset\": \"JetHT\", \"run_id\": 97, \"Chi2Prob_GenTk\": 0.4753989670604622, \"Chi2_GenTk\": 19.802423457748024}, {\"primary_dataset\": \"JetHT\", \"run_id\": 98, \"Chi2Prob_GenTk\": 0.4888742290705625, \"Chi2_GenTk\": 19.470662123702397}, {\"primary_dataset\": \"JetHT\", \"run_id\": 99, \"Chi2Prob_GenTk\": 0.4797641056114298, \"Chi2_GenTk\": 19.8326220575302}, {\"primary_dataset\": \"JetHT\", \"run_id\": 100, \"Chi2Prob_GenTk\": 0.4769457312686818, \"Chi2_GenTk\": 19.72653568998636}, {\"primary_dataset\": \"JetHT\", \"run_id\": 101, \"Chi2Prob_GenTk\": 0.499692938534303, \"Chi2_GenTk\": 19.39306396933804}, {\"primary_dataset\": \"JetHT\", \"run_id\": 102, \"Chi2Prob_GenTk\": 0.5114625975917143, \"Chi2_GenTk\": 19.53018746469887}, {\"primary_dataset\": \"JetHT\", \"run_id\": 103, \"Chi2Prob_GenTk\": 0.4790642279657902, \"Chi2_GenTk\": 19.63275290218405}, {\"primary_dataset\": \"JetHT\", \"run_id\": 104, \"Chi2Prob_GenTk\": 0.4973071500027171, \"Chi2_GenTk\": 19.34846670226291}, {\"primary_dataset\": \"JetHT\", \"run_id\": 105, \"Chi2Prob_GenTk\": 0.5069916648618491, \"Chi2_GenTk\": 19.38702037214225}, {\"primary_dataset\": \"JetHT\", \"run_id\": 106, \"Chi2Prob_GenTk\": 0.4831519211078082, \"Chi2_GenTk\": 19.684739262214663}, {\"primary_dataset\": \"JetHT\", \"run_id\": 107, \"Chi2Prob_GenTk\": 0.4840067907794553, \"Chi2_GenTk\": 19.575451286404064}, {\"primary_dataset\": \"JetHT\", \"run_id\": 108, \"Chi2Prob_GenTk\": 0.4920796606780643, \"Chi2_GenTk\": 19.414554480991324}, {\"primary_dataset\": \"JetHT\", \"run_id\": 109, \"Chi2Prob_GenTk\": 0.5013028381266851, \"Chi2_GenTk\": 19.36311106937689}, {\"primary_dataset\": \"JetHT\", \"run_id\": 110, \"Chi2Prob_GenTk\": 0.5071800751838205, \"Chi2_GenTk\": 19.404969451345632}, {\"primary_dataset\": \"JetHT\", \"run_id\": 111, \"Chi2Prob_GenTk\": 0.5096426143591744, \"Chi2_GenTk\": 19.446049525952724}, {\"primary_dataset\": \"JetHT\", \"run_id\": 112, \"Chi2Prob_GenTk\": 0.5114281620418448, \"Chi2_GenTk\": 19.51367742096109}, {\"primary_dataset\": \"JetHT\", \"run_id\": 113, \"Chi2Prob_GenTk\": 0.5140931280079987, \"Chi2_GenTk\": 19.56788839542493}, {\"primary_dataset\": \"JetHT\", \"run_id\": 114, \"Chi2Prob_GenTk\": 0.5167960477084352, \"Chi2_GenTk\": 19.67867982210016}, {\"primary_dataset\": \"JetHT\", \"run_id\": 115, \"Chi2Prob_GenTk\": 0.4923572366514659, \"Chi2_GenTk\": 19.407271024325723}, {\"primary_dataset\": \"JetHT\", \"run_id\": 116, \"Chi2Prob_GenTk\": 0.4952656276892994, \"Chi2_GenTk\": 19.432280447848477}, {\"primary_dataset\": \"JetHT\", \"run_id\": 117, \"Chi2Prob_GenTk\": 0.4790684644777095, \"Chi2_GenTk\": 19.631843719104776}, {\"primary_dataset\": \"JetHT\", \"run_id\": 118, \"Chi2Prob_GenTk\": 0.5043643082804105, \"Chi2_GenTk\": 19.358623840047173}, {\"primary_dataset\": \"JetHT\", \"run_id\": 119, \"Chi2Prob_GenTk\": 0.5115928807298771, \"Chi2_GenTk\": 19.422271016366885}, {\"primary_dataset\": \"JetHT\", \"run_id\": 120, \"Chi2Prob_GenTk\": 0.4971177645267808, \"Chi2_GenTk\": 19.3928751459572}, {\"primary_dataset\": \"JetHT\", \"run_id\": 121, \"Chi2Prob_GenTk\": 0.4953687714452902, \"Chi2_GenTk\": 19.42253457271533}, {\"primary_dataset\": \"JetHT\", \"run_id\": 122, \"Chi2Prob_GenTk\": 0.4834115005139531, \"Chi2_GenTk\": 19.539948730590325}, {\"primary_dataset\": \"JetHT\", \"run_id\": 123, \"Chi2Prob_GenTk\": 0.4835783119921882, \"Chi2_GenTk\": 19.56876223113742}, {\"primary_dataset\": \"JetHT\", \"run_id\": 124, \"Chi2Prob_GenTk\": 0.4906935611397374, \"Chi2_GenTk\": 19.476050459899188}, {\"primary_dataset\": \"JetHT\", \"run_id\": 125, \"Chi2Prob_GenTk\": 0.4990504894474155, \"Chi2_GenTk\": 19.328169338449133}, {\"primary_dataset\": \"JetHT\", \"run_id\": 126, \"Chi2Prob_GenTk\": 0.4764850169177347, \"Chi2_GenTk\": 19.724148220679798}, {\"primary_dataset\": \"JetHT\", \"run_id\": 127, \"Chi2Prob_GenTk\": 0.4869610588641877, \"Chi2_GenTk\": 19.507445707222093}, {\"primary_dataset\": \"JetHT\", \"run_id\": 128, \"Chi2Prob_GenTk\": 0.5072586306295596, \"Chi2_GenTk\": 19.501566896356977}, {\"primary_dataset\": \"JetHT\", \"run_id\": 129, \"Chi2Prob_GenTk\": 0.5105605650664609, \"Chi2_GenTk\": 19.51505263005599}, {\"primary_dataset\": \"JetHT\", \"run_id\": 130, \"Chi2Prob_GenTk\": 0.4931525665200168, \"Chi2_GenTk\": 19.454771483220917}, {\"primary_dataset\": \"JetHT\", \"run_id\": 131, \"Chi2Prob_GenTk\": 0.4775092164430082, \"Chi2_GenTk\": 19.66670063901932}, {\"primary_dataset\": \"JetHT\", \"run_id\": 132, \"Chi2Prob_GenTk\": 0.4917609363399533, \"Chi2_GenTk\": 19.41509434419884}, {\"primary_dataset\": \"JetHT\", \"run_id\": 133, \"Chi2Prob_GenTk\": 0.4855102049778516, \"Chi2_GenTk\": 19.58726137046341}, {\"primary_dataset\": \"JetHT\", \"run_id\": 134, \"Chi2Prob_GenTk\": 0.4851671339579495, \"Chi2_GenTk\": 19.637566961331828}, {\"primary_dataset\": \"JetHT\", \"run_id\": 135, \"Chi2Prob_GenTk\": 0.5059754064694038, \"Chi2_GenTk\": 19.412631039079205}, {\"primary_dataset\": \"JetHT\", \"run_id\": 136, \"Chi2Prob_GenTk\": 0.5092062767079514, \"Chi2_GenTk\": 19.518980336645413}, {\"primary_dataset\": \"JetHT\", \"run_id\": 137, \"Chi2Prob_GenTk\": 0.5105585018581138, \"Chi2_GenTk\": 19.537637130633367}, {\"primary_dataset\": \"JetHT\", \"run_id\": 138, \"Chi2Prob_GenTk\": 0.5133255393731588, \"Chi2_GenTk\": 19.62894850751789}, {\"primary_dataset\": \"JetHT\", \"run_id\": 139, \"Chi2Prob_GenTk\": 0.4717138267306852, \"Chi2_GenTk\": 19.862066969979544}, {\"primary_dataset\": \"JetHT\", \"run_id\": 140, \"Chi2Prob_GenTk\": 0.4964997889957787, \"Chi2_GenTk\": 19.485955644808637}, {\"primary_dataset\": \"JetHT\", \"run_id\": 141, \"Chi2Prob_GenTk\": 0.4677774647885535, \"Chi2_GenTk\": 19.97516478318259}, {\"primary_dataset\": \"JetHT\", \"run_id\": 142, \"Chi2Prob_GenTk\": 0.4743970550314929, \"Chi2_GenTk\": 19.759350801407027}, {\"primary_dataset\": \"JetHT\", \"run_id\": 143, \"Chi2Prob_GenTk\": 0.49016788278883, \"Chi2_GenTk\": 19.495180052183507}, {\"primary_dataset\": \"JetHT\", \"run_id\": 144, \"Chi2Prob_GenTk\": 0.4716669744342708, \"Chi2_GenTk\": 19.857018558429576}, {\"primary_dataset\": \"JetHT\", \"run_id\": 145, \"Chi2Prob_GenTk\": 0.4754471277292518, \"Chi2_GenTk\": 19.762580089123748}, {\"primary_dataset\": \"JetHT\", \"run_id\": 146, \"Chi2Prob_GenTk\": 0.4702428319717841, \"Chi2_GenTk\": 19.818984424504}, {\"primary_dataset\": \"JetHT\", \"run_id\": 147, \"Chi2Prob_GenTk\": 0.4941338977931199, \"Chi2_GenTk\": 19.498465403071656}, {\"primary_dataset\": \"JetHT\", \"run_id\": 148, \"Chi2Prob_GenTk\": 0.4779807655031835, \"Chi2_GenTk\": 19.613889223759795}, {\"primary_dataset\": \"JetHT\", \"run_id\": 149, \"Chi2Prob_GenTk\": 0.4996059791988811, \"Chi2_GenTk\": 19.421114610967678}, {\"primary_dataset\": \"JetHT\", \"run_id\": 150, \"Chi2Prob_GenTk\": 0.5144959642391733, \"Chi2_GenTk\": 19.61776753209821}, {\"primary_dataset\": \"JetHT\", \"run_id\": 151, \"Chi2Prob_GenTk\": 0.4820499560428, \"Chi2_GenTk\": 19.61435720519693}, {\"primary_dataset\": \"JetHT\", \"run_id\": 153, \"Chi2Prob_GenTk\": 0.4736470963131745, \"Chi2_GenTk\": 19.476241030414563}, {\"primary_dataset\": \"JetHT\", \"run_id\": 154, \"Chi2Prob_GenTk\": 0.4420811733439063, \"Chi2_GenTk\": 20.0973546839759}, {\"primary_dataset\": \"JetHT\", \"run_id\": 542, \"Chi2Prob_GenTk\": 0.4952714807350913, \"Chi2_GenTk\": 19.129276535851787}, {\"primary_dataset\": \"JetHT\", \"run_id\": 543, \"Chi2Prob_GenTk\": 0.469203583045478, \"Chi2_GenTk\": 19.59986940987076}, {\"primary_dataset\": \"JetHT\", \"run_id\": 544, \"Chi2Prob_GenTk\": 0.4787067664507546, \"Chi2_GenTk\": 19.34248243449439}], \"data-5bc4f04149f8a92c6e999d9133c24b17\": [{\"primary_dataset\": \"ZeroBias\", \"run_id\": 1, \"Chi2Prob_GenTk\": 0.4976234799881626, \"Chi2_GenTk\": 18.86258613575725}]}}, {\"mode\": \"vega-lite\"});\n",
       "</script>"
      ],
      "text/plain": [
       "alt.VConcatChart(...)"
      ]
     },
     "execution_count": 21,
     "metadata": {},
     "output_type": "execute_result"
    }
   ],
   "source": [
    "EGamma & JetHT & ZeroBias"
   ]
  },
  {
   "cell_type": "code",
   "execution_count": null,
   "id": "b74199fb",
   "metadata": {},
   "outputs": [],
   "source": []
  }
 ],
 "metadata": {
  "kernelspec": {
   "display_name": "Django Shell-Plus",
   "language": "python",
   "name": "django_extensions"
  },
  "language_info": {
   "codemirror_mode": {
    "name": "ipython",
    "version": 3
   },
   "file_extension": ".py",
   "mimetype": "text/x-python",
   "name": "python",
   "nbconvert_exporter": "python",
   "pygments_lexer": "ipython3",
   "version": "3.9.7"
  }
 },
 "nbformat": 4,
 "nbformat_minor": 5
}
