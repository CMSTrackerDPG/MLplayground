{
 "cells": [
  {
   "cell_type": "code",
   "execution_count": 1,
   "id": "b95df4e2",
   "metadata": {},
   "outputs": [],
   "source": [
    "import os\n",
    "import django\n",
    "os.environ.setdefault('DJANGO_SETTINGS_MODULE', 'rest.settings')\n",
    "os.environ[\"DJANGO_ALLOW_ASYNC_UNSAFE\"] = \"true\"\n",
    "django.setup()"
   ]
  },
  {
   "cell_type": "code",
   "execution_count": 2,
   "id": "6aeb6ea3",
   "metadata": {},
   "outputs": [],
   "source": [
    "from runs.models import Run\n",
    "from run_histos.models import RunHisto"
   ]
  },
  {
   "cell_type": "code",
   "execution_count": 3,
   "id": "0162a7cc",
   "metadata": {},
   "outputs": [],
   "source": [
    "import pandas as pd\n",
    "import numpy as np\n",
    "import altair as alt"
   ]
  },
  {
   "cell_type": "code",
   "execution_count": null,
   "id": "253b0e45",
   "metadata": {},
   "outputs": [],
   "source": []
  },
  {
   "cell_type": "markdown",
   "id": "786ff643",
   "metadata": {},
   "source": [
    "## Checking apps"
   ]
  },
  {
   "cell_type": "code",
   "execution_count": 4,
   "id": "64de1c6d",
   "metadata": {},
   "outputs": [],
   "source": [
    "runs = Run.objects.all().values()"
   ]
  },
  {
   "cell_type": "code",
   "execution_count": 5,
   "id": "b056afe4",
   "metadata": {},
   "outputs": [
    {
     "data": {
      "text/plain": [
       "{'id': 1,\n",
       " 'run_number': 315258,\n",
       " 'date': datetime.datetime(2021, 10, 26, 11, 37, 39, 211844, tzinfo=<UTC>)}"
      ]
     },
     "execution_count": 5,
     "metadata": {},
     "output_type": "execute_result"
    }
   ],
   "source": [
    "runs[0]"
   ]
  },
  {
   "cell_type": "code",
   "execution_count": 6,
   "id": "a897f790",
   "metadata": {},
   "outputs": [],
   "source": [
    "run_histos = RunHisto.objects.all().values()"
   ]
  },
  {
   "cell_type": "code",
   "execution_count": 7,
   "id": "bd9589f5",
   "metadata": {},
   "outputs": [
    {
     "data": {
      "text/plain": [
       "{'id': 1,\n",
       " 'run_id': 1,\n",
       " 'date': datetime.datetime(2021, 10, 26, 11, 37, 48, 578496, tzinfo=<UTC>),\n",
       " 'primary_dataset': 'EGamma',\n",
       " 'path': 'TrackParameters/generalTracks/GeneralProperties',\n",
       " 'title': 'AbsDistanceOfClosestApproachToBS_GenTk',\n",
       " 'entries': 786498,\n",
       " 'mean': 0.4792563974038401,\n",
       " 'rms': 2.9386499655611944,\n",
       " 'skewness': 2.917119692221068,\n",
       " 'kurtosis': 29.826709167508028}"
      ]
     },
     "execution_count": 7,
     "metadata": {},
     "output_type": "execute_result"
    }
   ],
   "source": [
    "run_histos[0]"
   ]
  },
  {
   "cell_type": "code",
   "execution_count": null,
   "id": "215d8912",
   "metadata": {},
   "outputs": [],
   "source": []
  },
  {
   "cell_type": "markdown",
   "id": "2f876830",
   "metadata": {},
   "source": [
    "## Converting to dataframes"
   ]
  },
  {
   "cell_type": "code",
   "execution_count": 8,
   "id": "76e78f5f",
   "metadata": {},
   "outputs": [],
   "source": [
    "df = pd.DataFrame(run_histos)"
   ]
  },
  {
   "cell_type": "code",
   "execution_count": 9,
   "id": "3a0284f1",
   "metadata": {},
   "outputs": [
    {
     "data": {
      "text/html": [
       "<div>\n",
       "<style scoped>\n",
       "    .dataframe tbody tr th:only-of-type {\n",
       "        vertical-align: middle;\n",
       "    }\n",
       "\n",
       "    .dataframe tbody tr th {\n",
       "        vertical-align: top;\n",
       "    }\n",
       "\n",
       "    .dataframe thead th {\n",
       "        text-align: right;\n",
       "    }\n",
       "</style>\n",
       "<table border=\"1\" class=\"dataframe\">\n",
       "  <thead>\n",
       "    <tr style=\"text-align: right;\">\n",
       "      <th></th>\n",
       "      <th>id</th>\n",
       "      <th>run_id</th>\n",
       "      <th>date</th>\n",
       "      <th>primary_dataset</th>\n",
       "      <th>path</th>\n",
       "      <th>title</th>\n",
       "      <th>entries</th>\n",
       "      <th>mean</th>\n",
       "      <th>rms</th>\n",
       "      <th>skewness</th>\n",
       "      <th>kurtosis</th>\n",
       "    </tr>\n",
       "  </thead>\n",
       "  <tbody>\n",
       "    <tr>\n",
       "      <th>0</th>\n",
       "      <td>1</td>\n",
       "      <td>1</td>\n",
       "      <td>2021-10-26 11:37:48.578496+00:00</td>\n",
       "      <td>EGamma</td>\n",
       "      <td>TrackParameters/generalTracks/GeneralProperties</td>\n",
       "      <td>AbsDistanceOfClosestApproachToBS_GenTk</td>\n",
       "      <td>786498</td>\n",
       "      <td>0.479256</td>\n",
       "      <td>2.938650</td>\n",
       "      <td>2.917120</td>\n",
       "      <td>29.826709</td>\n",
       "    </tr>\n",
       "    <tr>\n",
       "      <th>1</th>\n",
       "      <td>2</td>\n",
       "      <td>1</td>\n",
       "      <td>2021-10-26 11:37:48.578595+00:00</td>\n",
       "      <td>EGamma</td>\n",
       "      <td>TrackParameters/generalTracks/GeneralProperties</td>\n",
       "      <td>Chi2Prob_GenTk</td>\n",
       "      <td>786498</td>\n",
       "      <td>0.492466</td>\n",
       "      <td>0.322329</td>\n",
       "      <td>-0.069946</td>\n",
       "      <td>-1.345512</td>\n",
       "    </tr>\n",
       "    <tr>\n",
       "      <th>2</th>\n",
       "      <td>3</td>\n",
       "      <td>1</td>\n",
       "      <td>2021-10-26 11:37:48.578635+00:00</td>\n",
       "      <td>EGamma</td>\n",
       "      <td>TrackParameters/generalTracks/GeneralProperties</td>\n",
       "      <td>Chi2_GenTk</td>\n",
       "      <td>786498</td>\n",
       "      <td>19.083402</td>\n",
       "      <td>68.698831</td>\n",
       "      <td>0.043568</td>\n",
       "      <td>-2.917017</td>\n",
       "    </tr>\n",
       "    <tr>\n",
       "      <th>3</th>\n",
       "      <td>4</td>\n",
       "      <td>1</td>\n",
       "      <td>2021-10-26 11:37:48.578670+00:00</td>\n",
       "      <td>EGamma</td>\n",
       "      <td>TrackParameters/generalTracks/GeneralProperties</td>\n",
       "      <td>Chi2oNDFVsEta_ImpactPoint_GenTk</td>\n",
       "      <td>786288</td>\n",
       "      <td>-0.106133</td>\n",
       "      <td>1.589274</td>\n",
       "      <td>0.272494</td>\n",
       "      <td>-0.112022</td>\n",
       "    </tr>\n",
       "    <tr>\n",
       "      <th>4</th>\n",
       "      <td>5</td>\n",
       "      <td>1</td>\n",
       "      <td>2021-10-26 11:37:48.578703+00:00</td>\n",
       "      <td>EGamma</td>\n",
       "      <td>TrackParameters/generalTracks/GeneralProperties</td>\n",
       "      <td>Chi2oNDFVsNHits_ImpactPoint_GenTk</td>\n",
       "      <td>786288</td>\n",
       "      <td>11.331133</td>\n",
       "      <td>6.684785</td>\n",
       "      <td>37.555632</td>\n",
       "      <td>171.534894</td>\n",
       "    </tr>\n",
       "  </tbody>\n",
       "</table>\n",
       "</div>"
      ],
      "text/plain": [
       "   id  run_id                             date primary_dataset  \\\n",
       "0   1       1 2021-10-26 11:37:48.578496+00:00          EGamma   \n",
       "1   2       1 2021-10-26 11:37:48.578595+00:00          EGamma   \n",
       "2   3       1 2021-10-26 11:37:48.578635+00:00          EGamma   \n",
       "3   4       1 2021-10-26 11:37:48.578670+00:00          EGamma   \n",
       "4   5       1 2021-10-26 11:37:48.578703+00:00          EGamma   \n",
       "\n",
       "                                              path  \\\n",
       "0  TrackParameters/generalTracks/GeneralProperties   \n",
       "1  TrackParameters/generalTracks/GeneralProperties   \n",
       "2  TrackParameters/generalTracks/GeneralProperties   \n",
       "3  TrackParameters/generalTracks/GeneralProperties   \n",
       "4  TrackParameters/generalTracks/GeneralProperties   \n",
       "\n",
       "                                    title  entries       mean        rms  \\\n",
       "0  AbsDistanceOfClosestApproachToBS_GenTk   786498   0.479256   2.938650   \n",
       "1                          Chi2Prob_GenTk   786498   0.492466   0.322329   \n",
       "2                              Chi2_GenTk   786498  19.083402  68.698831   \n",
       "3         Chi2oNDFVsEta_ImpactPoint_GenTk   786288  -0.106133   1.589274   \n",
       "4       Chi2oNDFVsNHits_ImpactPoint_GenTk   786288  11.331133   6.684785   \n",
       "\n",
       "    skewness    kurtosis  \n",
       "0   2.917120   29.826709  \n",
       "1  -0.069946   -1.345512  \n",
       "2   0.043568   -2.917017  \n",
       "3   0.272494   -0.112022  \n",
       "4  37.555632  171.534894  "
      ]
     },
     "execution_count": 9,
     "metadata": {},
     "output_type": "execute_result"
    }
   ],
   "source": [
    "df.head()"
   ]
  },
  {
   "cell_type": "code",
   "execution_count": 10,
   "id": "31f284d1",
   "metadata": {},
   "outputs": [
    {
     "data": {
      "text/plain": [
       "(17468, 11)"
      ]
     },
     "execution_count": 10,
     "metadata": {},
     "output_type": "execute_result"
    }
   ],
   "source": [
    "df.shape"
   ]
  },
  {
   "cell_type": "code",
   "execution_count": null,
   "id": "0f87d565",
   "metadata": {},
   "outputs": [],
   "source": []
  },
  {
   "cell_type": "markdown",
   "id": "1ba4f204",
   "metadata": {},
   "source": [
    "## Filtering"
   ]
  },
  {
   "cell_type": "code",
   "execution_count": 11,
   "id": "89c1c27d",
   "metadata": {},
   "outputs": [],
   "source": [
    "select_title = ['Chi2Prob_GenTk', 'Chi2_GenTk']"
   ]
  },
  {
   "cell_type": "code",
   "execution_count": 12,
   "id": "20786fd3",
   "metadata": {},
   "outputs": [],
   "source": [
    "df_filtered = df[df['title'].isin(select_title)][['primary_dataset', 'run_id', 'title', 'mean']]"
   ]
  },
  {
   "cell_type": "code",
   "execution_count": 13,
   "id": "f21db4be",
   "metadata": {},
   "outputs": [
    {
     "data": {
      "text/html": [
       "<div>\n",
       "<style scoped>\n",
       "    .dataframe tbody tr th:only-of-type {\n",
       "        vertical-align: middle;\n",
       "    }\n",
       "\n",
       "    .dataframe tbody tr th {\n",
       "        vertical-align: top;\n",
       "    }\n",
       "\n",
       "    .dataframe thead th {\n",
       "        text-align: right;\n",
       "    }\n",
       "</style>\n",
       "<table border=\"1\" class=\"dataframe\">\n",
       "  <thead>\n",
       "    <tr style=\"text-align: right;\">\n",
       "      <th></th>\n",
       "      <th>primary_dataset</th>\n",
       "      <th>run_id</th>\n",
       "      <th>title</th>\n",
       "      <th>mean</th>\n",
       "    </tr>\n",
       "  </thead>\n",
       "  <tbody>\n",
       "    <tr>\n",
       "      <th>1</th>\n",
       "      <td>EGamma</td>\n",
       "      <td>1</td>\n",
       "      <td>Chi2Prob_GenTk</td>\n",
       "      <td>0.492466</td>\n",
       "    </tr>\n",
       "    <tr>\n",
       "      <th>2</th>\n",
       "      <td>EGamma</td>\n",
       "      <td>1</td>\n",
       "      <td>Chi2_GenTk</td>\n",
       "      <td>19.083402</td>\n",
       "    </tr>\n",
       "    <tr>\n",
       "      <th>84</th>\n",
       "      <td>EGamma</td>\n",
       "      <td>2</td>\n",
       "      <td>Chi2Prob_GenTk</td>\n",
       "      <td>0.486288</td>\n",
       "    </tr>\n",
       "    <tr>\n",
       "      <th>85</th>\n",
       "      <td>EGamma</td>\n",
       "      <td>2</td>\n",
       "      <td>Chi2_GenTk</td>\n",
       "      <td>19.146579</td>\n",
       "    </tr>\n",
       "    <tr>\n",
       "      <th>167</th>\n",
       "      <td>EGamma</td>\n",
       "      <td>3</td>\n",
       "      <td>Chi2Prob_GenTk</td>\n",
       "      <td>0.499791</td>\n",
       "    </tr>\n",
       "    <tr>\n",
       "      <th>...</th>\n",
       "      <td>...</td>\n",
       "      <td>...</td>\n",
       "      <td>...</td>\n",
       "      <td>...</td>\n",
       "    </tr>\n",
       "    <tr>\n",
       "      <th>17182</th>\n",
       "      <td>ZeroBias</td>\n",
       "      <td>49</td>\n",
       "      <td>Chi2_GenTk</td>\n",
       "      <td>19.138309</td>\n",
       "    </tr>\n",
       "    <tr>\n",
       "      <th>17277</th>\n",
       "      <td>ZeroBias</td>\n",
       "      <td>50</td>\n",
       "      <td>Chi2Prob_GenTk</td>\n",
       "      <td>0.505047</td>\n",
       "    </tr>\n",
       "    <tr>\n",
       "      <th>17278</th>\n",
       "      <td>ZeroBias</td>\n",
       "      <td>50</td>\n",
       "      <td>Chi2_GenTk</td>\n",
       "      <td>19.139480</td>\n",
       "    </tr>\n",
       "    <tr>\n",
       "      <th>17373</th>\n",
       "      <td>ZeroBias</td>\n",
       "      <td>51</td>\n",
       "      <td>Chi2Prob_GenTk</td>\n",
       "      <td>0.516412</td>\n",
       "    </tr>\n",
       "    <tr>\n",
       "      <th>17374</th>\n",
       "      <td>ZeroBias</td>\n",
       "      <td>51</td>\n",
       "      <td>Chi2_GenTk</td>\n",
       "      <td>19.086274</td>\n",
       "    </tr>\n",
       "  </tbody>\n",
       "</table>\n",
       "<p>404 rows × 4 columns</p>\n",
       "</div>"
      ],
      "text/plain": [
       "      primary_dataset  run_id           title       mean\n",
       "1              EGamma       1  Chi2Prob_GenTk   0.492466\n",
       "2              EGamma       1      Chi2_GenTk  19.083402\n",
       "84             EGamma       2  Chi2Prob_GenTk   0.486288\n",
       "85             EGamma       2      Chi2_GenTk  19.146579\n",
       "167            EGamma       3  Chi2Prob_GenTk   0.499791\n",
       "...               ...     ...             ...        ...\n",
       "17182        ZeroBias      49      Chi2_GenTk  19.138309\n",
       "17277        ZeroBias      50  Chi2Prob_GenTk   0.505047\n",
       "17278        ZeroBias      50      Chi2_GenTk  19.139480\n",
       "17373        ZeroBias      51  Chi2Prob_GenTk   0.516412\n",
       "17374        ZeroBias      51      Chi2_GenTk  19.086274\n",
       "\n",
       "[404 rows x 4 columns]"
      ]
     },
     "execution_count": 13,
     "metadata": {},
     "output_type": "execute_result"
    }
   ],
   "source": [
    "df_filtered"
   ]
  },
  {
   "cell_type": "code",
   "execution_count": 14,
   "id": "a890359c",
   "metadata": {},
   "outputs": [],
   "source": [
    "df_filtered = df_filtered.pivot(index=['primary_dataset', 'run_id'], columns='title', values='mean').reset_index()"
   ]
  },
  {
   "cell_type": "code",
   "execution_count": 15,
   "id": "5b78479c",
   "metadata": {},
   "outputs": [
    {
     "data": {
      "text/html": [
       "<div>\n",
       "<style scoped>\n",
       "    .dataframe tbody tr th:only-of-type {\n",
       "        vertical-align: middle;\n",
       "    }\n",
       "\n",
       "    .dataframe tbody tr th {\n",
       "        vertical-align: top;\n",
       "    }\n",
       "\n",
       "    .dataframe thead th {\n",
       "        text-align: right;\n",
       "    }\n",
       "</style>\n",
       "<table border=\"1\" class=\"dataframe\">\n",
       "  <thead>\n",
       "    <tr style=\"text-align: right;\">\n",
       "      <th>title</th>\n",
       "      <th>primary_dataset</th>\n",
       "      <th>run_id</th>\n",
       "      <th>Chi2Prob_GenTk</th>\n",
       "      <th>Chi2_GenTk</th>\n",
       "    </tr>\n",
       "  </thead>\n",
       "  <tbody>\n",
       "    <tr>\n",
       "      <th>0</th>\n",
       "      <td>EGamma</td>\n",
       "      <td>1</td>\n",
       "      <td>0.492466</td>\n",
       "      <td>19.083402</td>\n",
       "    </tr>\n",
       "    <tr>\n",
       "      <th>1</th>\n",
       "      <td>EGamma</td>\n",
       "      <td>2</td>\n",
       "      <td>0.486288</td>\n",
       "      <td>19.146579</td>\n",
       "    </tr>\n",
       "    <tr>\n",
       "      <th>2</th>\n",
       "      <td>EGamma</td>\n",
       "      <td>3</td>\n",
       "      <td>0.499791</td>\n",
       "      <td>19.027085</td>\n",
       "    </tr>\n",
       "    <tr>\n",
       "      <th>3</th>\n",
       "      <td>EGamma</td>\n",
       "      <td>4</td>\n",
       "      <td>0.489095</td>\n",
       "      <td>19.103232</td>\n",
       "    </tr>\n",
       "    <tr>\n",
       "      <th>4</th>\n",
       "      <td>EGamma</td>\n",
       "      <td>5</td>\n",
       "      <td>0.483947</td>\n",
       "      <td>19.190387</td>\n",
       "    </tr>\n",
       "    <tr>\n",
       "      <th>...</th>\n",
       "      <td>...</td>\n",
       "      <td>...</td>\n",
       "      <td>...</td>\n",
       "      <td>...</td>\n",
       "    </tr>\n",
       "    <tr>\n",
       "      <th>197</th>\n",
       "      <td>ZeroBias</td>\n",
       "      <td>51</td>\n",
       "      <td>0.516412</td>\n",
       "      <td>19.086274</td>\n",
       "    </tr>\n",
       "    <tr>\n",
       "      <th>198</th>\n",
       "      <td>ZeroBias</td>\n",
       "      <td>52</td>\n",
       "      <td>0.497623</td>\n",
       "      <td>18.862586</td>\n",
       "    </tr>\n",
       "    <tr>\n",
       "      <th>199</th>\n",
       "      <td>ZeroBias</td>\n",
       "      <td>53</td>\n",
       "      <td>0.502357</td>\n",
       "      <td>18.838694</td>\n",
       "    </tr>\n",
       "    <tr>\n",
       "      <th>200</th>\n",
       "      <td>ZeroBias</td>\n",
       "      <td>54</td>\n",
       "      <td>0.479684</td>\n",
       "      <td>19.094168</td>\n",
       "    </tr>\n",
       "    <tr>\n",
       "      <th>201</th>\n",
       "      <td>ZeroBias</td>\n",
       "      <td>55</td>\n",
       "      <td>0.487128</td>\n",
       "      <td>18.958929</td>\n",
       "    </tr>\n",
       "  </tbody>\n",
       "</table>\n",
       "<p>202 rows × 4 columns</p>\n",
       "</div>"
      ],
      "text/plain": [
       "title primary_dataset  run_id  Chi2Prob_GenTk  Chi2_GenTk\n",
       "0              EGamma       1        0.492466   19.083402\n",
       "1              EGamma       2        0.486288   19.146579\n",
       "2              EGamma       3        0.499791   19.027085\n",
       "3              EGamma       4        0.489095   19.103232\n",
       "4              EGamma       5        0.483947   19.190387\n",
       "..                ...     ...             ...         ...\n",
       "197          ZeroBias      51        0.516412   19.086274\n",
       "198          ZeroBias      52        0.497623   18.862586\n",
       "199          ZeroBias      53        0.502357   18.838694\n",
       "200          ZeroBias      54        0.479684   19.094168\n",
       "201          ZeroBias      55        0.487128   18.958929\n",
       "\n",
       "[202 rows x 4 columns]"
      ]
     },
     "execution_count": 15,
     "metadata": {},
     "output_type": "execute_result"
    }
   ],
   "source": [
    "df_filtered"
   ]
  },
  {
   "cell_type": "code",
   "execution_count": 16,
   "id": "19e79e5e",
   "metadata": {},
   "outputs": [
    {
     "data": {
      "text/plain": [
       "array(['EGamma', 'JetHT', 'SingleMuon', 'ZeroBias'], dtype=object)"
      ]
     },
     "execution_count": 16,
     "metadata": {},
     "output_type": "execute_result"
    }
   ],
   "source": [
    "df_filtered.primary_dataset.unique()"
   ]
  },
  {
   "cell_type": "code",
   "execution_count": null,
   "id": "1e70de59",
   "metadata": {},
   "outputs": [],
   "source": []
  },
  {
   "cell_type": "markdown",
   "id": "dad6535a",
   "metadata": {},
   "source": [
    "## Testing cross-filtering with altair"
   ]
  },
  {
   "cell_type": "code",
   "execution_count": 17,
   "id": "e2ce2510",
   "metadata": {},
   "outputs": [],
   "source": [
    "source = df_filtered"
   ]
  },
  {
   "cell_type": "code",
   "execution_count": 18,
   "id": "bb329f3d",
   "metadata": {},
   "outputs": [],
   "source": [
    "brush_EGamma     = alt.selection(type='interval')\n",
    "brush_SingleMuon = alt.selection(type='interval')\n",
    "brush_JetHT      = alt.selection(type='interval')\n",
    "brush_ZeroBias   = alt.selection(type='interval')"
   ]
  },
  {
   "cell_type": "code",
   "execution_count": 24,
   "id": "b5a40a03",
   "metadata": {},
   "outputs": [],
   "source": []
  },
  {
   "cell_type": "code",
   "execution_count": 19,
   "id": "1997a641",
   "metadata": {},
   "outputs": [],
   "source": [
    "EGamma = alt.Chart(source[source['primary_dataset']=='EGamma']).mark_point(clip=True).encode(\n",
    "    alt.X('Chi2Prob_GenTk:Q',\n",
    "        scale=alt.Scale(domain=(0.4, 0.6))\n",
    "    ),\n",
    "    alt.Y('Chi2_GenTk:Q',\n",
    "        scale=alt.Scale(domain=(16, 22))\n",
    "    ),\n",
    "    color=alt.condition(brush_EGamma|brush_SingleMuon|brush_JetHT|brush_ZeroBias, 'primary_dataset', alt.value('lightgray'))\n",
    ").add_selection(\n",
    "    brush_EGamma\n",
    ")"
   ]
  },
  {
   "cell_type": "code",
   "execution_count": 20,
   "id": "a6dc1082",
   "metadata": {},
   "outputs": [],
   "source": [
    "SingleMuon = alt.Chart(source[source['primary_dataset']=='SingleMuon']).mark_point(clip=True).encode(\n",
    "    alt.X('Chi2Prob_GenTk:Q',\n",
    "        scale=alt.Scale(domain=(0.4, 0.6))\n",
    "    ),\n",
    "    alt.Y('Chi2_GenTk:Q',\n",
    "        scale=alt.Scale(domain=(16, 22))\n",
    "    ),\n",
    "    color=alt.condition(brush_EGamma|brush_SingleMuon|brush_JetHT|brush_ZeroBias, 'primary_dataset', alt.value('lightgray'))\n",
    ").add_selection(\n",
    "    brush_SingleMuon\n",
    ")"
   ]
  },
  {
   "cell_type": "code",
   "execution_count": 21,
   "id": "28351c10",
   "metadata": {},
   "outputs": [],
   "source": [
    "JetHT = alt.Chart(source[source['primary_dataset']=='JetHT']).mark_point(clip=True).encode(\n",
    "    alt.X('Chi2Prob_GenTk:Q',\n",
    "        scale=alt.Scale(domain=(0.4, 0.6))\n",
    "    ),\n",
    "    alt.Y('Chi2_GenTk:Q',\n",
    "        scale=alt.Scale(domain=(16, 22))\n",
    "    ),\n",
    "    color=alt.condition(brush_EGamma|brush_SingleMuon|brush_JetHT|brush_ZeroBias, 'primary_dataset', alt.value('lightgray'))\n",
    ").add_selection(\n",
    "    brush_JetHT\n",
    ")"
   ]
  },
  {
   "cell_type": "code",
   "execution_count": 22,
   "id": "bc80295e",
   "metadata": {},
   "outputs": [],
   "source": [
    "ZeroBias = alt.Chart(source[source['primary_dataset']=='ZeroBias']).mark_point(clip=True).encode(\n",
    "    alt.X('Chi2Prob_GenTk:Q',\n",
    "        scale=alt.Scale(domain=(0.4, 0.6))\n",
    "    ),\n",
    "    alt.Y('Chi2_GenTk:Q',\n",
    "        scale=alt.Scale(domain=(16, 22))\n",
    "    ),\n",
    "    color=alt.condition(brush_EGamma|brush_SingleMuon|brush_JetHT|brush_ZeroBias, 'primary_dataset', alt.value('lightgray'))\n",
    ").add_selection(\n",
    "    brush_ZeroBias\n",
    ")"
   ]
  },
  {
   "cell_type": "code",
   "execution_count": 24,
   "id": "7f3a3588",
   "metadata": {},
   "outputs": [
    {
     "data": {
      "text/html": [
       "\n",
       "<div id=\"altair-viz-2ec26161a55f4726ac784050aa904d3f\"></div>\n",
       "<script type=\"text/javascript\">\n",
       "  (function(spec, embedOpt){\n",
       "    let outputDiv = document.currentScript.previousElementSibling;\n",
       "    if (outputDiv.id !== \"altair-viz-2ec26161a55f4726ac784050aa904d3f\") {\n",
       "      outputDiv = document.getElementById(\"altair-viz-2ec26161a55f4726ac784050aa904d3f\");\n",
       "    }\n",
       "    const paths = {\n",
       "      \"vega\": \"https://cdn.jsdelivr.net/npm//vega@5?noext\",\n",
       "      \"vega-lib\": \"https://cdn.jsdelivr.net/npm//vega-lib?noext\",\n",
       "      \"vega-lite\": \"https://cdn.jsdelivr.net/npm//vega-lite@4.8.1?noext\",\n",
       "      \"vega-embed\": \"https://cdn.jsdelivr.net/npm//vega-embed@6?noext\",\n",
       "    };\n",
       "\n",
       "    function loadScript(lib) {\n",
       "      return new Promise(function(resolve, reject) {\n",
       "        var s = document.createElement('script');\n",
       "        s.src = paths[lib];\n",
       "        s.async = true;\n",
       "        s.onload = () => resolve(paths[lib]);\n",
       "        s.onerror = () => reject(`Error loading script: ${paths[lib]}`);\n",
       "        document.getElementsByTagName(\"head\")[0].appendChild(s);\n",
       "      });\n",
       "    }\n",
       "\n",
       "    function showError(err) {\n",
       "      outputDiv.innerHTML = `<div class=\"error\" style=\"color:red;\">${err}</div>`;\n",
       "      throw err;\n",
       "    }\n",
       "\n",
       "    function displayChart(vegaEmbed) {\n",
       "      vegaEmbed(outputDiv, spec, embedOpt)\n",
       "        .catch(err => showError(`Javascript Error: ${err.message}<br>This usually means there's a typo in your chart specification. See the javascript console for the full traceback.`));\n",
       "    }\n",
       "\n",
       "    if(typeof define === \"function\" && define.amd) {\n",
       "      requirejs.config({paths});\n",
       "      require([\"vega-embed\"], displayChart, err => showError(`Error loading script: ${err.message}`));\n",
       "    } else if (typeof vegaEmbed === \"function\") {\n",
       "      displayChart(vegaEmbed);\n",
       "    } else {\n",
       "      loadScript(\"vega\")\n",
       "        .then(() => loadScript(\"vega-lite\"))\n",
       "        .then(() => loadScript(\"vega-embed\"))\n",
       "        .catch(showError)\n",
       "        .then(() => displayChart(vegaEmbed));\n",
       "    }\n",
       "  })({\"config\": {\"view\": {\"continuousWidth\": 400, \"continuousHeight\": 300}}, \"vconcat\": [{\"data\": {\"name\": \"data-5d963272d3f2c76139d0565d8ebf3dfb\"}, \"mark\": {\"type\": \"point\", \"clip\": true}, \"encoding\": {\"color\": {\"condition\": {\"type\": \"nominal\", \"field\": \"primary_dataset\", \"selection\": {\"or\": [{\"or\": [{\"or\": [\"selector001\", \"selector002\"]}, \"selector003\"]}, \"selector004\"]}}, \"value\": \"lightgray\"}, \"x\": {\"type\": \"quantitative\", \"field\": \"Chi2Prob_GenTk\", \"scale\": {\"domain\": [0.4, 0.6]}}, \"y\": {\"type\": \"quantitative\", \"field\": \"Chi2_GenTk\", \"scale\": {\"domain\": [16, 22]}}}, \"selection\": {\"selector001\": {\"type\": \"interval\"}}}, {\"data\": {\"name\": \"data-16d6caf09aa50f6680aee0ecb0e9ac4c\"}, \"mark\": {\"type\": \"point\", \"clip\": true}, \"encoding\": {\"color\": {\"condition\": {\"type\": \"nominal\", \"field\": \"primary_dataset\", \"selection\": {\"or\": [{\"or\": [{\"or\": [\"selector001\", \"selector002\"]}, \"selector003\"]}, \"selector004\"]}}, \"value\": \"lightgray\"}, \"x\": {\"type\": \"quantitative\", \"field\": \"Chi2Prob_GenTk\", \"scale\": {\"domain\": [0.4, 0.6]}}, \"y\": {\"type\": \"quantitative\", \"field\": \"Chi2_GenTk\", \"scale\": {\"domain\": [16, 22]}}}, \"selection\": {\"selector002\": {\"type\": \"interval\"}}}, {\"data\": {\"name\": \"data-3ca80a392ff083520b9810a143af2392\"}, \"mark\": {\"type\": \"point\", \"clip\": true}, \"encoding\": {\"color\": {\"condition\": {\"type\": \"nominal\", \"field\": \"primary_dataset\", \"selection\": {\"or\": [{\"or\": [{\"or\": [\"selector001\", \"selector002\"]}, \"selector003\"]}, \"selector004\"]}}, \"value\": \"lightgray\"}, \"x\": {\"type\": \"quantitative\", \"field\": \"Chi2Prob_GenTk\", \"scale\": {\"domain\": [0.4, 0.6]}}, \"y\": {\"type\": \"quantitative\", \"field\": \"Chi2_GenTk\", \"scale\": {\"domain\": [16, 22]}}}, \"selection\": {\"selector003\": {\"type\": \"interval\"}}}, {\"data\": {\"name\": \"data-98f88aa3bfee0b801473d9fe79a4523a\"}, \"mark\": {\"type\": \"point\", \"clip\": true}, \"encoding\": {\"color\": {\"condition\": {\"type\": \"nominal\", \"field\": \"primary_dataset\", \"selection\": {\"or\": [{\"or\": [{\"or\": [\"selector001\", \"selector002\"]}, \"selector003\"]}, \"selector004\"]}}, \"value\": \"lightgray\"}, \"x\": {\"type\": \"quantitative\", \"field\": \"Chi2Prob_GenTk\", \"scale\": {\"domain\": [0.4, 0.6]}}, \"y\": {\"type\": \"quantitative\", \"field\": \"Chi2_GenTk\", \"scale\": {\"domain\": [16, 22]}}}, \"selection\": {\"selector004\": {\"type\": \"interval\"}}}], \"$schema\": \"https://vega.github.io/schema/vega-lite/v4.8.1.json\", \"datasets\": {\"data-5d963272d3f2c76139d0565d8ebf3dfb\": [{\"primary_dataset\": \"EGamma\", \"run_id\": 1, \"Chi2Prob_GenTk\": 0.4924662347407649, \"Chi2_GenTk\": 19.083402124725044}, {\"primary_dataset\": \"EGamma\", \"run_id\": 2, \"Chi2Prob_GenTk\": 0.4862879798659411, \"Chi2_GenTk\": 19.146579441851244}, {\"primary_dataset\": \"EGamma\", \"run_id\": 3, \"Chi2Prob_GenTk\": 0.4997913739754899, \"Chi2_GenTk\": 19.02708471640169}, {\"primary_dataset\": \"EGamma\", \"run_id\": 4, \"Chi2Prob_GenTk\": 0.489094759327875, \"Chi2_GenTk\": 19.103232326516917}, {\"primary_dataset\": \"EGamma\", \"run_id\": 5, \"Chi2Prob_GenTk\": 0.483947270186265, \"Chi2_GenTk\": 19.190387224855453}, {\"primary_dataset\": \"EGamma\", \"run_id\": 6, \"Chi2Prob_GenTk\": 0.4795815681892164, \"Chi2_GenTk\": 19.191375142506047}, {\"primary_dataset\": \"EGamma\", \"run_id\": 7, \"Chi2Prob_GenTk\": 0.4740445696847979, \"Chi2_GenTk\": 19.270919053753968}, {\"primary_dataset\": \"EGamma\", \"run_id\": 8, \"Chi2Prob_GenTk\": 0.4965949350683381, \"Chi2_GenTk\": 19.061176946917183}, {\"primary_dataset\": \"EGamma\", \"run_id\": 9, \"Chi2Prob_GenTk\": 0.4974354310797699, \"Chi2_GenTk\": 19.09540147245445}, {\"primary_dataset\": \"EGamma\", \"run_id\": 10, \"Chi2Prob_GenTk\": 0.5062398404595772, \"Chi2_GenTk\": 19.01706388028745}, {\"primary_dataset\": \"EGamma\", \"run_id\": 11, \"Chi2Prob_GenTk\": 0.4922068619260418, \"Chi2_GenTk\": 19.072108654671947}, {\"primary_dataset\": \"EGamma\", \"run_id\": 12, \"Chi2Prob_GenTk\": 0.4835971708667692, \"Chi2_GenTk\": 19.34624100484445}, {\"primary_dataset\": \"EGamma\", \"run_id\": 13, \"Chi2Prob_GenTk\": 0.5105320688234479, \"Chi2_GenTk\": 19.2050061566327}, {\"primary_dataset\": \"EGamma\", \"run_id\": 14, \"Chi2Prob_GenTk\": 0.5147277622177574, \"Chi2_GenTk\": 19.23209359058236}, {\"primary_dataset\": \"EGamma\", \"run_id\": 15, \"Chi2Prob_GenTk\": 0.4646229024803487, \"Chi2_GenTk\": 19.77672815219635}, {\"primary_dataset\": \"EGamma\", \"run_id\": 16, \"Chi2Prob_GenTk\": 0.4725622673945107, \"Chi2_GenTk\": 19.581868741232174}, {\"primary_dataset\": \"EGamma\", \"run_id\": 17, \"Chi2Prob_GenTk\": 0.4792449760649107, \"Chi2_GenTk\": 19.34969345131688}, {\"primary_dataset\": \"EGamma\", \"run_id\": 18, \"Chi2Prob_GenTk\": 0.500996576814274, \"Chi2_GenTk\": 19.093514895378352}, {\"primary_dataset\": \"EGamma\", \"run_id\": 19, \"Chi2Prob_GenTk\": 0.4722215654564463, \"Chi2_GenTk\": 19.58867693210816}, {\"primary_dataset\": \"EGamma\", \"run_id\": 20, \"Chi2Prob_GenTk\": 0.4702798626039318, \"Chi2_GenTk\": 19.670731772586805}, {\"primary_dataset\": \"EGamma\", \"run_id\": 21, \"Chi2Prob_GenTk\": 0.4711776555850083, \"Chi2_GenTk\": 19.66155576518695}, {\"primary_dataset\": \"EGamma\", \"run_id\": 22, \"Chi2Prob_GenTk\": 0.4814780762991821, \"Chi2_GenTk\": 19.38382419576257}, {\"primary_dataset\": \"EGamma\", \"run_id\": 23, \"Chi2Prob_GenTk\": 0.4705093731138843, \"Chi2_GenTk\": 19.641015570779164}, {\"primary_dataset\": \"EGamma\", \"run_id\": 24, \"Chi2Prob_GenTk\": 0.4746259679165891, \"Chi2_GenTk\": 19.526329543253198}, {\"primary_dataset\": \"EGamma\", \"run_id\": 25, \"Chi2Prob_GenTk\": 0.4807810669410366, \"Chi2_GenTk\": 19.36803237721264}, {\"primary_dataset\": \"EGamma\", \"run_id\": 26, \"Chi2Prob_GenTk\": 0.4811329861938793, \"Chi2_GenTk\": 19.313752392963337}, {\"primary_dataset\": \"EGamma\", \"run_id\": 27, \"Chi2Prob_GenTk\": 0.4959971360503148, \"Chi2_GenTk\": 19.108905975454466}, {\"primary_dataset\": \"EGamma\", \"run_id\": 28, \"Chi2Prob_GenTk\": 0.5112474572348156, \"Chi2_GenTk\": 19.09575813873156}, {\"primary_dataset\": \"EGamma\", \"run_id\": 29, \"Chi2Prob_GenTk\": 0.5171929653637989, \"Chi2_GenTk\": 19.25044422771816}, {\"primary_dataset\": \"EGamma\", \"run_id\": 30, \"Chi2Prob_GenTk\": 0.5180837642057045, \"Chi2_GenTk\": 19.263084551953792}, {\"primary_dataset\": \"EGamma\", \"run_id\": 31, \"Chi2Prob_GenTk\": 0.4921981949496592, \"Chi2_GenTk\": 19.198605758488725}, {\"primary_dataset\": \"EGamma\", \"run_id\": 32, \"Chi2Prob_GenTk\": 0.5141858612529645, \"Chi2_GenTk\": 19.206584146638377}, {\"primary_dataset\": \"EGamma\", \"run_id\": 33, \"Chi2Prob_GenTk\": 0.4929225236433643, \"Chi2_GenTk\": 19.256520983773875}, {\"primary_dataset\": \"EGamma\", \"run_id\": 34, \"Chi2Prob_GenTk\": 0.4997701884411681, \"Chi2_GenTk\": 19.18092188790421}, {\"primary_dataset\": \"EGamma\", \"run_id\": 35, \"Chi2Prob_GenTk\": 0.5097873104325815, \"Chi2_GenTk\": 19.211901870244105}, {\"primary_dataset\": \"EGamma\", \"run_id\": 36, \"Chi2Prob_GenTk\": 0.5178750343768815, \"Chi2_GenTk\": 19.4643381200175}, {\"primary_dataset\": \"EGamma\", \"run_id\": 37, \"Chi2Prob_GenTk\": 0.4922288592128554, \"Chi2_GenTk\": 19.49591936313701}, {\"primary_dataset\": \"EGamma\", \"run_id\": 38, \"Chi2Prob_GenTk\": 0.4875679537357095, \"Chi2_GenTk\": 19.584618645346367}, {\"primary_dataset\": \"EGamma\", \"run_id\": 39, \"Chi2Prob_GenTk\": 0.4727480476493761, \"Chi2_GenTk\": 19.906609069093957}, {\"primary_dataset\": \"EGamma\", \"run_id\": 40, \"Chi2Prob_GenTk\": 0.4772813222129227, \"Chi2_GenTk\": 19.77148512233524}, {\"primary_dataset\": \"EGamma\", \"run_id\": 41, \"Chi2Prob_GenTk\": 0.480666145159258, \"Chi2_GenTk\": 19.672541765474584}, {\"primary_dataset\": \"EGamma\", \"run_id\": 42, \"Chi2Prob_GenTk\": 0.481486558312268, \"Chi2_GenTk\": 19.701975635470447}, {\"primary_dataset\": \"EGamma\", \"run_id\": 43, \"Chi2Prob_GenTk\": 0.4959854389005333, \"Chi2_GenTk\": 19.467504804871957}, {\"primary_dataset\": \"EGamma\", \"run_id\": 44, \"Chi2Prob_GenTk\": 0.5053141634284858, \"Chi2_GenTk\": 19.398859807793805}, {\"primary_dataset\": \"EGamma\", \"run_id\": 45, \"Chi2Prob_GenTk\": 0.4849831023838409, \"Chi2_GenTk\": 18.127081871948217}, {\"primary_dataset\": \"EGamma\", \"run_id\": 46, \"Chi2Prob_GenTk\": 0.5191746373173567, \"Chi2_GenTk\": 19.464736830344982}, {\"primary_dataset\": \"EGamma\", \"run_id\": 47, \"Chi2Prob_GenTk\": 0.4937869683552534, \"Chi2_GenTk\": 19.45888163800524}, {\"primary_dataset\": \"EGamma\", \"run_id\": 48, \"Chi2Prob_GenTk\": 0.5076094806384832, \"Chi2_GenTk\": 19.37572745397769}, {\"primary_dataset\": \"EGamma\", \"run_id\": 49, \"Chi2Prob_GenTk\": 0.4980497823296477, \"Chi2_GenTk\": 19.436827847742077}, {\"primary_dataset\": \"EGamma\", \"run_id\": 50, \"Chi2Prob_GenTk\": 0.4980788466022637, \"Chi2_GenTk\": 19.41960681805168}, {\"primary_dataset\": \"EGamma\", \"run_id\": 51, \"Chi2Prob_GenTk\": 0.5120308352364901, \"Chi2_GenTk\": 19.355773545461123}], \"data-16d6caf09aa50f6680aee0ecb0e9ac4c\": [{\"primary_dataset\": \"SingleMuon\", \"run_id\": 1, \"Chi2Prob_GenTk\": 0.4947241438656672, \"Chi2_GenTk\": 18.94062737682966}, {\"primary_dataset\": \"SingleMuon\", \"run_id\": 3, \"Chi2Prob_GenTk\": 0.5011745329388362, \"Chi2_GenTk\": 18.949905623323968}, {\"primary_dataset\": \"SingleMuon\", \"run_id\": 5, \"Chi2Prob_GenTk\": 0.4854348172229832, \"Chi2_GenTk\": 19.10894170545678}, {\"primary_dataset\": \"SingleMuon\", \"run_id\": 7, \"Chi2Prob_GenTk\": 0.4755409296328689, \"Chi2_GenTk\": 19.19026769705056}, {\"primary_dataset\": \"SingleMuon\", \"run_id\": 8, \"Chi2Prob_GenTk\": 0.4977788965239003, \"Chi2_GenTk\": 18.988621885047344}, {\"primary_dataset\": \"SingleMuon\", \"run_id\": 9, \"Chi2Prob_GenTk\": 0.4986328433259751, \"Chi2_GenTk\": 18.97258588260662}, {\"primary_dataset\": \"SingleMuon\", \"run_id\": 10, \"Chi2Prob_GenTk\": 0.5074306526681627, \"Chi2_GenTk\": 18.938568468295127}, {\"primary_dataset\": \"SingleMuon\", \"run_id\": 11, \"Chi2Prob_GenTk\": 0.4942096939353835, \"Chi2_GenTk\": 18.98781305842008}, {\"primary_dataset\": \"SingleMuon\", \"run_id\": 12, \"Chi2Prob_GenTk\": 0.4853662592137509, \"Chi2_GenTk\": 19.249414744351423}, {\"primary_dataset\": \"SingleMuon\", \"run_id\": 13, \"Chi2Prob_GenTk\": 0.511745301366639, \"Chi2_GenTk\": 19.099364881323325}, {\"primary_dataset\": \"SingleMuon\", \"run_id\": 14, \"Chi2Prob_GenTk\": 0.5159489121275738, \"Chi2_GenTk\": 19.099646649566104}, {\"primary_dataset\": \"SingleMuon\", \"run_id\": 15, \"Chi2Prob_GenTk\": 0.4656908599297726, \"Chi2_GenTk\": 19.67146223334689}, {\"primary_dataset\": \"SingleMuon\", \"run_id\": 16, \"Chi2Prob_GenTk\": 0.4736188815551564, \"Chi2_GenTk\": 19.49191889142576}, {\"primary_dataset\": \"SingleMuon\", \"run_id\": 17, \"Chi2Prob_GenTk\": 0.4803459159010337, \"Chi2_GenTk\": 19.267631677347246}, {\"primary_dataset\": \"SingleMuon\", \"run_id\": 19, \"Chi2Prob_GenTk\": 0.4732172027466892, \"Chi2_GenTk\": 19.50821842201241}, {\"primary_dataset\": \"SingleMuon\", \"run_id\": 20, \"Chi2Prob_GenTk\": 0.4712310578635874, \"Chi2_GenTk\": 19.602447292887668}, {\"primary_dataset\": \"SingleMuon\", \"run_id\": 21, \"Chi2Prob_GenTk\": 0.4721690650489594, \"Chi2_GenTk\": 19.58816861393758}, {\"primary_dataset\": \"SingleMuon\", \"run_id\": 22, \"Chi2Prob_GenTk\": 0.4825624215376856, \"Chi2_GenTk\": 19.301438866743027}, {\"primary_dataset\": \"SingleMuon\", \"run_id\": 23, \"Chi2Prob_GenTk\": 0.4712775982348779, \"Chi2_GenTk\": 19.580811854645045}, {\"primary_dataset\": \"SingleMuon\", \"run_id\": 24, \"Chi2Prob_GenTk\": 0.4756828439606997, \"Chi2_GenTk\": 19.44515189972825}, {\"primary_dataset\": \"SingleMuon\", \"run_id\": 25, \"Chi2Prob_GenTk\": 0.4818945473555149, \"Chi2_GenTk\": 19.285324638383347}, {\"primary_dataset\": \"SingleMuon\", \"run_id\": 26, \"Chi2Prob_GenTk\": 0.4822264726246376, \"Chi2_GenTk\": 19.235057983641635}, {\"primary_dataset\": \"SingleMuon\", \"run_id\": 29, \"Chi2Prob_GenTk\": 0.5184959929744458, \"Chi2_GenTk\": 19.12931448768347}, {\"primary_dataset\": \"SingleMuon\", \"run_id\": 30, \"Chi2Prob_GenTk\": 0.5192486705890962, \"Chi2_GenTk\": 19.13131793777801}, {\"primary_dataset\": \"SingleMuon\", \"run_id\": 32, \"Chi2Prob_GenTk\": 0.5153600826799474, \"Chi2_GenTk\": 19.09019740367781}, {\"primary_dataset\": \"SingleMuon\", \"run_id\": 33, \"Chi2Prob_GenTk\": 0.4939392780812089, \"Chi2_GenTk\": 19.176023012948125}, {\"primary_dataset\": \"SingleMuon\", \"run_id\": 34, \"Chi2Prob_GenTk\": 0.5009891176810699, \"Chi2_GenTk\": 19.089820064275887}, {\"primary_dataset\": \"SingleMuon\", \"run_id\": 35, \"Chi2Prob_GenTk\": 0.5108895152194108, \"Chi2_GenTk\": 19.111667955156904}, {\"primary_dataset\": \"SingleMuon\", \"run_id\": 36, \"Chi2Prob_GenTk\": 0.5190498334881464, \"Chi2_GenTk\": 19.350440286719856}, {\"primary_dataset\": \"SingleMuon\", \"run_id\": 37, \"Chi2Prob_GenTk\": 0.4936410298931298, \"Chi2_GenTk\": 19.40818051167881}, {\"primary_dataset\": \"SingleMuon\", \"run_id\": 38, \"Chi2Prob_GenTk\": 0.4888466141955618, \"Chi2_GenTk\": 19.501208826066254}, {\"primary_dataset\": \"SingleMuon\", \"run_id\": 39, \"Chi2Prob_GenTk\": 0.4736125527705884, \"Chi2_GenTk\": 19.834154675520235}, {\"primary_dataset\": \"SingleMuon\", \"run_id\": 40, \"Chi2Prob_GenTk\": 0.4782382798076052, \"Chi2_GenTk\": 19.695314461379272}, {\"primary_dataset\": \"SingleMuon\", \"run_id\": 41, \"Chi2Prob_GenTk\": 0.4816344035436922, \"Chi2_GenTk\": 19.59601056110729}, {\"primary_dataset\": \"SingleMuon\", \"run_id\": 42, \"Chi2Prob_GenTk\": 0.4824552075129561, \"Chi2_GenTk\": 19.62403668794047}, {\"primary_dataset\": \"SingleMuon\", \"run_id\": 43, \"Chi2Prob_GenTk\": 0.497073279059938, \"Chi2_GenTk\": 19.386997221093942}, {\"primary_dataset\": \"SingleMuon\", \"run_id\": 45, \"Chi2Prob_GenTk\": 0.5393316673884181, \"Chi2_GenTk\": 17.911626351794144}, {\"primary_dataset\": \"SingleMuon\", \"run_id\": 50, \"Chi2Prob_GenTk\": 0.4994043545578566, \"Chi2_GenTk\": 19.33627166136751}, {\"primary_dataset\": \"SingleMuon\", \"run_id\": 51, \"Chi2Prob_GenTk\": 0.5124778090692826, \"Chi2_GenTk\": 19.28621212632562}, {\"primary_dataset\": \"SingleMuon\", \"run_id\": 52, \"Chi2Prob_GenTk\": 0.4923368608928788, \"Chi2_GenTk\": 19.07650991464266}, {\"primary_dataset\": \"SingleMuon\", \"run_id\": 55, \"Chi2Prob_GenTk\": 0.4806875536312045, \"Chi2_GenTk\": 19.216287479474204}, {\"primary_dataset\": \"SingleMuon\", \"run_id\": 56, \"Chi2Prob_GenTk\": 0.5157942782668807, \"Chi2_GenTk\": 17.449600899727198}], \"data-3ca80a392ff083520b9810a143af2392\": [{\"primary_dataset\": \"JetHT\", \"run_id\": 1, \"Chi2Prob_GenTk\": 0.4928140419392519, \"Chi2_GenTk\": 18.996908932037293}, {\"primary_dataset\": \"JetHT\", \"run_id\": 2, \"Chi2Prob_GenTk\": 0.4855839776357132, \"Chi2_GenTk\": 19.19083750282715}, {\"primary_dataset\": \"JetHT\", \"run_id\": 3, \"Chi2Prob_GenTk\": 0.4986339715035355, \"Chi2_GenTk\": 19.09891240770968}, {\"primary_dataset\": \"JetHT\", \"run_id\": 4, \"Chi2Prob_GenTk\": 0.4870198567778269, \"Chi2_GenTk\": 19.250025705728845}, {\"primary_dataset\": \"JetHT\", \"run_id\": 5, \"Chi2Prob_GenTk\": 0.4819664330801749, \"Chi2_GenTk\": 19.32373682505006}, {\"primary_dataset\": \"JetHT\", \"run_id\": 6, \"Chi2Prob_GenTk\": 0.4769113888869963, \"Chi2_GenTk\": 19.36781808970724}, {\"primary_dataset\": \"JetHT\", \"run_id\": 7, \"Chi2Prob_GenTk\": 0.471014724267705, \"Chi2_GenTk\": 19.468853588881014}, {\"primary_dataset\": \"JetHT\", \"run_id\": 8, \"Chi2Prob_GenTk\": 0.4943934083750175, \"Chi2_GenTk\": 19.21066176204987}, {\"primary_dataset\": \"JetHT\", \"run_id\": 9, \"Chi2Prob_GenTk\": 0.4952258534893383, \"Chi2_GenTk\": 19.14373058198121}, {\"primary_dataset\": \"JetHT\", \"run_id\": 10, \"Chi2Prob_GenTk\": 0.503675600127367, \"Chi2_GenTk\": 19.191384471083826}, {\"primary_dataset\": \"JetHT\", \"run_id\": 11, \"Chi2Prob_GenTk\": 0.4899407930605635, \"Chi2_GenTk\": 19.238585598945544}, {\"primary_dataset\": \"JetHT\", \"run_id\": 12, \"Chi2Prob_GenTk\": 0.4820469917631838, \"Chi2_GenTk\": 19.47591874423908}, {\"primary_dataset\": \"JetHT\", \"run_id\": 13, \"Chi2Prob_GenTk\": 0.5081512482145446, \"Chi2_GenTk\": 19.376206391901864}, {\"primary_dataset\": \"JetHT\", \"run_id\": 14, \"Chi2Prob_GenTk\": 0.5121609095012414, \"Chi2_GenTk\": 19.429028010502115}, {\"primary_dataset\": \"JetHT\", \"run_id\": 15, \"Chi2Prob_GenTk\": 0.4620459737543238, \"Chi2_GenTk\": 19.95389927880205}, {\"primary_dataset\": \"JetHT\", \"run_id\": 16, \"Chi2Prob_GenTk\": 0.4704033970840978, \"Chi2_GenTk\": 19.726017436590144}, {\"primary_dataset\": \"JetHT\", \"run_id\": 17, \"Chi2Prob_GenTk\": 0.4773593791111994, \"Chi2_GenTk\": 19.48179871145346}, {\"primary_dataset\": \"JetHT\", \"run_id\": 18, \"Chi2Prob_GenTk\": 0.4990592165201704, \"Chi2_GenTk\": 19.2351135320527}, {\"primary_dataset\": \"JetHT\", \"run_id\": 19, \"Chi2Prob_GenTk\": 0.4699246319778132, \"Chi2_GenTk\": 19.740242348114304}, {\"primary_dataset\": \"JetHT\", \"run_id\": 20, \"Chi2Prob_GenTk\": 0.4677222943871816, \"Chi2_GenTk\": 19.84540514739864}, {\"primary_dataset\": \"JetHT\", \"run_id\": 21, \"Chi2Prob_GenTk\": 0.4687268947829567, \"Chi2_GenTk\": 19.824198576202257}, {\"primary_dataset\": \"JetHT\", \"run_id\": 22, \"Chi2Prob_GenTk\": 0.4795172232542252, \"Chi2_GenTk\": 19.51501033374902}, {\"primary_dataset\": \"JetHT\", \"run_id\": 23, \"Chi2Prob_GenTk\": 0.4680127254817308, \"Chi2_GenTk\": 19.81774707916231}, {\"primary_dataset\": \"JetHT\", \"run_id\": 24, \"Chi2Prob_GenTk\": 0.4724157770205375, \"Chi2_GenTk\": 19.67287978563686}, {\"primary_dataset\": \"JetHT\", \"run_id\": 25, \"Chi2Prob_GenTk\": 0.4787643468359767, \"Chi2_GenTk\": 19.507996042794577}, {\"primary_dataset\": \"JetHT\", \"run_id\": 26, \"Chi2Prob_GenTk\": 0.4791850776472882, \"Chi2_GenTk\": 19.44343052125498}, {\"primary_dataset\": \"JetHT\", \"run_id\": 27, \"Chi2Prob_GenTk\": 0.4939535375645571, \"Chi2_GenTk\": 19.25024297532376}, {\"primary_dataset\": \"JetHT\", \"run_id\": 28, \"Chi2Prob_GenTk\": 0.5087959009022179, \"Chi2_GenTk\": 19.27479649065105}, {\"primary_dataset\": \"JetHT\", \"run_id\": 29, \"Chi2Prob_GenTk\": 0.5143398758517892, \"Chi2_GenTk\": 19.47571629815517}, {\"primary_dataset\": \"JetHT\", \"run_id\": 30, \"Chi2Prob_GenTk\": 0.5150310163537053, \"Chi2_GenTk\": 19.48246508023688}, {\"primary_dataset\": \"JetHT\", \"run_id\": 31, \"Chi2Prob_GenTk\": 0.4903713452657586, \"Chi2_GenTk\": 19.334731403773123}, {\"primary_dataset\": \"JetHT\", \"run_id\": 32, \"Chi2Prob_GenTk\": 0.511517078453993, \"Chi2_GenTk\": 19.39973293235439}, {\"primary_dataset\": \"JetHT\", \"run_id\": 33, \"Chi2Prob_GenTk\": 0.4908958263833742, \"Chi2_GenTk\": 19.39209687531199}, {\"primary_dataset\": \"JetHT\", \"run_id\": 34, \"Chi2Prob_GenTk\": 0.4976587087449731, \"Chi2_GenTk\": 19.329005622746696}, {\"primary_dataset\": \"JetHT\", \"run_id\": 35, \"Chi2Prob_GenTk\": 0.5073385679960912, \"Chi2_GenTk\": 19.388083895131597}, {\"primary_dataset\": \"JetHT\", \"run_id\": 36, \"Chi2Prob_GenTk\": 0.515020658116595, \"Chi2_GenTk\": 19.6629835042156}, {\"primary_dataset\": \"JetHT\", \"run_id\": 37, \"Chi2Prob_GenTk\": 0.4901515776803674, \"Chi2_GenTk\": 19.63363517045305}, {\"primary_dataset\": \"JetHT\", \"run_id\": 38, \"Chi2Prob_GenTk\": 0.4853486552349274, \"Chi2_GenTk\": 19.728164273310576}, {\"primary_dataset\": \"JetHT\", \"run_id\": 39, \"Chi2Prob_GenTk\": 0.4700725737187359, \"Chi2_GenTk\": 20.07081414293713}, {\"primary_dataset\": \"JetHT\", \"run_id\": 40, \"Chi2Prob_GenTk\": 0.4748502857870172, \"Chi2_GenTk\": 19.925940623930934}, {\"primary_dataset\": \"JetHT\", \"run_id\": 41, \"Chi2Prob_GenTk\": 0.4783775535711421, \"Chi2_GenTk\": 19.81185840572864}, {\"primary_dataset\": \"JetHT\", \"run_id\": 42, \"Chi2Prob_GenTk\": 0.4791398006414831, \"Chi2_GenTk\": 19.84321935966805}, {\"primary_dataset\": \"JetHT\", \"run_id\": 43, \"Chi2Prob_GenTk\": 0.4938605264841613, \"Chi2_GenTk\": 19.598353316463815}, {\"primary_dataset\": \"JetHT\", \"run_id\": 44, \"Chi2Prob_GenTk\": 0.5031356799755502, \"Chi2_GenTk\": 19.536945222644896}, {\"primary_dataset\": \"JetHT\", \"run_id\": 45, \"Chi2Prob_GenTk\": 0.0, \"Chi2_GenTk\": 0.0}, {\"primary_dataset\": \"JetHT\", \"run_id\": 46, \"Chi2Prob_GenTk\": 0.5160955085854303, \"Chi2_GenTk\": 19.670754998034106}, {\"primary_dataset\": \"JetHT\", \"run_id\": 47, \"Chi2Prob_GenTk\": 0.4917010155089065, \"Chi2_GenTk\": 19.59044708283013}, {\"primary_dataset\": \"JetHT\", \"run_id\": 48, \"Chi2Prob_GenTk\": 0.5053107883239166, \"Chi2_GenTk\": 19.517572735625265}, {\"primary_dataset\": \"JetHT\", \"run_id\": 49, \"Chi2Prob_GenTk\": 0.49597058511183, \"Chi2_GenTk\": 19.574027244034507}, {\"primary_dataset\": \"JetHT\", \"run_id\": 50, \"Chi2Prob_GenTk\": 0.4959737824198379, \"Chi2_GenTk\": 19.5531034893196}, {\"primary_dataset\": \"JetHT\", \"run_id\": 51, \"Chi2Prob_GenTk\": 0.5089872403464951, \"Chi2_GenTk\": 19.522090033514363}, {\"primary_dataset\": \"JetHT\", \"run_id\": 52, \"Chi2Prob_GenTk\": 0.4906558514716355, \"Chi2_GenTk\": 19.15519806402273}, {\"primary_dataset\": \"JetHT\", \"run_id\": 53, \"Chi2Prob_GenTk\": 0.4952714807350913, \"Chi2_GenTk\": 19.129276535851787}, {\"primary_dataset\": \"JetHT\", \"run_id\": 54, \"Chi2Prob_GenTk\": 0.469203583045478, \"Chi2_GenTk\": 19.59986940987076}, {\"primary_dataset\": \"JetHT\", \"run_id\": 55, \"Chi2Prob_GenTk\": 0.4787067664507546, \"Chi2_GenTk\": 19.34248243449439}], \"data-98f88aa3bfee0b801473d9fe79a4523a\": [{\"primary_dataset\": \"ZeroBias\", \"run_id\": 1, \"Chi2Prob_GenTk\": 0.500204787743505, \"Chi2_GenTk\": 18.98919967027568}, {\"primary_dataset\": \"ZeroBias\", \"run_id\": 2, \"Chi2Prob_GenTk\": 0.4934238878083341, \"Chi2_GenTk\": 18.84388628322095}, {\"primary_dataset\": \"ZeroBias\", \"run_id\": 3, \"Chi2Prob_GenTk\": 0.5061384693270395, \"Chi2_GenTk\": 18.773530220383662}, {\"primary_dataset\": \"ZeroBias\", \"run_id\": 4, \"Chi2Prob_GenTk\": 0.4985439133494993, \"Chi2_GenTk\": 18.79305700789195}, {\"primary_dataset\": \"ZeroBias\", \"run_id\": 5, \"Chi2Prob_GenTk\": 0.4922259793938958, \"Chi2_GenTk\": 18.867102984459603}, {\"primary_dataset\": \"ZeroBias\", \"run_id\": 6, \"Chi2Prob_GenTk\": 0.4877752907352138, \"Chi2_GenTk\": 18.864892485380857}, {\"primary_dataset\": \"ZeroBias\", \"run_id\": 7, \"Chi2Prob_GenTk\": 0.482655695276513, \"Chi2_GenTk\": 18.924083881956296}, {\"primary_dataset\": \"ZeroBias\", \"run_id\": 8, \"Chi2Prob_GenTk\": 0.5052153639052168, \"Chi2_GenTk\": 18.782524238991986}, {\"primary_dataset\": \"ZeroBias\", \"run_id\": 9, \"Chi2Prob_GenTk\": 0.5031598461974878, \"Chi2_GenTk\": 18.801878079024107}, {\"primary_dataset\": \"ZeroBias\", \"run_id\": 10, \"Chi2Prob_GenTk\": 0.5120162512237968, \"Chi2_GenTk\": 18.77308334814727}, {\"primary_dataset\": \"ZeroBias\", \"run_id\": 11, \"Chi2Prob_GenTk\": 0.5024422554799035, \"Chi2_GenTk\": 18.7651710284218}, {\"primary_dataset\": \"ZeroBias\", \"run_id\": 12, \"Chi2Prob_GenTk\": 0.4928669449135506, \"Chi2_GenTk\": 18.99422262775484}, {\"primary_dataset\": \"ZeroBias\", \"run_id\": 13, \"Chi2Prob_GenTk\": 0.5159822636869169, \"Chi2_GenTk\": 18.91926326256217}, {\"primary_dataset\": \"ZeroBias\", \"run_id\": 14, \"Chi2Prob_GenTk\": 0.5209997316173064, \"Chi2_GenTk\": 18.93647897561344}, {\"primary_dataset\": \"ZeroBias\", \"run_id\": 15, \"Chi2Prob_GenTk\": 0.4743786673806435, \"Chi2_GenTk\": 19.28660204482483}, {\"primary_dataset\": \"ZeroBias\", \"run_id\": 16, \"Chi2Prob_GenTk\": 0.4802291994381151, \"Chi2_GenTk\": 19.23894102435025}, {\"primary_dataset\": \"ZeroBias\", \"run_id\": 17, \"Chi2Prob_GenTk\": 0.4865932673350613, \"Chi2_GenTk\": 19.03512858140303}, {\"primary_dataset\": \"ZeroBias\", \"run_id\": 18, \"Chi2Prob_GenTk\": 0.5080251839720948, \"Chi2_GenTk\": 18.81668652953581}, {\"primary_dataset\": \"ZeroBias\", \"run_id\": 19, \"Chi2Prob_GenTk\": 0.4803141196014051, \"Chi2_GenTk\": 19.20818710780963}, {\"primary_dataset\": \"ZeroBias\", \"run_id\": 20, \"Chi2Prob_GenTk\": 0.4791619600845289, \"Chi2_GenTk\": 19.278125553762745}, {\"primary_dataset\": \"ZeroBias\", \"run_id\": 21, \"Chi2Prob_GenTk\": 0.478273615792939, \"Chi2_GenTk\": 19.304584677467147}, {\"primary_dataset\": \"ZeroBias\", \"run_id\": 22, \"Chi2Prob_GenTk\": 0.4885024822623047, \"Chi2_GenTk\": 19.04818377479673}, {\"primary_dataset\": \"ZeroBias\", \"run_id\": 23, \"Chi2Prob_GenTk\": 0.480538703629882, \"Chi2_GenTk\": 19.21664093415193}, {\"primary_dataset\": \"ZeroBias\", \"run_id\": 24, \"Chi2Prob_GenTk\": 0.4824130849071779, \"Chi2_GenTk\": 19.176689230088755}, {\"primary_dataset\": \"ZeroBias\", \"run_id\": 25, \"Chi2Prob_GenTk\": 0.4877103413567502, \"Chi2_GenTk\": 19.048100592239944}, {\"primary_dataset\": \"ZeroBias\", \"run_id\": 26, \"Chi2Prob_GenTk\": 0.4880434618389533, \"Chi2_GenTk\": 18.99856740836581}, {\"primary_dataset\": \"ZeroBias\", \"run_id\": 27, \"Chi2Prob_GenTk\": 0.5024080943263796, \"Chi2_GenTk\": 18.8325337084852}, {\"primary_dataset\": \"ZeroBias\", \"run_id\": 28, \"Chi2Prob_GenTk\": 0.5167672009570166, \"Chi2_GenTk\": 18.80152357940686}, {\"primary_dataset\": \"ZeroBias\", \"run_id\": 29, \"Chi2Prob_GenTk\": 0.5223943042239432, \"Chi2_GenTk\": 18.928638562053663}, {\"primary_dataset\": \"ZeroBias\", \"run_id\": 30, \"Chi2Prob_GenTk\": 0.5231828800057363, \"Chi2_GenTk\": 18.92615118577149}, {\"primary_dataset\": \"ZeroBias\", \"run_id\": 31, \"Chi2Prob_GenTk\": 0.5006725383083674, \"Chi2_GenTk\": 18.89238536940157}, {\"primary_dataset\": \"ZeroBias\", \"run_id\": 32, \"Chi2Prob_GenTk\": 0.5194375599811885, \"Chi2_GenTk\": 18.891990894848732}, {\"primary_dataset\": \"ZeroBias\", \"run_id\": 33, \"Chi2Prob_GenTk\": 0.5000378425601469, \"Chi2_GenTk\": 18.96663105352123}, {\"primary_dataset\": \"ZeroBias\", \"run_id\": 34, \"Chi2Prob_GenTk\": 0.5062088882960233, \"Chi2_GenTk\": 18.903173728420217}, {\"primary_dataset\": \"ZeroBias\", \"run_id\": 35, \"Chi2Prob_GenTk\": 0.5150651014847222, \"Chi2_GenTk\": 18.92115253200052}, {\"primary_dataset\": \"ZeroBias\", \"run_id\": 36, \"Chi2Prob_GenTk\": 0.5232989767220786, \"Chi2_GenTk\": 19.156979876392658}, {\"primary_dataset\": \"ZeroBias\", \"run_id\": 37, \"Chi2Prob_GenTk\": 0.5004615660460309, \"Chi2_GenTk\": 19.17183253731039}, {\"primary_dataset\": \"ZeroBias\", \"run_id\": 38, \"Chi2Prob_GenTk\": 0.4960040058842861, \"Chi2_GenTk\": 19.245258053643347}, {\"primary_dataset\": \"ZeroBias\", \"run_id\": 39, \"Chi2Prob_GenTk\": 0.4817683027953416, \"Chi2_GenTk\": 19.495814543494}, {\"primary_dataset\": \"ZeroBias\", \"run_id\": 40, \"Chi2Prob_GenTk\": 0.4850931751399719, \"Chi2_GenTk\": 19.40601865516601}, {\"primary_dataset\": \"ZeroBias\", \"run_id\": 41, \"Chi2Prob_GenTk\": 0.4877820931554227, \"Chi2_GenTk\": 19.34231185575187}, {\"primary_dataset\": \"ZeroBias\", \"run_id\": 42, \"Chi2Prob_GenTk\": 0.4891257177502969, \"Chi2_GenTk\": 19.35945882834939}, {\"primary_dataset\": \"ZeroBias\", \"run_id\": 43, \"Chi2Prob_GenTk\": 0.5022536363601098, \"Chi2_GenTk\": 19.187103332253525}, {\"primary_dataset\": \"ZeroBias\", \"run_id\": 44, \"Chi2Prob_GenTk\": 0.5105254140533502, \"Chi2_GenTk\": 19.124232997193594}, {\"primary_dataset\": \"ZeroBias\", \"run_id\": 46, \"Chi2Prob_GenTk\": 0.5243802673646214, \"Chi2_GenTk\": 19.153625039400563}, {\"primary_dataset\": \"ZeroBias\", \"run_id\": 47, \"Chi2Prob_GenTk\": 0.5005117778597711, \"Chi2_GenTk\": 19.16472277950856}, {\"primary_dataset\": \"ZeroBias\", \"run_id\": 48, \"Chi2Prob_GenTk\": 0.5126126307206872, \"Chi2_GenTk\": 19.12346693544841}, {\"primary_dataset\": \"ZeroBias\", \"run_id\": 49, \"Chi2Prob_GenTk\": 0.505837983704785, \"Chi2_GenTk\": 19.13830856342651}, {\"primary_dataset\": \"ZeroBias\", \"run_id\": 50, \"Chi2Prob_GenTk\": 0.5050468450718999, \"Chi2_GenTk\": 19.139479536098097}, {\"primary_dataset\": \"ZeroBias\", \"run_id\": 51, \"Chi2Prob_GenTk\": 0.5164121366647048, \"Chi2_GenTk\": 19.086273667282452}, {\"primary_dataset\": \"ZeroBias\", \"run_id\": 52, \"Chi2Prob_GenTk\": 0.4976234799881626, \"Chi2_GenTk\": 18.86258613575725}, {\"primary_dataset\": \"ZeroBias\", \"run_id\": 53, \"Chi2Prob_GenTk\": 0.5023566006085035, \"Chi2_GenTk\": 18.838694180952768}, {\"primary_dataset\": \"ZeroBias\", \"run_id\": 54, \"Chi2Prob_GenTk\": 0.4796837559485236, \"Chi2_GenTk\": 19.09416807795725}, {\"primary_dataset\": \"ZeroBias\", \"run_id\": 55, \"Chi2Prob_GenTk\": 0.4871278261980555, \"Chi2_GenTk\": 18.95892916360398}]}}, {\"mode\": \"vega-lite\"});\n",
       "</script>"
      ],
      "text/plain": [
       "alt.VConcatChart(...)"
      ]
     },
     "execution_count": 24,
     "metadata": {},
     "output_type": "execute_result"
    }
   ],
   "source": [
    "EGamma & SingleMuon & JetHT & ZeroBias"
   ]
  },
  {
   "cell_type": "code",
   "execution_count": null,
   "id": "b74199fb",
   "metadata": {},
   "outputs": [],
   "source": []
  },
  {
   "cell_type": "code",
   "execution_count": 27,
   "id": "a309a93c",
   "metadata": {},
   "outputs": [],
   "source": [
    "# Add table\n",
    "# https://altair-viz.github.io/gallery/scatter_linked_table.html"
   ]
  },
  {
   "cell_type": "code",
   "execution_count": null,
   "id": "4901bad6",
   "metadata": {},
   "outputs": [],
   "source": []
  }
 ],
 "metadata": {
  "kernelspec": {
   "display_name": "Django Shell-Plus",
   "language": "python",
   "name": "django_extensions"
  },
  "language_info": {
   "codemirror_mode": {
    "name": "ipython",
    "version": 3
   },
   "file_extension": ".py",
   "mimetype": "text/x-python",
   "name": "python",
   "nbconvert_exporter": "python",
   "pygments_lexer": "ipython3",
   "version": "3.9.7"
  }
 },
 "nbformat": 4,
 "nbformat_minor": 5
}
